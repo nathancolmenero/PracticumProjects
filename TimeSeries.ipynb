{
 "cells": [
  {
   "cell_type": "markdown",
   "metadata": {},
   "source": [
    "# Project description\n",
    "\n",
    "Sweet Lift Taxi company has collected historical data on taxi orders at airports. To attract more drivers during peak hours, we need to predict the amount of taxi orders for the next hour. We will build a model for such a prediction.\n",
    "\n",
    "The RMSE metric on the test set should not be more than 48.\n",
    "\n",
    "## Project instructions\n",
    "\n",
    "1. Download the data and resample it by one hour.\n",
    "2. Analyze the data.\n",
    "3. Train different models with different hyperparameters. The test sample should be 10% of the initial dataset. \n",
    "4. Test the data using the test sample and provide a conclusion.\n",
    "\n",
    "## Data description\n",
    "\n",
    "The data is stored in file `taxi.csv`. The number of orders is in the '*num_orders*' column."
   ]
  },
  {
   "cell_type": "markdown",
   "metadata": {},
   "source": [
    "## Preparation"
   ]
  },
  {
   "cell_type": "code",
   "execution_count": 1,
   "metadata": {},
   "outputs": [],
   "source": [
    "# Loading libraries\n",
    "import numpy as np\n",
    "import pandas as pd\n",
    "import seaborn as sns\n",
    "sns.set_style(\"darkgrid\")\n",
    "import matplotlib.pyplot as plt\n",
    "from pylab import rcParams\n",
    "rcParams['figure.figsize'] = 12,6\n",
    "\n",
    "from sklearn.linear_model import LinearRegression\n",
    "from sklearn.tree import DecisionTreeRegressor\n",
    "from sklearn.ensemble import RandomForestRegressor\n",
    "from catboost import CatBoostRegressor\n",
    "from lightgbm import LGBMRegressor\n",
    "from xgboost import XGBRegressor\n",
    "\n",
    "from sklearn.model_selection import train_test_split\n",
    "from sklearn.model_selection import GridSearchCV, TimeSeriesSplit\n",
    "from sklearn.metrics import mean_squared_error, mean_absolute_error, make_scorer\n",
    "from catboost import CatBoostRegressor\n",
    "from statsmodels.tsa.seasonal import seasonal_decompose\n",
    "\n",
    "import warnings\n",
    "warnings.filterwarnings('ignore')\n"
   ]
  },
  {
   "cell_type": "code",
   "execution_count": 2,
   "metadata": {},
   "outputs": [],
   "source": [
    "df = pd.read_csv('/datasets/taxi.csv')\n"
   ]
  },
  {
   "cell_type": "code",
   "execution_count": 3,
   "metadata": {},
   "outputs": [
    {
     "data": {
      "text/html": [
       "<div>\n",
       "<style scoped>\n",
       "    .dataframe tbody tr th:only-of-type {\n",
       "        vertical-align: middle;\n",
       "    }\n",
       "\n",
       "    .dataframe tbody tr th {\n",
       "        vertical-align: top;\n",
       "    }\n",
       "\n",
       "    .dataframe thead th {\n",
       "        text-align: right;\n",
       "    }\n",
       "</style>\n",
       "<table border=\"1\" class=\"dataframe\">\n",
       "  <thead>\n",
       "    <tr style=\"text-align: right;\">\n",
       "      <th></th>\n",
       "      <th>datetime</th>\n",
       "      <th>num_orders</th>\n",
       "    </tr>\n",
       "  </thead>\n",
       "  <tbody>\n",
       "    <tr>\n",
       "      <th>0</th>\n",
       "      <td>2018-03-01 00:00:00</td>\n",
       "      <td>9</td>\n",
       "    </tr>\n",
       "    <tr>\n",
       "      <th>1</th>\n",
       "      <td>2018-03-01 00:10:00</td>\n",
       "      <td>14</td>\n",
       "    </tr>\n",
       "    <tr>\n",
       "      <th>2</th>\n",
       "      <td>2018-03-01 00:20:00</td>\n",
       "      <td>28</td>\n",
       "    </tr>\n",
       "    <tr>\n",
       "      <th>3</th>\n",
       "      <td>2018-03-01 00:30:00</td>\n",
       "      <td>20</td>\n",
       "    </tr>\n",
       "    <tr>\n",
       "      <th>4</th>\n",
       "      <td>2018-03-01 00:40:00</td>\n",
       "      <td>32</td>\n",
       "    </tr>\n",
       "  </tbody>\n",
       "</table>\n",
       "</div>"
      ],
      "text/plain": [
       "              datetime  num_orders\n",
       "0  2018-03-01 00:00:00           9\n",
       "1  2018-03-01 00:10:00          14\n",
       "2  2018-03-01 00:20:00          28\n",
       "3  2018-03-01 00:30:00          20\n",
       "4  2018-03-01 00:40:00          32"
      ]
     },
     "execution_count": 3,
     "metadata": {},
     "output_type": "execute_result"
    }
   ],
   "source": [
    "df.head()\n"
   ]
  },
  {
   "cell_type": "code",
   "execution_count": 4,
   "metadata": {},
   "outputs": [
    {
     "name": "stdout",
     "output_type": "stream",
     "text": [
      "<class 'pandas.core.frame.DataFrame'>\n",
      "RangeIndex: 26496 entries, 0 to 26495\n",
      "Data columns (total 2 columns):\n",
      " #   Column      Non-Null Count  Dtype \n",
      "---  ------      --------------  ----- \n",
      " 0   datetime    26496 non-null  object\n",
      " 1   num_orders  26496 non-null  int64 \n",
      "dtypes: int64(1), object(1)\n",
      "memory usage: 414.1+ KB\n"
     ]
    }
   ],
   "source": [
    "df.info()\n"
   ]
  },
  {
   "cell_type": "code",
   "execution_count": 5,
   "metadata": {},
   "outputs": [
    {
     "data": {
      "text/plain": [
       "datetime      0\n",
       "num_orders    0\n",
       "dtype: int64"
      ]
     },
     "execution_count": 5,
     "metadata": {},
     "output_type": "execute_result"
    }
   ],
   "source": [
    "# Checking null values\n",
    "df.isna().sum()\n"
   ]
  },
  {
   "cell_type": "code",
   "execution_count": 6,
   "metadata": {},
   "outputs": [
    {
     "data": {
      "text/plain": [
       "0"
      ]
     },
     "execution_count": 6,
     "metadata": {},
     "output_type": "execute_result"
    }
   ],
   "source": [
    "# Checking duplicates\n",
    "df.duplicated().sum()\n"
   ]
  },
  {
   "cell_type": "code",
   "execution_count": 7,
   "metadata": {},
   "outputs": [
    {
     "data": {
      "image/png": "[encoded data removed]",
      "text/plain": [
       "<Figure size 864x432 with 1 Axes>"
      ]
     },
     "metadata": {},
     "output_type": "display_data"
    }
   ],
   "source": [
    "# Checking distribution of data\n",
    "df.plot(kind='hist')\n",
    "plt.title('Num Orders Histogram')\n",
    "plt.show()\n"
   ]
  },
  {
   "cell_type": "markdown",
   "metadata": {},
   "source": [
    "* We can see a right skewed distribution on the histogram."
   ]
  },
  {
   "cell_type": "code",
   "execution_count": 8,
   "metadata": {},
   "outputs": [],
   "source": [
    "df = pd.read_csv('/datasets/taxi.csv', index_col=[0], parse_dates=[0])\n"
   ]
  },
  {
   "cell_type": "code",
   "execution_count": 9,
   "metadata": {},
   "outputs": [
    {
     "data": {
      "text/html": [
       "<div>\n",
       "<style scoped>\n",
       "    .dataframe tbody tr th:only-of-type {\n",
       "        vertical-align: middle;\n",
       "    }\n",
       "\n",
       "    .dataframe tbody tr th {\n",
       "        vertical-align: top;\n",
       "    }\n",
       "\n",
       "    .dataframe thead th {\n",
       "        text-align: right;\n",
       "    }\n",
       "</style>\n",
       "<table border=\"1\" class=\"dataframe\">\n",
       "  <thead>\n",
       "    <tr style=\"text-align: right;\">\n",
       "      <th></th>\n",
       "      <th>num_orders</th>\n",
       "    </tr>\n",
       "    <tr>\n",
       "      <th>datetime</th>\n",
       "      <th></th>\n",
       "    </tr>\n",
       "  </thead>\n",
       "  <tbody>\n",
       "    <tr>\n",
       "      <th>2018-03-01 00:00:00</th>\n",
       "      <td>9</td>\n",
       "    </tr>\n",
       "    <tr>\n",
       "      <th>2018-03-01 00:10:00</th>\n",
       "      <td>14</td>\n",
       "    </tr>\n",
       "    <tr>\n",
       "      <th>2018-03-01 00:20:00</th>\n",
       "      <td>28</td>\n",
       "    </tr>\n",
       "    <tr>\n",
       "      <th>2018-03-01 00:30:00</th>\n",
       "      <td>20</td>\n",
       "    </tr>\n",
       "    <tr>\n",
       "      <th>2018-03-01 00:40:00</th>\n",
       "      <td>32</td>\n",
       "    </tr>\n",
       "  </tbody>\n",
       "</table>\n",
       "</div>"
      ],
      "text/plain": [
       "                     num_orders\n",
       "datetime                       \n",
       "2018-03-01 00:00:00           9\n",
       "2018-03-01 00:10:00          14\n",
       "2018-03-01 00:20:00          28\n",
       "2018-03-01 00:30:00          20\n",
       "2018-03-01 00:40:00          32"
      ]
     },
     "execution_count": 9,
     "metadata": {},
     "output_type": "execute_result"
    }
   ],
   "source": [
    "df.head()\n"
   ]
  },
  {
   "cell_type": "code",
   "execution_count": 10,
   "metadata": {},
   "outputs": [
    {
     "data": {
      "text/plain": [
       "True"
      ]
     },
     "execution_count": 10,
     "metadata": {},
     "output_type": "execute_result"
    }
   ],
   "source": [
    "df.index.is_monotonic\n"
   ]
  },
  {
   "cell_type": "markdown",
   "metadata": {},
   "source": [
    "### Conclusion"
   ]
  },
  {
   "cell_type": "markdown",
   "metadata": {},
   "source": [
    "* Data contains 26496 rows and 2 columns which are datetime and num_orders.\n",
    "* Date column data type should be datetime data type.\n",
    "* No missing values\n",
    "* Data has right skewed distribution.\n",
    "* Parsed the date data type into datetime.\n"
   ]
  },
  {
   "cell_type": "markdown",
   "metadata": {},
   "source": [
    "## Analysis"
   ]
  },
  {
   "cell_type": "markdown",
   "metadata": {},
   "source": [
    "Resampling by 1 hour, 1 week and 1 month."
   ]
  },
  {
   "cell_type": "code",
   "execution_count": 11,
   "metadata": {},
   "outputs": [],
   "source": [
    "df_monthly = df.resample('1M').sum()\n",
    "df_weekly = df.resample('1W').sum()\n",
    "df_hourly = df.resample('1H').sum()\n"
   ]
  },
  {
   "cell_type": "code",
   "execution_count": 12,
   "metadata": {},
   "outputs": [
    {
     "data": {
      "image/png": "[encoded data removed]",
      "text/plain": [
       "<Figure size 864x432 with 1 Axes>"
      ]
     },
     "metadata": {},
     "output_type": "display_data"
    }
   ],
   "source": [
    "# Plotting monthly orders\n",
    "sns.lineplot(x=df_monthly.index,y=df_monthly['num_orders'])\n",
    "plt.title('Monthly Orders')\n",
    "plt.show()\n"
   ]
  },
  {
   "cell_type": "code",
   "execution_count": 13,
   "metadata": {},
   "outputs": [
    {
     "data": {
      "image/png": "[encoded data removed]",
      "text/plain": [
       "<Figure size 864x432 with 1 Axes>"
      ]
     },
     "metadata": {},
     "output_type": "display_data"
    }
   ],
   "source": [
    "# Plotting weekly orders\n",
    "sns.lineplot(x=df_weekly.index,y=df_weekly['num_orders'])\n",
    "plt.title('Weekly Orders')\n",
    "plt.show()\n"
   ]
  },
  {
   "cell_type": "code",
   "execution_count": 14,
   "metadata": {},
   "outputs": [
    {
     "data": {
      "image/png": "[encoded data removed]",
      "text/plain": [
       "<Figure size 864x432 with 1 Axes>"
      ]
     },
     "metadata": {},
     "output_type": "display_data"
    }
   ],
   "source": [
    "# Plotting hourly orders\n",
    "sns.lineplot(x=df_hourly.index,y=df_hourly['num_orders'])\n",
    "plt.title('Hourly Orders')\n",
    "plt.show()\n"
   ]
  },
  {
   "cell_type": "code",
   "execution_count": 15,
   "metadata": {},
   "outputs": [
    {
     "data": {
      "image/png": "[encoded data removed]",
      "text/plain": [
       "<Figure size 864x432 with 1 Axes>"
      ]
     },
     "metadata": {},
     "output_type": "display_data"
    }
   ],
   "source": [
    "# Hourly Histogram\n",
    "df_hourly.plot(kind='hist')\n",
    "plt.title('Hourly Orders Histogram')\n",
    "plt.show()\n"
   ]
  },
  {
   "cell_type": "code",
   "execution_count": 16,
   "metadata": {},
   "outputs": [
    {
     "data": {
      "image/png": "[encoded data removed]",
      "text/plain": [
       "<Figure size 864x432 with 1 Axes>"
      ]
     },
     "metadata": {},
     "output_type": "display_data"
    }
   ],
   "source": [
    "# Boxplot hourly\n",
    "df_hourly.boxplot()\n",
    "plt.title('Hourly Orders Boxplot')\n",
    "plt.show()\n"
   ]
  },
  {
   "cell_type": "code",
   "execution_count": 17,
   "metadata": {},
   "outputs": [
    {
     "data": {
      "text/html": [
       "<div>\n",
       "<style scoped>\n",
       "    .dataframe tbody tr th:only-of-type {\n",
       "        vertical-align: middle;\n",
       "    }\n",
       "\n",
       "    .dataframe tbody tr th {\n",
       "        vertical-align: top;\n",
       "    }\n",
       "\n",
       "    .dataframe thead th {\n",
       "        text-align: right;\n",
       "    }\n",
       "</style>\n",
       "<table border=\"1\" class=\"dataframe\">\n",
       "  <thead>\n",
       "    <tr style=\"text-align: right;\">\n",
       "      <th></th>\n",
       "      <th>num_orders</th>\n",
       "    </tr>\n",
       "  </thead>\n",
       "  <tbody>\n",
       "    <tr>\n",
       "      <th>count</th>\n",
       "      <td>4416.000000</td>\n",
       "    </tr>\n",
       "    <tr>\n",
       "      <th>mean</th>\n",
       "      <td>84.422781</td>\n",
       "    </tr>\n",
       "    <tr>\n",
       "      <th>std</th>\n",
       "      <td>45.023853</td>\n",
       "    </tr>\n",
       "    <tr>\n",
       "      <th>min</th>\n",
       "      <td>0.000000</td>\n",
       "    </tr>\n",
       "    <tr>\n",
       "      <th>25%</th>\n",
       "      <td>54.000000</td>\n",
       "    </tr>\n",
       "    <tr>\n",
       "      <th>50%</th>\n",
       "      <td>78.000000</td>\n",
       "    </tr>\n",
       "    <tr>\n",
       "      <th>75%</th>\n",
       "      <td>107.000000</td>\n",
       "    </tr>\n",
       "    <tr>\n",
       "      <th>max</th>\n",
       "      <td>462.000000</td>\n",
       "    </tr>\n",
       "  </tbody>\n",
       "</table>\n",
       "</div>"
      ],
      "text/plain": [
       "        num_orders\n",
       "count  4416.000000\n",
       "mean     84.422781\n",
       "std      45.023853\n",
       "min       0.000000\n",
       "25%      54.000000\n",
       "50%      78.000000\n",
       "75%     107.000000\n",
       "max     462.000000"
      ]
     },
     "execution_count": 17,
     "metadata": {},
     "output_type": "execute_result"
    }
   ],
   "source": [
    "df_hourly.describe()\n"
   ]
  },
  {
   "cell_type": "code",
   "execution_count": 18,
   "metadata": {},
   "outputs": [
    {
     "data": {
      "text/plain": [
       "<AxesSubplot:xlabel='datetime'>"
      ]
     },
     "execution_count": 18,
     "metadata": {},
     "output_type": "execute_result"
    },
    {
     "data": {
      "image/png": "[encoded data removed]",
      "text/plain": [
       "<Figure size 864x432 with 1 Axes>"
      ]
     },
     "metadata": {},
     "output_type": "display_data"
    }
   ],
   "source": [
    "\n",
    "df_hourly['mean'] = df_hourly['num_orders'].rolling(25).mean()\n",
    "df_hourly['std'] = df_hourly['num_orders'].rolling(25).std()\n",
    "df_hourly.plot()\n"
   ]
  },
  {
   "cell_type": "markdown",
   "metadata": {},
   "source": [
    "The moving average and moving standard deviation."
   ]
  },
  {
   "cell_type": "markdown",
   "metadata": {},
   "source": [
    "### Conclusion"
   ]
  },
  {
   "cell_type": "markdown",
   "metadata": {},
   "source": [
    "* From the chart, the number of orders is gradually increasing each month."
   ]
  },
  {
   "cell_type": "markdown",
   "metadata": {},
   "source": [
    "## Training"
   ]
  },
  {
   "cell_type": "code",
   "execution_count": 19,
   "metadata": {},
   "outputs": [],
   "source": [
    "# Resampling 1 hour\n",
    "df = df.resample('1H').sum()\n"
   ]
  },
  {
   "cell_type": "code",
   "execution_count": 20,
   "metadata": {},
   "outputs": [],
   "source": [
    "# Creating features\n",
    "def make_features(data, max_lag, rolling_mean_size):\n",
    "    data['dayofweek'] = data.index.dayofweek\n",
    "    data['hour'] = data.index.hour\n",
    "    \n",
    "    for lag in range(1, max_lag + 1):\n",
    "        data['lag_{}'.format(lag)] = data['num_orders'].shift(lag)\n",
    "\n",
    "    data['rolling_mean'] = data['num_orders'].shift().rolling(rolling_mean_size).mean()\n",
    "\n",
    "make_features(df, 9, 9)\n"
   ]
  },
  {
   "cell_type": "code",
   "execution_count": 21,
   "metadata": {},
   "outputs": [
    {
     "data": {
      "text/html": [
       "<div>\n",
       "<style scoped>\n",
       "    .dataframe tbody tr th:only-of-type {\n",
       "        vertical-align: middle;\n",
       "    }\n",
       "\n",
       "    .dataframe tbody tr th {\n",
       "        vertical-align: top;\n",
       "    }\n",
       "\n",
       "    .dataframe thead th {\n",
       "        text-align: right;\n",
       "    }\n",
       "</style>\n",
       "<table border=\"1\" class=\"dataframe\">\n",
       "  <thead>\n",
       "    <tr style=\"text-align: right;\">\n",
       "      <th></th>\n",
       "      <th>num_orders</th>\n",
       "      <th>dayofweek</th>\n",
       "      <th>hour</th>\n",
       "      <th>lag_1</th>\n",
       "      <th>lag_2</th>\n",
       "      <th>lag_3</th>\n",
       "      <th>lag_4</th>\n",
       "      <th>lag_5</th>\n",
       "      <th>lag_6</th>\n",
       "      <th>lag_7</th>\n",
       "      <th>lag_8</th>\n",
       "      <th>lag_9</th>\n",
       "      <th>rolling_mean</th>\n",
       "    </tr>\n",
       "  </thead>\n",
       "  <tbody>\n",
       "    <tr>\n",
       "      <th>count</th>\n",
       "      <td>4416.000000</td>\n",
       "      <td>4416.000000</td>\n",
       "      <td>4416.00000</td>\n",
       "      <td>4415.000000</td>\n",
       "      <td>4414.000000</td>\n",
       "      <td>4413.000000</td>\n",
       "      <td>4412.000000</td>\n",
       "      <td>4411.000000</td>\n",
       "      <td>4410.000000</td>\n",
       "      <td>4409.000000</td>\n",
       "      <td>4408.000000</td>\n",
       "      <td>4407.000000</td>\n",
       "      <td>4407.000000</td>\n",
       "    </tr>\n",
       "    <tr>\n",
       "      <th>mean</th>\n",
       "      <td>84.422781</td>\n",
       "      <td>3.005435</td>\n",
       "      <td>11.50000</td>\n",
       "      <td>84.395470</td>\n",
       "      <td>84.364069</td>\n",
       "      <td>84.347156</td>\n",
       "      <td>84.331369</td>\n",
       "      <td>84.319655</td>\n",
       "      <td>84.291837</td>\n",
       "      <td>84.261737</td>\n",
       "      <td>84.236162</td>\n",
       "      <td>84.228954</td>\n",
       "      <td>84.320198</td>\n",
       "    </tr>\n",
       "    <tr>\n",
       "      <th>std</th>\n",
       "      <td>45.023853</td>\n",
       "      <td>1.990684</td>\n",
       "      <td>6.92297</td>\n",
       "      <td>44.992356</td>\n",
       "      <td>44.949043</td>\n",
       "      <td>44.940088</td>\n",
       "      <td>44.932942</td>\n",
       "      <td>44.931299</td>\n",
       "      <td>44.898387</td>\n",
       "      <td>44.858959</td>\n",
       "      <td>44.831888</td>\n",
       "      <td>44.834421</td>\n",
       "      <td>30.263125</td>\n",
       "    </tr>\n",
       "    <tr>\n",
       "      <th>min</th>\n",
       "      <td>0.000000</td>\n",
       "      <td>0.000000</td>\n",
       "      <td>0.00000</td>\n",
       "      <td>0.000000</td>\n",
       "      <td>0.000000</td>\n",
       "      <td>0.000000</td>\n",
       "      <td>0.000000</td>\n",
       "      <td>0.000000</td>\n",
       "      <td>0.000000</td>\n",
       "      <td>0.000000</td>\n",
       "      <td>0.000000</td>\n",
       "      <td>0.000000</td>\n",
       "      <td>25.888889</td>\n",
       "    </tr>\n",
       "    <tr>\n",
       "      <th>25%</th>\n",
       "      <td>54.000000</td>\n",
       "      <td>1.000000</td>\n",
       "      <td>5.75000</td>\n",
       "      <td>54.000000</td>\n",
       "      <td>54.000000</td>\n",
       "      <td>54.000000</td>\n",
       "      <td>54.000000</td>\n",
       "      <td>54.000000</td>\n",
       "      <td>54.000000</td>\n",
       "      <td>54.000000</td>\n",
       "      <td>54.000000</td>\n",
       "      <td>54.000000</td>\n",
       "      <td>62.555556</td>\n",
       "    </tr>\n",
       "    <tr>\n",
       "      <th>50%</th>\n",
       "      <td>78.000000</td>\n",
       "      <td>3.000000</td>\n",
       "      <td>11.50000</td>\n",
       "      <td>78.000000</td>\n",
       "      <td>78.000000</td>\n",
       "      <td>78.000000</td>\n",
       "      <td>78.000000</td>\n",
       "      <td>78.000000</td>\n",
       "      <td>78.000000</td>\n",
       "      <td>78.000000</td>\n",
       "      <td>78.000000</td>\n",
       "      <td>78.000000</td>\n",
       "      <td>79.888889</td>\n",
       "    </tr>\n",
       "    <tr>\n",
       "      <th>75%</th>\n",
       "      <td>107.000000</td>\n",
       "      <td>5.000000</td>\n",
       "      <td>17.25000</td>\n",
       "      <td>107.000000</td>\n",
       "      <td>107.000000</td>\n",
       "      <td>107.000000</td>\n",
       "      <td>107.000000</td>\n",
       "      <td>107.000000</td>\n",
       "      <td>107.000000</td>\n",
       "      <td>107.000000</td>\n",
       "      <td>107.000000</td>\n",
       "      <td>107.000000</td>\n",
       "      <td>101.111111</td>\n",
       "    </tr>\n",
       "    <tr>\n",
       "      <th>max</th>\n",
       "      <td>462.000000</td>\n",
       "      <td>6.000000</td>\n",
       "      <td>23.00000</td>\n",
       "      <td>462.000000</td>\n",
       "      <td>462.000000</td>\n",
       "      <td>462.000000</td>\n",
       "      <td>462.000000</td>\n",
       "      <td>462.000000</td>\n",
       "      <td>462.000000</td>\n",
       "      <td>462.000000</td>\n",
       "      <td>462.000000</td>\n",
       "      <td>462.000000</td>\n",
       "      <td>223.111111</td>\n",
       "    </tr>\n",
       "  </tbody>\n",
       "</table>\n",
       "</div>"
      ],
      "text/plain": [
       "        num_orders    dayofweek        hour        lag_1        lag_2  \\\n",
       "count  4416.000000  4416.000000  4416.00000  4415.000000  4414.000000   \n",
       "mean     84.422781     3.005435    11.50000    84.395470    84.364069   \n",
       "std      45.023853     1.990684     6.92297    44.992356    44.949043   \n",
       "min       0.000000     0.000000     0.00000     0.000000     0.000000   \n",
       "25%      54.000000     1.000000     5.75000    54.000000    54.000000   \n",
       "50%      78.000000     3.000000    11.50000    78.000000    78.000000   \n",
       "75%     107.000000     5.000000    17.25000   107.000000   107.000000   \n",
       "max     462.000000     6.000000    23.00000   462.000000   462.000000   \n",
       "\n",
       "             lag_3        lag_4        lag_5        lag_6        lag_7  \\\n",
       "count  4413.000000  4412.000000  4411.000000  4410.000000  4409.000000   \n",
       "mean     84.347156    84.331369    84.319655    84.291837    84.261737   \n",
       "std      44.940088    44.932942    44.931299    44.898387    44.858959   \n",
       "min       0.000000     0.000000     0.000000     0.000000     0.000000   \n",
       "25%      54.000000    54.000000    54.000000    54.000000    54.000000   \n",
       "50%      78.000000    78.000000    78.000000    78.000000    78.000000   \n",
       "75%     107.000000   107.000000   107.000000   107.000000   107.000000   \n",
       "max     462.000000   462.000000   462.000000   462.000000   462.000000   \n",
       "\n",
       "             lag_8        lag_9  rolling_mean  \n",
       "count  4408.000000  4407.000000   4407.000000  \n",
       "mean     84.236162    84.228954     84.320198  \n",
       "std      44.831888    44.834421     30.263125  \n",
       "min       0.000000     0.000000     25.888889  \n",
       "25%      54.000000    54.000000     62.555556  \n",
       "50%      78.000000    78.000000     79.888889  \n",
       "75%     107.000000   107.000000    101.111111  \n",
       "max     462.000000   462.000000    223.111111  "
      ]
     },
     "execution_count": 21,
     "metadata": {},
     "output_type": "execute_result"
    }
   ],
   "source": [
    "df.describe()\n"
   ]
  },
  {
   "cell_type": "code",
   "execution_count": 22,
   "metadata": {},
   "outputs": [],
   "source": [
    "# Splitting data into train, test samples and using test set for best model\n",
    "train, test = train_test_split(df, shuffle=False, test_size=0.5)\n",
    "train = train.dropna()\n"
   ]
  },
  {
   "cell_type": "code",
   "execution_count": 23,
   "metadata": {},
   "outputs": [],
   "source": [
    "# Splitting training data to test on all models\n",
    "train_1, samp_test = train_test_split(train, shuffle=False, test_size=0.5)\n",
    "train_1 = train_1.dropna()\n"
   ]
  },
  {
   "cell_type": "code",
   "execution_count": 24,
   "metadata": {},
   "outputs": [],
   "source": [
    "# To all test models\n",
    "X_train1 = train_1.drop(['num_orders'], axis=1)\n",
    "y_train1 = train_1['num_orders']\n",
    "X_test1 = samp_test.drop(['num_orders'],axis=1)\n",
    "y_test1 = samp_test['num_orders']"
   ]
  },
  {
   "cell_type": "code",
   "execution_count": 25,
   "metadata": {},
   "outputs": [],
   "source": [
    "# For best model later\n",
    "X_train = train.drop(['num_orders'], axis=1)\n",
    "y_train = train['num_orders']\n",
    "X_test = test.drop(['num_orders'],axis=1)\n",
    "y_test = test['num_orders']\n"
   ]
  },
  {
   "cell_type": "code",
   "execution_count": 26,
   "metadata": {},
   "outputs": [
    {
     "data": {
      "text/html": [
       "<div>\n",
       "<style scoped>\n",
       "    .dataframe tbody tr th:only-of-type {\n",
       "        vertical-align: middle;\n",
       "    }\n",
       "\n",
       "    .dataframe tbody tr th {\n",
       "        vertical-align: top;\n",
       "    }\n",
       "\n",
       "    .dataframe thead th {\n",
       "        text-align: right;\n",
       "    }\n",
       "</style>\n",
       "<table border=\"1\" class=\"dataframe\">\n",
       "  <thead>\n",
       "    <tr style=\"text-align: right;\">\n",
       "      <th></th>\n",
       "      <th>num_orders</th>\n",
       "      <th>dayofweek</th>\n",
       "      <th>hour</th>\n",
       "      <th>lag_1</th>\n",
       "      <th>lag_2</th>\n",
       "      <th>lag_3</th>\n",
       "      <th>lag_4</th>\n",
       "      <th>lag_5</th>\n",
       "      <th>lag_6</th>\n",
       "      <th>lag_7</th>\n",
       "      <th>lag_8</th>\n",
       "      <th>lag_9</th>\n",
       "      <th>rolling_mean</th>\n",
       "    </tr>\n",
       "    <tr>\n",
       "      <th>datetime</th>\n",
       "      <th></th>\n",
       "      <th></th>\n",
       "      <th></th>\n",
       "      <th></th>\n",
       "      <th></th>\n",
       "      <th></th>\n",
       "      <th></th>\n",
       "      <th></th>\n",
       "      <th></th>\n",
       "      <th></th>\n",
       "      <th></th>\n",
       "      <th></th>\n",
       "      <th></th>\n",
       "    </tr>\n",
       "  </thead>\n",
       "  <tbody>\n",
       "    <tr>\n",
       "      <th>2018-03-01 09:00:00</th>\n",
       "      <td>69</td>\n",
       "      <td>3</td>\n",
       "      <td>9</td>\n",
       "      <td>34.0</td>\n",
       "      <td>15.0</td>\n",
       "      <td>12.0</td>\n",
       "      <td>6.0</td>\n",
       "      <td>43.0</td>\n",
       "      <td>66.0</td>\n",
       "      <td>71.0</td>\n",
       "      <td>85.0</td>\n",
       "      <td>124.0</td>\n",
       "      <td>50.666667</td>\n",
       "    </tr>\n",
       "    <tr>\n",
       "      <th>2018-03-01 10:00:00</th>\n",
       "      <td>64</td>\n",
       "      <td>3</td>\n",
       "      <td>10</td>\n",
       "      <td>69.0</td>\n",
       "      <td>34.0</td>\n",
       "      <td>15.0</td>\n",
       "      <td>12.0</td>\n",
       "      <td>6.0</td>\n",
       "      <td>43.0</td>\n",
       "      <td>66.0</td>\n",
       "      <td>71.0</td>\n",
       "      <td>85.0</td>\n",
       "      <td>44.555556</td>\n",
       "    </tr>\n",
       "    <tr>\n",
       "      <th>2018-03-01 11:00:00</th>\n",
       "      <td>96</td>\n",
       "      <td>3</td>\n",
       "      <td>11</td>\n",
       "      <td>64.0</td>\n",
       "      <td>69.0</td>\n",
       "      <td>34.0</td>\n",
       "      <td>15.0</td>\n",
       "      <td>12.0</td>\n",
       "      <td>6.0</td>\n",
       "      <td>43.0</td>\n",
       "      <td>66.0</td>\n",
       "      <td>71.0</td>\n",
       "      <td>42.222222</td>\n",
       "    </tr>\n",
       "    <tr>\n",
       "      <th>2018-03-01 12:00:00</th>\n",
       "      <td>30</td>\n",
       "      <td>3</td>\n",
       "      <td>12</td>\n",
       "      <td>96.0</td>\n",
       "      <td>64.0</td>\n",
       "      <td>69.0</td>\n",
       "      <td>34.0</td>\n",
       "      <td>15.0</td>\n",
       "      <td>12.0</td>\n",
       "      <td>6.0</td>\n",
       "      <td>43.0</td>\n",
       "      <td>66.0</td>\n",
       "      <td>45.000000</td>\n",
       "    </tr>\n",
       "    <tr>\n",
       "      <th>2018-03-01 13:00:00</th>\n",
       "      <td>32</td>\n",
       "      <td>3</td>\n",
       "      <td>13</td>\n",
       "      <td>30.0</td>\n",
       "      <td>96.0</td>\n",
       "      <td>64.0</td>\n",
       "      <td>69.0</td>\n",
       "      <td>34.0</td>\n",
       "      <td>15.0</td>\n",
       "      <td>12.0</td>\n",
       "      <td>6.0</td>\n",
       "      <td>43.0</td>\n",
       "      <td>41.000000</td>\n",
       "    </tr>\n",
       "  </tbody>\n",
       "</table>\n",
       "</div>"
      ],
      "text/plain": [
       "                     num_orders  dayofweek  hour  lag_1  lag_2  lag_3  lag_4  \\\n",
       "datetime                                                                       \n",
       "2018-03-01 09:00:00          69          3     9   34.0   15.0   12.0    6.0   \n",
       "2018-03-01 10:00:00          64          3    10   69.0   34.0   15.0   12.0   \n",
       "2018-03-01 11:00:00          96          3    11   64.0   69.0   34.0   15.0   \n",
       "2018-03-01 12:00:00          30          3    12   96.0   64.0   69.0   34.0   \n",
       "2018-03-01 13:00:00          32          3    13   30.0   96.0   64.0   69.0   \n",
       "\n",
       "                     lag_5  lag_6  lag_7  lag_8  lag_9  rolling_mean  \n",
       "datetime                                                              \n",
       "2018-03-01 09:00:00   43.0   66.0   71.0   85.0  124.0     50.666667  \n",
       "2018-03-01 10:00:00    6.0   43.0   66.0   71.0   85.0     44.555556  \n",
       "2018-03-01 11:00:00   12.0    6.0   43.0   66.0   71.0     42.222222  \n",
       "2018-03-01 12:00:00   15.0   12.0    6.0   43.0   66.0     45.000000  \n",
       "2018-03-01 13:00:00   34.0   15.0   12.0    6.0   43.0     41.000000  "
      ]
     },
     "execution_count": 26,
     "metadata": {},
     "output_type": "execute_result"
    }
   ],
   "source": [
    "train_1.head()\n"
   ]
  },
  {
   "cell_type": "code",
   "execution_count": 27,
   "metadata": {},
   "outputs": [
    {
     "data": {
      "text/html": [
       "<div>\n",
       "<style scoped>\n",
       "    .dataframe tbody tr th:only-of-type {\n",
       "        vertical-align: middle;\n",
       "    }\n",
       "\n",
       "    .dataframe tbody tr th {\n",
       "        vertical-align: top;\n",
       "    }\n",
       "\n",
       "    .dataframe thead th {\n",
       "        text-align: right;\n",
       "    }\n",
       "</style>\n",
       "<table border=\"1\" class=\"dataframe\">\n",
       "  <thead>\n",
       "    <tr style=\"text-align: right;\">\n",
       "      <th></th>\n",
       "      <th>num_orders</th>\n",
       "      <th>dayofweek</th>\n",
       "      <th>hour</th>\n",
       "      <th>lag_1</th>\n",
       "      <th>lag_2</th>\n",
       "      <th>lag_3</th>\n",
       "      <th>lag_4</th>\n",
       "      <th>lag_5</th>\n",
       "      <th>lag_6</th>\n",
       "      <th>lag_7</th>\n",
       "      <th>lag_8</th>\n",
       "      <th>lag_9</th>\n",
       "      <th>rolling_mean</th>\n",
       "    </tr>\n",
       "    <tr>\n",
       "      <th>datetime</th>\n",
       "      <th></th>\n",
       "      <th></th>\n",
       "      <th></th>\n",
       "      <th></th>\n",
       "      <th></th>\n",
       "      <th></th>\n",
       "      <th></th>\n",
       "      <th></th>\n",
       "      <th></th>\n",
       "      <th></th>\n",
       "      <th></th>\n",
       "      <th></th>\n",
       "      <th></th>\n",
       "    </tr>\n",
       "  </thead>\n",
       "  <tbody>\n",
       "    <tr>\n",
       "      <th>2018-04-16 04:00:00</th>\n",
       "      <td>37</td>\n",
       "      <td>0</td>\n",
       "      <td>4</td>\n",
       "      <td>77.0</td>\n",
       "      <td>79.0</td>\n",
       "      <td>109.0</td>\n",
       "      <td>165.0</td>\n",
       "      <td>119.0</td>\n",
       "      <td>104.0</td>\n",
       "      <td>94.0</td>\n",
       "      <td>66.0</td>\n",
       "      <td>97.0</td>\n",
       "      <td>101.111111</td>\n",
       "    </tr>\n",
       "    <tr>\n",
       "      <th>2018-04-16 05:00:00</th>\n",
       "      <td>31</td>\n",
       "      <td>0</td>\n",
       "      <td>5</td>\n",
       "      <td>37.0</td>\n",
       "      <td>77.0</td>\n",
       "      <td>79.0</td>\n",
       "      <td>109.0</td>\n",
       "      <td>165.0</td>\n",
       "      <td>119.0</td>\n",
       "      <td>104.0</td>\n",
       "      <td>94.0</td>\n",
       "      <td>66.0</td>\n",
       "      <td>94.444444</td>\n",
       "    </tr>\n",
       "    <tr>\n",
       "      <th>2018-04-16 06:00:00</th>\n",
       "      <td>13</td>\n",
       "      <td>0</td>\n",
       "      <td>6</td>\n",
       "      <td>31.0</td>\n",
       "      <td>37.0</td>\n",
       "      <td>77.0</td>\n",
       "      <td>79.0</td>\n",
       "      <td>109.0</td>\n",
       "      <td>165.0</td>\n",
       "      <td>119.0</td>\n",
       "      <td>104.0</td>\n",
       "      <td>94.0</td>\n",
       "      <td>90.555556</td>\n",
       "    </tr>\n",
       "    <tr>\n",
       "      <th>2018-04-16 07:00:00</th>\n",
       "      <td>22</td>\n",
       "      <td>0</td>\n",
       "      <td>7</td>\n",
       "      <td>13.0</td>\n",
       "      <td>31.0</td>\n",
       "      <td>37.0</td>\n",
       "      <td>77.0</td>\n",
       "      <td>79.0</td>\n",
       "      <td>109.0</td>\n",
       "      <td>165.0</td>\n",
       "      <td>119.0</td>\n",
       "      <td>104.0</td>\n",
       "      <td>81.555556</td>\n",
       "    </tr>\n",
       "    <tr>\n",
       "      <th>2018-04-16 08:00:00</th>\n",
       "      <td>69</td>\n",
       "      <td>0</td>\n",
       "      <td>8</td>\n",
       "      <td>22.0</td>\n",
       "      <td>13.0</td>\n",
       "      <td>31.0</td>\n",
       "      <td>37.0</td>\n",
       "      <td>77.0</td>\n",
       "      <td>79.0</td>\n",
       "      <td>109.0</td>\n",
       "      <td>165.0</td>\n",
       "      <td>119.0</td>\n",
       "      <td>72.444444</td>\n",
       "    </tr>\n",
       "  </tbody>\n",
       "</table>\n",
       "</div>"
      ],
      "text/plain": [
       "                     num_orders  dayofweek  hour  lag_1  lag_2  lag_3  lag_4  \\\n",
       "datetime                                                                       \n",
       "2018-04-16 04:00:00          37          0     4   77.0   79.0  109.0  165.0   \n",
       "2018-04-16 05:00:00          31          0     5   37.0   77.0   79.0  109.0   \n",
       "2018-04-16 06:00:00          13          0     6   31.0   37.0   77.0   79.0   \n",
       "2018-04-16 07:00:00          22          0     7   13.0   31.0   37.0   77.0   \n",
       "2018-04-16 08:00:00          69          0     8   22.0   13.0   31.0   37.0   \n",
       "\n",
       "                     lag_5  lag_6  lag_7  lag_8  lag_9  rolling_mean  \n",
       "datetime                                                              \n",
       "2018-04-16 04:00:00  119.0  104.0   94.0   66.0   97.0    101.111111  \n",
       "2018-04-16 05:00:00  165.0  119.0  104.0   94.0   66.0     94.444444  \n",
       "2018-04-16 06:00:00  109.0  165.0  119.0  104.0   94.0     90.555556  \n",
       "2018-04-16 07:00:00   79.0  109.0  165.0  119.0  104.0     81.555556  \n",
       "2018-04-16 08:00:00   77.0   79.0  109.0  165.0  119.0     72.444444  "
      ]
     },
     "execution_count": 27,
     "metadata": {},
     "output_type": "execute_result"
    }
   ],
   "source": [
    "samp_test.head()\n"
   ]
  },
  {
   "cell_type": "code",
   "execution_count": 28,
   "metadata": {},
   "outputs": [
    {
     "name": "stdout",
     "output_type": "stream",
     "text": [
      "Training sample size: (1099, 12)\n",
      "Test sample size: (1100, 12)\n"
     ]
    }
   ],
   "source": [
    "print('Training sample size:', X_train1.shape)\n",
    "print('Test sample size:', X_test1.shape)\n"
   ]
  },
  {
   "cell_type": "markdown",
   "metadata": {},
   "source": [
    "# Linear Regression"
   ]
  },
  {
   "cell_type": "code",
   "execution_count": 29,
   "metadata": {},
   "outputs": [
    {
     "name": "stdout",
     "output_type": "stream",
     "text": [
      "RMSE: 30.44817213508371\n",
      "CPU times: user 3.95 ms, sys: 4.35 ms, total: 8.3 ms\n",
      "Wall time: 3.66 ms\n"
     ]
    }
   ],
   "source": [
    "%%time\n",
    "lr = LinearRegression()\n",
    "lr.fit(X_train1,y_train1)\n",
    "lr_predictions = lr.predict(X_test1)\n",
    "print('RMSE:', mean_squared_error(y_test1, lr_predictions)**0.5)\n"
   ]
  },
  {
   "cell_type": "markdown",
   "metadata": {},
   "source": [
    "# Decision Tree Regressor"
   ]
  },
  {
   "cell_type": "code",
   "execution_count": 30,
   "metadata": {},
   "outputs": [
    {
     "name": "stdout",
     "output_type": "stream",
     "text": [
      "RMSE: 33.74406345095117\n",
      "CPU times: user 12.6 ms, sys: 33.6 ms, total: 46.2 ms\n",
      "Wall time: 61 ms\n"
     ]
    }
   ],
   "source": [
    "%%time\n",
    "dtr = DecisionTreeRegressor(random_state=12345)\n",
    "dtr.fit(X_train1,y_train1)\n",
    "dtr_predictions = dtr.predict(X_test1)\n",
    "print('RMSE:', mean_squared_error(y_test1, dtr_predictions)**0.5)\n"
   ]
  },
  {
   "cell_type": "markdown",
   "metadata": {},
   "source": [
    "# Random Forest Regressor"
   ]
  },
  {
   "cell_type": "code",
   "execution_count": 31,
   "metadata": {},
   "outputs": [
    {
     "name": "stdout",
     "output_type": "stream",
     "text": [
      "RMSE: 26.929409653253213\n",
      "CPU times: user 520 ms, sys: 31.8 ms, total: 552 ms\n",
      "Wall time: 586 ms\n"
     ]
    }
   ],
   "source": [
    "%%time\n",
    "rfr = RandomForestRegressor(random_state=12345)\n",
    "rfr.fit(X_train1,y_train1)\n",
    "rfr_predictions = rfr.predict(X_test1)\n",
    "print('RMSE:', mean_squared_error(y_test1, rfr_predictions)**0.5)\n"
   ]
  },
  {
   "cell_type": "markdown",
   "metadata": {},
   "source": [
    "# XGBoost Regressor"
   ]
  },
  {
   "cell_type": "code",
   "execution_count": 32,
   "metadata": {},
   "outputs": [
    {
     "name": "stdout",
     "output_type": "stream",
     "text": [
      "RMSE: 29.141489130336222\n",
      "CPU times: user 795 ms, sys: 0 ns, total: 795 ms\n",
      "Wall time: 798 ms\n"
     ]
    }
   ],
   "source": [
    "%%time\n",
    "xgb = XGBRegressor()\n",
    "xgb.fit(X_train1,y_train1)\n",
    "xgb_predictions = xgb.predict(X_test1)\n",
    "print('RMSE:', mean_squared_error(y_test1, xgb_predictions)**0.5)\n"
   ]
  },
  {
   "cell_type": "markdown",
   "metadata": {},
   "source": [
    "# CatBoost Regressor"
   ]
  },
  {
   "cell_type": "code",
   "execution_count": 33,
   "metadata": {},
   "outputs": [
    {
     "name": "stdout",
     "output_type": "stream",
     "text": [
      "RMSE: 27.352224595634887\n",
      "CPU times: user 1.16 s, sys: 4 ms, total: 1.16 s\n",
      "Wall time: 1.3 s\n"
     ]
    }
   ],
   "source": [
    "%%time\n",
    "cbr = CatBoostRegressor(loss_function=\"RMSE\", verbose=False,random_state=12345)\n",
    "cbr.fit(X_train1,y_train1)\n",
    "cbr_predictions = cbr.predict(X_test1)\n",
    "print('RMSE:', mean_squared_error(y_test1, cbr_predictions)**0.5)\n"
   ]
  },
  {
   "cell_type": "markdown",
   "metadata": {},
   "source": [
    "# LGBM Regressor"
   ]
  },
  {
   "cell_type": "code",
   "execution_count": 34,
   "metadata": {},
   "outputs": [
    {
     "name": "stdout",
     "output_type": "stream",
     "text": [
      "RMSE: 27.8381702966086\n",
      "CPU times: user 214 ms, sys: 2.01 ms, total: 216 ms\n",
      "Wall time: 198 ms\n"
     ]
    }
   ],
   "source": [
    "%%time\n",
    "lgbm = LGBMRegressor(random_state=12345)\n",
    "lgbm.fit(X_train1,y_train1)\n",
    "lgbm_predictions = lgbm.predict(X_test1)\n",
    "print('RMSE:', mean_squared_error(y_test1, lgbm_predictions)**0.5)\n"
   ]
  },
  {
   "cell_type": "markdown",
   "metadata": {},
   "source": [
    "The best model was LGBM Regressor, so let's do cross validation with TimeSeriesSplit"
   ]
  },
  {
   "cell_type": "code",
   "execution_count": 35,
   "metadata": {},
   "outputs": [
    {
     "name": "stdout",
     "output_type": "stream",
     "text": [
      "{'n_estimators': 50, 'num_leaves': 12}\n",
      "-22.517576238200217\n"
     ]
    }
   ],
   "source": [
    "param_grid = {\n",
    "    'n_estimators' : [50,100,200,300,350],\n",
    "    'num_leaves' : [2,5,7,12]\n",
    "}\n",
    "lgbm_model = LGBMRegressor(random_state=12345, objective='regression')\n",
    "def rmse_error(y_true, y_pred):\n",
    "    return mean_squared_error(y_true, y_pred)**0.5\n",
    "rmse_score = make_scorer(rmse_error, greater_is_better = False)\n",
    "tscv = TimeSeriesSplit(n_splits=5)\n",
    "clf = GridSearchCV(estimator = lgbm, scoring=rmse_score, param_grid=param_grid, cv=tscv).fit(X_train,y_train)\n",
    "best_params = clf.best_params_\n",
    "print(best_params)\n",
    "print(clf.best_score_)\n"
   ]
  },
  {
   "cell_type": "markdown",
   "metadata": {},
   "source": [
    "### Conclusion"
   ]
  },
  {
   "cell_type": "markdown",
   "metadata": {},
   "source": [
    "* LightGBM Regressor had the best result on the training set with RMSE=27.83 and the best time.\n",
    "* TimeSeriesSplit with n_splits=5 for cross validation using GridSearchCV at LGBM regressor model to get the best parameters and best score to use them at testing."
   ]
  },
  {
   "cell_type": "markdown",
   "metadata": {},
   "source": [
    "## Testing"
   ]
  },
  {
   "cell_type": "code",
   "execution_count": 36,
   "metadata": {},
   "outputs": [
    {
     "name": "stdout",
     "output_type": "stream",
     "text": [
      "RMSE on test sample: 38.44894273694273\n",
      "CPU times: user 85.3 ms, sys: 3.37 ms, total: 88.7 ms\n",
      "Wall time: 97.4 ms\n"
     ]
    }
   ],
   "source": [
    "%%time\n",
    "model = LGBMRegressor(**best_params)\n",
    "model.fit(X_train,y_train)\n",
    "predictions = model.predict(X_test)\n",
    "print('RMSE on test sample:', mean_squared_error(y_test, predictions)**0.5)\n"
   ]
  },
  {
   "cell_type": "code",
   "execution_count": 37,
   "metadata": {
    "scrolled": true
   },
   "outputs": [
    {
     "data": {
      "image/png": "[encoded data removed]",
      "text/plain": [
       "<Figure size 864x576 with 1 Axes>"
      ]
     },
     "metadata": {},
     "output_type": "display_data"
    }
   ],
   "source": [
    "feature_importance = np.array(model.feature_importances_)\n",
    "feature_names = np.array(X_test.columns)\n",
    "\n",
    "# Creating a DataFrame using a Dictionary\n",
    "data={'feature_names':feature_names,'feature_importance':feature_importance}\n",
    "df_fi = pd.DataFrame(data)\n",
    "\n",
    "# Sorting the DataFrame in order of decreasing feature importance\n",
    "df_fi.sort_values(by=['feature_importance'], ascending=False,inplace=True)\n",
    "\n",
    "plt.figure(figsize=(12,8))\n",
    "sns.barplot(x=df_fi['feature_importance'], y=df_fi['feature_names'])\n",
    "plt.title('LightGBM Feature Importance')\n",
    "plt.xlabel('Feature Importance')\n",
    "plt.ylabel('Feature names')\n",
    "plt.show()\n"
   ]
  },
  {
   "cell_type": "markdown",
   "metadata": {},
   "source": [
    "The chart shows the real number of orders per day that was predicted by our model."
   ]
  },
  {
   "cell_type": "code",
   "execution_count": 38,
   "metadata": {},
   "outputs": [],
   "source": [
    "orders_real = y_test.copy()\n",
    "orders_predictions = pd.DataFrame(data = predictions, columns = ['predictions'], index = X_test.index.copy())\n",
    "df_result = pd.merge(orders_real, orders_predictions, how = 'left', left_index = True, right_index = True)\n"
   ]
  },
  {
   "cell_type": "code",
   "execution_count": 39,
   "metadata": {},
   "outputs": [
    {
     "data": {
      "text/html": [
       "<div>\n",
       "<style scoped>\n",
       "    .dataframe tbody tr th:only-of-type {\n",
       "        vertical-align: middle;\n",
       "    }\n",
       "\n",
       "    .dataframe tbody tr th {\n",
       "        vertical-align: top;\n",
       "    }\n",
       "\n",
       "    .dataframe thead th {\n",
       "        text-align: right;\n",
       "    }\n",
       "</style>\n",
       "<table border=\"1\" class=\"dataframe\">\n",
       "  <thead>\n",
       "    <tr style=\"text-align: right;\">\n",
       "      <th></th>\n",
       "      <th>num_orders</th>\n",
       "      <th>predictions</th>\n",
       "    </tr>\n",
       "    <tr>\n",
       "      <th>datetime</th>\n",
       "      <th></th>\n",
       "      <th></th>\n",
       "    </tr>\n",
       "  </thead>\n",
       "  <tbody>\n",
       "    <tr>\n",
       "      <th>2018-07-20 16:00:00</th>\n",
       "      <td>121</td>\n",
       "      <td>95.214000</td>\n",
       "    </tr>\n",
       "    <tr>\n",
       "      <th>2018-07-03 05:00:00</th>\n",
       "      <td>40</td>\n",
       "      <td>33.905633</td>\n",
       "    </tr>\n",
       "    <tr>\n",
       "      <th>2018-08-25 03:00:00</th>\n",
       "      <td>187</td>\n",
       "      <td>119.222853</td>\n",
       "    </tr>\n",
       "    <tr>\n",
       "      <th>2018-08-20 06:00:00</th>\n",
       "      <td>47</td>\n",
       "      <td>66.382438</td>\n",
       "    </tr>\n",
       "    <tr>\n",
       "      <th>2018-06-01 04:00:00</th>\n",
       "      <td>65</td>\n",
       "      <td>86.304042</td>\n",
       "    </tr>\n",
       "  </tbody>\n",
       "</table>\n",
       "</div>"
      ],
      "text/plain": [
       "                     num_orders  predictions\n",
       "datetime                                    \n",
       "2018-07-20 16:00:00         121    95.214000\n",
       "2018-07-03 05:00:00          40    33.905633\n",
       "2018-08-25 03:00:00         187   119.222853\n",
       "2018-08-20 06:00:00          47    66.382438\n",
       "2018-06-01 04:00:00          65    86.304042"
      ]
     },
     "execution_count": 39,
     "metadata": {},
     "output_type": "execute_result"
    }
   ],
   "source": [
    "df_result.sample(5)\n"
   ]
  },
  {
   "cell_type": "code",
   "execution_count": 40,
   "metadata": {},
   "outputs": [
    {
     "data": {
      "text/plain": [
       "datetime\n",
       "2018-06-01 00:00:00    127\n",
       "2018-06-01 01:00:00     66\n",
       "2018-06-01 02:00:00     90\n",
       "2018-06-01 03:00:00    102\n",
       "2018-06-01 04:00:00     86\n",
       "                      ... \n",
       "2018-08-31 19:00:00    107\n",
       "2018-08-31 20:00:00    123\n",
       "2018-08-31 21:00:00    123\n",
       "2018-08-31 22:00:00    126\n",
       "2018-08-31 23:00:00    133\n",
       "Freq: H, Name: predictions, Length: 2208, dtype: int64"
      ]
     },
     "execution_count": 40,
     "metadata": {},
     "output_type": "execute_result"
    }
   ],
   "source": [
    "df_result['predictions'] = df_result['predictions'].astype('int64')\n",
    "df_result['predictions']\n"
   ]
  },
  {
   "cell_type": "code",
   "execution_count": 41,
   "metadata": {},
   "outputs": [
    {
     "data": {
      "image/png": "[encoded data removed]",
      "text/plain": [
       "<Figure size 1152x576 with 1 Axes>"
      ]
     },
     "metadata": {},
     "output_type": "display_data"
    }
   ],
   "source": [
    "df_result['2018-08-15':'2018-08-20'].plot(figsize=(16,8))\n",
    "plt.title('Real Num Orders vs Predictions on August 2018')\n",
    "plt.show()\n"
   ]
  },
  {
   "cell_type": "markdown",
   "metadata": {},
   "source": [
    "### Conclusion"
   ]
  },
  {
   "cell_type": "markdown",
   "metadata": {},
   "source": [
    "* The model fits pretty well with the real orders\n",
    "* We got the result of RMSE=38.44 on the test sample from LGBM Regressor model (using the best parameters from model training while doing TimeSeriesSplit cross validation) with fast time running result of 94ms."
   ]
  },
  {
   "cell_type": "markdown",
   "metadata": {},
   "source": [
    "# Overall Conclusion\n",
    "1. Data contains 26496 rows and 2 columns which are datetime and num_orders.\n",
    "2. Date column data type should be datetime data type.\n",
    "3. No missing values\n",
    "4. Data has right skewed distribution.\n",
    "5. Parsed the date data type into datetime.\n",
    "6. From the chart, the number of orders is gradually increasing each month.\n",
    "7. LightGBM Regressor had the best result on the training set with RMSE=27.83 and the best time.\n",
    "8. TimeSeriesSplit with n_splits=5 for cross validation using GridSearchCV at LGBM regressor model to get the best parameters and best score to use them at testing.\n",
    "9. The model fits pretty well with the real orders\n",
    "10. We got the result of RMSE=38.44 on the test sample from LGBM Regressor model (using the best parameters from model training while doing TimeSeriesSplit cross validation) with fast time running result of 94ms."
   ]
  }
 ],
 "metadata": {
  "ExecuteTimeLog": [
   {
    "duration": 1776,
    "start_time": "2022-09-02T20:14:38.286Z"
   },
   {
    "duration": 283,
    "start_time": "2022-09-02T20:14:54.592Z"
   },
   {
    "duration": 10,
    "start_time": "2022-09-02T20:15:02.079Z"
   },
   {
    "duration": 12,
    "start_time": "2022-09-02T20:15:18.898Z"
   },
   {
    "duration": 6,
    "start_time": "2022-09-02T20:15:32.026Z"
   },
   {
    "duration": 12,
    "start_time": "2022-09-02T20:15:40.452Z"
   },
   {
    "duration": 213,
    "start_time": "2022-09-02T20:16:10.179Z"
   },
   {
    "duration": 4,
    "start_time": "2022-09-02T20:16:59.355Z"
   },
   {
    "duration": 44,
    "start_time": "2022-09-02T20:18:07.271Z"
   },
   {
    "duration": 6,
    "start_time": "2022-09-02T20:18:14.643Z"
   },
   {
    "duration": 1421,
    "start_time": "2022-09-02T20:18:29.248Z"
   },
   {
    "duration": 42,
    "start_time": "2022-09-02T20:18:30.671Z"
   },
   {
    "duration": 10,
    "start_time": "2022-09-02T20:18:30.715Z"
   },
   {
    "duration": 19,
    "start_time": "2022-09-02T20:18:30.727Z"
   },
   {
    "duration": 7,
    "start_time": "2022-09-02T20:18:30.748Z"
   },
   {
    "duration": 25,
    "start_time": "2022-09-02T20:18:30.757Z"
   },
   {
    "duration": 194,
    "start_time": "2022-09-02T20:18:30.784Z"
   },
   {
    "duration": 32,
    "start_time": "2022-09-02T20:18:30.980Z"
   },
   {
    "duration": 14,
    "start_time": "2022-09-02T20:18:31.014Z"
   },
   {
    "duration": 30,
    "start_time": "2022-09-02T20:18:31.030Z"
   },
   {
    "duration": 13,
    "start_time": "2022-09-02T20:19:24.322Z"
   },
   {
    "duration": 365,
    "start_time": "2022-09-02T20:19:33.971Z"
   },
   {
    "duration": 224,
    "start_time": "2022-09-02T20:19:43.798Z"
   },
   {
    "duration": 514,
    "start_time": "2022-09-02T20:19:56.324Z"
   },
   {
    "duration": 172,
    "start_time": "2022-09-02T20:20:08.930Z"
   },
   {
    "duration": 126,
    "start_time": "2022-09-02T20:20:18.144Z"
   },
   {
    "duration": 12,
    "start_time": "2022-09-02T20:20:38.407Z"
   },
   {
    "duration": 360,
    "start_time": "2022-09-02T20:20:50.268Z"
   },
   {
    "duration": 14,
    "start_time": "2022-09-02T20:21:06.028Z"
   },
   {
    "duration": 130,
    "start_time": "2022-09-02T20:21:14.893Z"
   },
   {
    "duration": 1379,
    "start_time": "2022-09-02T20:22:52.061Z"
   },
   {
    "duration": 42,
    "start_time": "2022-09-02T20:22:53.442Z"
   },
   {
    "duration": 9,
    "start_time": "2022-09-02T20:22:53.486Z"
   },
   {
    "duration": 10,
    "start_time": "2022-09-02T20:22:53.496Z"
   },
   {
    "duration": 6,
    "start_time": "2022-09-02T20:22:53.508Z"
   },
   {
    "duration": 12,
    "start_time": "2022-09-02T20:22:53.515Z"
   },
   {
    "duration": 196,
    "start_time": "2022-09-02T20:22:53.528Z"
   },
   {
    "duration": 23,
    "start_time": "2022-09-02T20:22:53.726Z"
   },
   {
    "duration": 7,
    "start_time": "2022-09-02T20:22:53.750Z"
   },
   {
    "duration": 6,
    "start_time": "2022-09-02T20:22:53.758Z"
   },
   {
    "duration": 13,
    "start_time": "2022-09-02T20:22:53.766Z"
   },
   {
    "duration": 376,
    "start_time": "2022-09-02T20:22:53.781Z"
   },
   {
    "duration": 236,
    "start_time": "2022-09-02T20:22:54.159Z"
   },
   {
    "duration": 510,
    "start_time": "2022-09-02T20:22:54.405Z"
   },
   {
    "duration": 186,
    "start_time": "2022-09-02T20:22:54.916Z"
   },
   {
    "duration": 110,
    "start_time": "2022-09-02T20:22:55.106Z"
   },
   {
    "duration": 11,
    "start_time": "2022-09-02T20:22:55.218Z"
   },
   {
    "duration": 390,
    "start_time": "2022-09-02T20:22:55.230Z"
   },
   {
    "duration": 13,
    "start_time": "2022-09-02T20:22:55.622Z"
   },
   {
    "duration": 124,
    "start_time": "2022-09-02T20:22:55.637Z"
   },
   {
    "duration": 1442,
    "start_time": "2022-09-02T20:38:09.550Z"
   },
   {
    "duration": 42,
    "start_time": "2022-09-02T20:38:10.993Z"
   },
   {
    "duration": 101,
    "start_time": "2022-09-02T20:38:11.036Z"
   },
   {
    "duration": 1,
    "start_time": "2022-09-02T20:38:11.138Z"
   },
   {
    "duration": 0,
    "start_time": "2022-09-02T20:38:11.140Z"
   },
   {
    "duration": 0,
    "start_time": "2022-09-02T20:38:11.141Z"
   },
   {
    "duration": 0,
    "start_time": "2022-09-02T20:38:11.142Z"
   },
   {
    "duration": 0,
    "start_time": "2022-09-02T20:38:11.143Z"
   },
   {
    "duration": 0,
    "start_time": "2022-09-02T20:38:11.144Z"
   },
   {
    "duration": 0,
    "start_time": "2022-09-02T20:38:11.144Z"
   },
   {
    "duration": 0,
    "start_time": "2022-09-02T20:38:11.146Z"
   },
   {
    "duration": 0,
    "start_time": "2022-09-02T20:38:11.147Z"
   },
   {
    "duration": 0,
    "start_time": "2022-09-02T20:38:11.147Z"
   },
   {
    "duration": 0,
    "start_time": "2022-09-02T20:38:11.148Z"
   },
   {
    "duration": 0,
    "start_time": "2022-09-02T20:38:11.149Z"
   },
   {
    "duration": 0,
    "start_time": "2022-09-02T20:38:11.150Z"
   },
   {
    "duration": 0,
    "start_time": "2022-09-02T20:38:11.151Z"
   },
   {
    "duration": 0,
    "start_time": "2022-09-02T20:38:11.152Z"
   },
   {
    "duration": 0,
    "start_time": "2022-09-02T20:38:11.152Z"
   },
   {
    "duration": 0,
    "start_time": "2022-09-02T20:38:11.153Z"
   },
   {
    "duration": 0,
    "start_time": "2022-09-02T20:38:11.154Z"
   },
   {
    "duration": 4,
    "start_time": "2022-09-02T20:38:25.035Z"
   },
   {
    "duration": 11,
    "start_time": "2022-09-02T20:38:26.851Z"
   },
   {
    "duration": 12,
    "start_time": "2022-09-02T20:38:28.299Z"
   },
   {
    "duration": 7,
    "start_time": "2022-09-02T20:38:28.908Z"
   },
   {
    "duration": 6,
    "start_time": "2022-09-02T20:38:30.017Z"
   },
   {
    "duration": 201,
    "start_time": "2022-09-02T20:38:30.907Z"
   },
   {
    "duration": 1584,
    "start_time": "2022-09-02T20:38:35.936Z"
   },
   {
    "duration": 43,
    "start_time": "2022-09-02T20:38:37.522Z"
   },
   {
    "duration": 5,
    "start_time": "2022-09-02T20:38:37.567Z"
   },
   {
    "duration": 21,
    "start_time": "2022-09-02T20:38:37.574Z"
   },
   {
    "duration": 12,
    "start_time": "2022-09-02T20:38:37.598Z"
   },
   {
    "duration": 6,
    "start_time": "2022-09-02T20:38:37.611Z"
   },
   {
    "duration": 6,
    "start_time": "2022-09-02T20:38:37.618Z"
   },
   {
    "duration": 218,
    "start_time": "2022-09-02T20:38:37.625Z"
   },
   {
    "duration": 24,
    "start_time": "2022-09-02T20:38:37.844Z"
   },
   {
    "duration": 6,
    "start_time": "2022-09-02T20:38:37.870Z"
   },
   {
    "duration": 6,
    "start_time": "2022-09-02T20:38:37.878Z"
   },
   {
    "duration": 32,
    "start_time": "2022-09-02T20:38:37.885Z"
   },
   {
    "duration": 370,
    "start_time": "2022-09-02T20:38:37.918Z"
   },
   {
    "duration": 232,
    "start_time": "2022-09-02T20:38:38.291Z"
   },
   {
    "duration": 495,
    "start_time": "2022-09-02T20:38:38.524Z"
   },
   {
    "duration": 172,
    "start_time": "2022-09-02T20:38:39.021Z"
   },
   {
    "duration": 106,
    "start_time": "2022-09-02T20:38:39.195Z"
   },
   {
    "duration": 11,
    "start_time": "2022-09-02T20:38:39.305Z"
   },
   {
    "duration": 382,
    "start_time": "2022-09-02T20:38:39.318Z"
   },
   {
    "duration": 11,
    "start_time": "2022-09-02T20:38:39.702Z"
   },
   {
    "duration": 129,
    "start_time": "2022-09-02T20:38:39.715Z"
   },
   {
    "duration": 1483,
    "start_time": "2022-09-02T20:39:35.591Z"
   },
   {
    "duration": 45,
    "start_time": "2022-09-02T20:39:37.076Z"
   },
   {
    "duration": 11,
    "start_time": "2022-09-02T20:39:37.122Z"
   },
   {
    "duration": 12,
    "start_time": "2022-09-02T20:39:37.135Z"
   },
   {
    "duration": 6,
    "start_time": "2022-09-02T20:39:37.149Z"
   },
   {
    "duration": 19,
    "start_time": "2022-09-02T20:39:37.156Z"
   },
   {
    "duration": 254,
    "start_time": "2022-09-02T20:39:37.177Z"
   },
   {
    "duration": 25,
    "start_time": "2022-09-02T20:39:37.433Z"
   },
   {
    "duration": 7,
    "start_time": "2022-09-02T20:39:37.459Z"
   },
   {
    "duration": 7,
    "start_time": "2022-09-02T20:39:37.468Z"
   },
   {
    "duration": 39,
    "start_time": "2022-09-02T20:39:37.476Z"
   },
   {
    "duration": 390,
    "start_time": "2022-09-02T20:39:37.516Z"
   },
   {
    "duration": 265,
    "start_time": "2022-09-02T20:39:37.907Z"
   },
   {
    "duration": 506,
    "start_time": "2022-09-02T20:39:38.176Z"
   },
   {
    "duration": 182,
    "start_time": "2022-09-02T20:39:38.683Z"
   },
   {
    "duration": 116,
    "start_time": "2022-09-02T20:39:38.866Z"
   },
   {
    "duration": 11,
    "start_time": "2022-09-02T20:39:38.984Z"
   },
   {
    "duration": 403,
    "start_time": "2022-09-02T20:39:38.997Z"
   },
   {
    "duration": 14,
    "start_time": "2022-09-02T20:39:39.402Z"
   },
   {
    "duration": 122,
    "start_time": "2022-09-02T20:39:39.418Z"
   },
   {
    "duration": 30,
    "start_time": "2022-09-02T20:40:02.042Z"
   },
   {
    "duration": 22,
    "start_time": "2022-09-02T20:41:28.220Z"
   },
   {
    "duration": 19,
    "start_time": "2022-09-02T20:41:37.859Z"
   },
   {
    "duration": 6,
    "start_time": "2022-09-02T20:42:04.235Z"
   },
   {
    "duration": 12,
    "start_time": "2022-09-02T20:42:12.617Z"
   },
   {
    "duration": 45,
    "start_time": "2022-09-02T20:42:20.429Z"
   },
   {
    "duration": 8,
    "start_time": "2022-09-02T20:42:38.655Z"
   },
   {
    "duration": 5,
    "start_time": "2022-09-02T20:42:46.320Z"
   },
   {
    "duration": 14,
    "start_time": "2022-09-02T20:42:55.084Z"
   },
   {
    "duration": 14,
    "start_time": "2022-09-02T20:43:10.860Z"
   },
   {
    "duration": 3,
    "start_time": "2022-09-02T20:43:21.437Z"
   },
   {
    "duration": 12,
    "start_time": "2022-09-02T20:43:41.599Z"
   },
   {
    "duration": 38,
    "start_time": "2022-09-02T20:43:56.772Z"
   },
   {
    "duration": 1969,
    "start_time": "2022-09-02T20:44:06.348Z"
   },
   {
    "duration": 5934,
    "start_time": "2022-09-02T20:44:18.622Z"
   },
   {
    "duration": 7722,
    "start_time": "2022-09-02T20:44:34.950Z"
   },
   {
    "duration": 717,
    "start_time": "2022-09-02T20:44:48.699Z"
   },
   {
    "duration": 45522,
    "start_time": "2022-09-02T20:45:16.994Z"
   },
   {
    "duration": 19030,
    "start_time": "2022-09-02T20:46:12.679Z"
   },
   {
    "duration": 223,
    "start_time": "2022-09-02T20:47:09.105Z"
   },
   {
    "duration": 4,
    "start_time": "2022-09-02T20:47:15.674Z"
   },
   {
    "duration": 9,
    "start_time": "2022-09-02T20:47:16.572Z"
   },
   {
    "duration": 7,
    "start_time": "2022-09-02T20:47:19.295Z"
   },
   {
    "duration": 235,
    "start_time": "2022-09-02T20:47:20.414Z"
   },
   {
    "duration": 18,
    "start_time": "2022-09-02T20:49:31.655Z"
   },
   {
    "duration": 1562,
    "start_time": "2022-09-02T20:49:38.693Z"
   },
   {
    "duration": 44,
    "start_time": "2022-09-02T20:49:40.257Z"
   },
   {
    "duration": 12,
    "start_time": "2022-09-02T20:49:40.303Z"
   },
   {
    "duration": 15,
    "start_time": "2022-09-02T20:49:40.317Z"
   },
   {
    "duration": 7,
    "start_time": "2022-09-02T20:49:40.334Z"
   },
   {
    "duration": 16,
    "start_time": "2022-09-02T20:49:40.342Z"
   },
   {
    "duration": 232,
    "start_time": "2022-09-02T20:49:40.360Z"
   },
   {
    "duration": 26,
    "start_time": "2022-09-02T20:49:40.593Z"
   },
   {
    "duration": 7,
    "start_time": "2022-09-02T20:49:40.620Z"
   },
   {
    "duration": 4,
    "start_time": "2022-09-02T20:49:40.629Z"
   },
   {
    "duration": 14,
    "start_time": "2022-09-02T20:49:40.635Z"
   },
   {
    "duration": 372,
    "start_time": "2022-09-02T20:49:40.651Z"
   },
   {
    "duration": 258,
    "start_time": "2022-09-02T20:49:41.024Z"
   },
   {
    "duration": 499,
    "start_time": "2022-09-02T20:49:41.284Z"
   },
   {
    "duration": 185,
    "start_time": "2022-09-02T20:49:41.784Z"
   },
   {
    "duration": 112,
    "start_time": "2022-09-02T20:49:41.970Z"
   },
   {
    "duration": 23,
    "start_time": "2022-09-02T20:49:42.084Z"
   },
   {
    "duration": 347,
    "start_time": "2022-09-02T20:49:42.109Z"
   },
   {
    "duration": 11,
    "start_time": "2022-09-02T20:49:42.458Z"
   },
   {
    "duration": 114,
    "start_time": "2022-09-02T20:49:42.470Z"
   },
   {
    "duration": 0,
    "start_time": "2022-09-02T20:49:42.585Z"
   },
   {
    "duration": 0,
    "start_time": "2022-09-02T20:49:42.586Z"
   },
   {
    "duration": 0,
    "start_time": "2022-09-02T20:49:42.587Z"
   },
   {
    "duration": 0,
    "start_time": "2022-09-02T20:49:42.588Z"
   },
   {
    "duration": 0,
    "start_time": "2022-09-02T20:49:42.590Z"
   },
   {
    "duration": 0,
    "start_time": "2022-09-02T20:49:42.590Z"
   },
   {
    "duration": 0,
    "start_time": "2022-09-02T20:49:42.591Z"
   },
   {
    "duration": 0,
    "start_time": "2022-09-02T20:49:42.606Z"
   },
   {
    "duration": 0,
    "start_time": "2022-09-02T20:49:42.607Z"
   },
   {
    "duration": 0,
    "start_time": "2022-09-02T20:49:42.608Z"
   },
   {
    "duration": 0,
    "start_time": "2022-09-02T20:49:42.610Z"
   },
   {
    "duration": 0,
    "start_time": "2022-09-02T20:49:42.611Z"
   },
   {
    "duration": 0,
    "start_time": "2022-09-02T20:49:42.612Z"
   },
   {
    "duration": 0,
    "start_time": "2022-09-02T20:49:42.614Z"
   },
   {
    "duration": 0,
    "start_time": "2022-09-02T20:49:42.615Z"
   },
   {
    "duration": 0,
    "start_time": "2022-09-02T20:49:42.616Z"
   },
   {
    "duration": 0,
    "start_time": "2022-09-02T20:49:42.618Z"
   },
   {
    "duration": 0,
    "start_time": "2022-09-02T20:49:42.619Z"
   },
   {
    "duration": 0,
    "start_time": "2022-09-02T20:49:42.620Z"
   },
   {
    "duration": 0,
    "start_time": "2022-09-02T20:49:42.621Z"
   },
   {
    "duration": 0,
    "start_time": "2022-09-02T20:49:42.622Z"
   },
   {
    "duration": 0,
    "start_time": "2022-09-02T20:49:42.623Z"
   },
   {
    "duration": 10,
    "start_time": "2022-09-02T20:49:55.920Z"
   },
   {
    "duration": 28,
    "start_time": "2022-09-02T20:50:19.504Z"
   },
   {
    "duration": 1449,
    "start_time": "2022-09-02T20:55:39.755Z"
   },
   {
    "duration": 41,
    "start_time": "2022-09-02T20:55:41.207Z"
   },
   {
    "duration": 10,
    "start_time": "2022-09-02T20:55:41.250Z"
   },
   {
    "duration": 11,
    "start_time": "2022-09-02T20:55:41.262Z"
   },
   {
    "duration": 6,
    "start_time": "2022-09-02T20:55:41.276Z"
   },
   {
    "duration": 13,
    "start_time": "2022-09-02T20:55:41.284Z"
   },
   {
    "duration": 209,
    "start_time": "2022-09-02T20:55:41.299Z"
   },
   {
    "duration": 22,
    "start_time": "2022-09-02T20:55:41.509Z"
   },
   {
    "duration": 6,
    "start_time": "2022-09-02T20:55:41.533Z"
   },
   {
    "duration": 6,
    "start_time": "2022-09-02T20:55:41.540Z"
   },
   {
    "duration": 14,
    "start_time": "2022-09-02T20:55:41.547Z"
   },
   {
    "duration": 372,
    "start_time": "2022-09-02T20:55:41.562Z"
   },
   {
    "duration": 247,
    "start_time": "2022-09-02T20:55:41.935Z"
   },
   {
    "duration": 489,
    "start_time": "2022-09-02T20:55:42.185Z"
   },
   {
    "duration": 177,
    "start_time": "2022-09-02T20:55:42.675Z"
   },
   {
    "duration": 106,
    "start_time": "2022-09-02T20:55:42.853Z"
   },
   {
    "duration": 11,
    "start_time": "2022-09-02T20:55:42.961Z"
   },
   {
    "duration": 367,
    "start_time": "2022-09-02T20:55:42.973Z"
   },
   {
    "duration": 8,
    "start_time": "2022-09-02T20:55:43.342Z"
   },
   {
    "duration": 102,
    "start_time": "2022-09-02T20:55:43.352Z"
   },
   {
    "duration": 0,
    "start_time": "2022-09-02T20:55:43.456Z"
   },
   {
    "duration": 0,
    "start_time": "2022-09-02T20:55:43.457Z"
   },
   {
    "duration": 0,
    "start_time": "2022-09-02T20:55:43.457Z"
   },
   {
    "duration": 0,
    "start_time": "2022-09-02T20:55:43.458Z"
   },
   {
    "duration": 0,
    "start_time": "2022-09-02T20:55:43.459Z"
   },
   {
    "duration": 0,
    "start_time": "2022-09-02T20:55:43.460Z"
   },
   {
    "duration": 0,
    "start_time": "2022-09-02T20:55:43.461Z"
   },
   {
    "duration": 0,
    "start_time": "2022-09-02T20:55:43.462Z"
   },
   {
    "duration": 0,
    "start_time": "2022-09-02T20:55:43.462Z"
   },
   {
    "duration": 0,
    "start_time": "2022-09-02T20:55:43.463Z"
   },
   {
    "duration": 0,
    "start_time": "2022-09-02T20:55:43.464Z"
   },
   {
    "duration": 0,
    "start_time": "2022-09-02T20:55:43.465Z"
   },
   {
    "duration": 0,
    "start_time": "2022-09-02T20:55:43.465Z"
   },
   {
    "duration": 0,
    "start_time": "2022-09-02T20:55:43.466Z"
   },
   {
    "duration": 0,
    "start_time": "2022-09-02T20:55:43.467Z"
   },
   {
    "duration": 0,
    "start_time": "2022-09-02T20:55:43.468Z"
   },
   {
    "duration": 0,
    "start_time": "2022-09-02T20:55:43.469Z"
   },
   {
    "duration": 0,
    "start_time": "2022-09-02T20:55:43.469Z"
   },
   {
    "duration": 0,
    "start_time": "2022-09-02T20:55:43.470Z"
   },
   {
    "duration": 0,
    "start_time": "2022-09-02T20:55:43.471Z"
   },
   {
    "duration": 0,
    "start_time": "2022-09-02T20:55:43.472Z"
   },
   {
    "duration": 1446,
    "start_time": "2022-09-02T20:56:04.739Z"
   },
   {
    "duration": 45,
    "start_time": "2022-09-02T20:56:06.187Z"
   },
   {
    "duration": 15,
    "start_time": "2022-09-02T20:56:06.234Z"
   },
   {
    "duration": 14,
    "start_time": "2022-09-02T20:56:06.251Z"
   },
   {
    "duration": 10,
    "start_time": "2022-09-02T20:56:06.267Z"
   },
   {
    "duration": 19,
    "start_time": "2022-09-02T20:56:06.279Z"
   },
   {
    "duration": 204,
    "start_time": "2022-09-02T20:56:06.306Z"
   },
   {
    "duration": 22,
    "start_time": "2022-09-02T20:56:06.512Z"
   },
   {
    "duration": 7,
    "start_time": "2022-09-02T20:56:06.536Z"
   },
   {
    "duration": 15,
    "start_time": "2022-09-02T20:56:06.546Z"
   },
   {
    "duration": 17,
    "start_time": "2022-09-02T20:56:06.563Z"
   },
   {
    "duration": 377,
    "start_time": "2022-09-02T20:56:06.582Z"
   },
   {
    "duration": 262,
    "start_time": "2022-09-02T20:56:06.961Z"
   },
   {
    "duration": 493,
    "start_time": "2022-09-02T20:56:07.225Z"
   },
   {
    "duration": 189,
    "start_time": "2022-09-02T20:56:07.719Z"
   },
   {
    "duration": 113,
    "start_time": "2022-09-02T20:56:07.910Z"
   },
   {
    "duration": 14,
    "start_time": "2022-09-02T20:56:08.025Z"
   },
   {
    "duration": 391,
    "start_time": "2022-09-02T20:56:08.041Z"
   },
   {
    "duration": 11,
    "start_time": "2022-09-02T20:56:08.434Z"
   },
   {
    "duration": 114,
    "start_time": "2022-09-02T20:56:08.447Z"
   },
   {
    "duration": 0,
    "start_time": "2022-09-02T20:56:08.563Z"
   },
   {
    "duration": 0,
    "start_time": "2022-09-02T20:56:08.564Z"
   },
   {
    "duration": 0,
    "start_time": "2022-09-02T20:56:08.565Z"
   },
   {
    "duration": 0,
    "start_time": "2022-09-02T20:56:08.566Z"
   },
   {
    "duration": 0,
    "start_time": "2022-09-02T20:56:08.567Z"
   },
   {
    "duration": 0,
    "start_time": "2022-09-02T20:56:08.568Z"
   },
   {
    "duration": 0,
    "start_time": "2022-09-02T20:56:08.568Z"
   },
   {
    "duration": 0,
    "start_time": "2022-09-02T20:56:08.569Z"
   },
   {
    "duration": 0,
    "start_time": "2022-09-02T20:56:08.570Z"
   },
   {
    "duration": 0,
    "start_time": "2022-09-02T20:56:08.571Z"
   },
   {
    "duration": 0,
    "start_time": "2022-09-02T20:56:08.572Z"
   },
   {
    "duration": 0,
    "start_time": "2022-09-02T20:56:08.573Z"
   },
   {
    "duration": 0,
    "start_time": "2022-09-02T20:56:08.573Z"
   },
   {
    "duration": 0,
    "start_time": "2022-09-02T20:56:08.574Z"
   },
   {
    "duration": 0,
    "start_time": "2022-09-02T20:56:08.575Z"
   },
   {
    "duration": 0,
    "start_time": "2022-09-02T20:56:08.576Z"
   },
   {
    "duration": 0,
    "start_time": "2022-09-02T20:56:08.577Z"
   },
   {
    "duration": 0,
    "start_time": "2022-09-02T20:56:08.578Z"
   },
   {
    "duration": 0,
    "start_time": "2022-09-02T20:56:08.579Z"
   },
   {
    "duration": 0,
    "start_time": "2022-09-02T20:56:08.606Z"
   },
   {
    "duration": 0,
    "start_time": "2022-09-02T20:56:08.607Z"
   },
   {
    "duration": 4,
    "start_time": "2022-09-02T20:58:12.896Z"
   },
   {
    "duration": 1538,
    "start_time": "2022-09-02T20:58:40.899Z"
   },
   {
    "duration": 41,
    "start_time": "2022-09-02T20:58:42.439Z"
   },
   {
    "duration": 5,
    "start_time": "2022-09-02T20:58:42.482Z"
   },
   {
    "duration": 10,
    "start_time": "2022-09-02T20:58:42.489Z"
   },
   {
    "duration": 20,
    "start_time": "2022-09-02T20:58:42.501Z"
   },
   {
    "duration": 6,
    "start_time": "2022-09-02T20:58:42.523Z"
   },
   {
    "duration": 6,
    "start_time": "2022-09-02T20:58:42.530Z"
   },
   {
    "duration": 132,
    "start_time": "2022-09-02T20:58:42.538Z"
   },
   {
    "duration": 0,
    "start_time": "2022-09-02T20:58:42.672Z"
   },
   {
    "duration": 0,
    "start_time": "2022-09-02T20:58:42.673Z"
   },
   {
    "duration": 0,
    "start_time": "2022-09-02T20:58:42.674Z"
   },
   {
    "duration": 0,
    "start_time": "2022-09-02T20:58:42.675Z"
   },
   {
    "duration": 0,
    "start_time": "2022-09-02T20:58:42.676Z"
   },
   {
    "duration": 0,
    "start_time": "2022-09-02T20:58:42.677Z"
   },
   {
    "duration": 0,
    "start_time": "2022-09-02T20:58:42.677Z"
   },
   {
    "duration": 0,
    "start_time": "2022-09-02T20:58:42.678Z"
   },
   {
    "duration": 0,
    "start_time": "2022-09-02T20:58:42.679Z"
   },
   {
    "duration": 0,
    "start_time": "2022-09-02T20:58:42.680Z"
   },
   {
    "duration": 0,
    "start_time": "2022-09-02T20:58:42.681Z"
   },
   {
    "duration": 0,
    "start_time": "2022-09-02T20:58:42.682Z"
   },
   {
    "duration": 0,
    "start_time": "2022-09-02T20:58:42.683Z"
   },
   {
    "duration": 0,
    "start_time": "2022-09-02T20:58:42.712Z"
   },
   {
    "duration": 0,
    "start_time": "2022-09-02T20:58:42.720Z"
   },
   {
    "duration": 0,
    "start_time": "2022-09-02T20:58:42.721Z"
   },
   {
    "duration": 0,
    "start_time": "2022-09-02T20:58:42.722Z"
   },
   {
    "duration": 0,
    "start_time": "2022-09-02T20:58:42.723Z"
   },
   {
    "duration": 0,
    "start_time": "2022-09-02T20:58:42.724Z"
   },
   {
    "duration": 0,
    "start_time": "2022-09-02T20:58:42.724Z"
   },
   {
    "duration": 0,
    "start_time": "2022-09-02T20:58:42.725Z"
   },
   {
    "duration": 0,
    "start_time": "2022-09-02T20:58:42.726Z"
   },
   {
    "duration": 0,
    "start_time": "2022-09-02T20:58:42.727Z"
   },
   {
    "duration": 0,
    "start_time": "2022-09-02T20:58:42.728Z"
   },
   {
    "duration": 0,
    "start_time": "2022-09-02T20:58:42.729Z"
   },
   {
    "duration": 0,
    "start_time": "2022-09-02T20:58:42.730Z"
   },
   {
    "duration": 0,
    "start_time": "2022-09-02T20:58:42.731Z"
   },
   {
    "duration": 0,
    "start_time": "2022-09-02T20:58:42.731Z"
   },
   {
    "duration": 0,
    "start_time": "2022-09-02T20:58:42.732Z"
   },
   {
    "duration": 0,
    "start_time": "2022-09-02T20:58:42.733Z"
   },
   {
    "duration": 0,
    "start_time": "2022-09-02T20:58:42.734Z"
   },
   {
    "duration": 0,
    "start_time": "2022-09-02T20:58:42.734Z"
   },
   {
    "duration": 0,
    "start_time": "2022-09-02T20:58:42.735Z"
   },
   {
    "duration": 0,
    "start_time": "2022-09-02T20:58:42.736Z"
   },
   {
    "duration": 1589,
    "start_time": "2022-09-02T20:59:15.150Z"
   },
   {
    "duration": 43,
    "start_time": "2022-09-02T20:59:16.740Z"
   },
   {
    "duration": 10,
    "start_time": "2022-09-02T20:59:16.784Z"
   },
   {
    "duration": 17,
    "start_time": "2022-09-02T20:59:16.796Z"
   },
   {
    "duration": 20,
    "start_time": "2022-09-02T20:59:16.815Z"
   },
   {
    "duration": 20,
    "start_time": "2022-09-02T20:59:16.836Z"
   },
   {
    "duration": 210,
    "start_time": "2022-09-02T20:59:16.858Z"
   },
   {
    "duration": 22,
    "start_time": "2022-09-02T20:59:17.070Z"
   },
   {
    "duration": 25,
    "start_time": "2022-09-02T20:59:17.093Z"
   },
   {
    "duration": 4,
    "start_time": "2022-09-02T20:59:17.122Z"
   },
   {
    "duration": 17,
    "start_time": "2022-09-02T20:59:17.127Z"
   },
   {
    "duration": 395,
    "start_time": "2022-09-02T20:59:17.145Z"
   },
   {
    "duration": 246,
    "start_time": "2022-09-02T20:59:17.543Z"
   },
   {
    "duration": 635,
    "start_time": "2022-09-02T20:59:17.791Z"
   },
   {
    "duration": 201,
    "start_time": "2022-09-02T20:59:18.428Z"
   },
   {
    "duration": 119,
    "start_time": "2022-09-02T20:59:18.630Z"
   },
   {
    "duration": 11,
    "start_time": "2022-09-02T20:59:18.751Z"
   },
   {
    "duration": 417,
    "start_time": "2022-09-02T20:59:18.763Z"
   },
   {
    "duration": 12,
    "start_time": "2022-09-02T20:59:19.182Z"
   },
   {
    "duration": 4,
    "start_time": "2022-09-02T20:59:19.195Z"
   },
   {
    "duration": 131,
    "start_time": "2022-09-02T20:59:19.200Z"
   },
   {
    "duration": 0,
    "start_time": "2022-09-02T20:59:19.333Z"
   },
   {
    "duration": 0,
    "start_time": "2022-09-02T20:59:19.334Z"
   },
   {
    "duration": 0,
    "start_time": "2022-09-02T20:59:19.334Z"
   },
   {
    "duration": 0,
    "start_time": "2022-09-02T20:59:19.336Z"
   },
   {
    "duration": 0,
    "start_time": "2022-09-02T20:59:19.337Z"
   },
   {
    "duration": 0,
    "start_time": "2022-09-02T20:59:19.338Z"
   },
   {
    "duration": 0,
    "start_time": "2022-09-02T20:59:19.338Z"
   },
   {
    "duration": 0,
    "start_time": "2022-09-02T20:59:19.339Z"
   },
   {
    "duration": 0,
    "start_time": "2022-09-02T20:59:19.340Z"
   },
   {
    "duration": 0,
    "start_time": "2022-09-02T20:59:19.341Z"
   },
   {
    "duration": 0,
    "start_time": "2022-09-02T20:59:19.342Z"
   },
   {
    "duration": 0,
    "start_time": "2022-09-02T20:59:19.343Z"
   },
   {
    "duration": 0,
    "start_time": "2022-09-02T20:59:19.344Z"
   },
   {
    "duration": 0,
    "start_time": "2022-09-02T20:59:19.344Z"
   },
   {
    "duration": 0,
    "start_time": "2022-09-02T20:59:19.345Z"
   },
   {
    "duration": 0,
    "start_time": "2022-09-02T20:59:19.346Z"
   },
   {
    "duration": 0,
    "start_time": "2022-09-02T20:59:19.347Z"
   },
   {
    "duration": 0,
    "start_time": "2022-09-02T20:59:19.348Z"
   },
   {
    "duration": 0,
    "start_time": "2022-09-02T20:59:19.349Z"
   },
   {
    "duration": 0,
    "start_time": "2022-09-02T20:59:19.350Z"
   },
   {
    "duration": 0,
    "start_time": "2022-09-02T20:59:19.351Z"
   },
   {
    "duration": 1516,
    "start_time": "2022-09-02T20:59:31.758Z"
   },
   {
    "duration": 46,
    "start_time": "2022-09-02T20:59:33.277Z"
   },
   {
    "duration": 10,
    "start_time": "2022-09-02T20:59:33.325Z"
   },
   {
    "duration": 10,
    "start_time": "2022-09-02T20:59:33.337Z"
   },
   {
    "duration": 5,
    "start_time": "2022-09-02T20:59:33.349Z"
   },
   {
    "duration": 12,
    "start_time": "2022-09-02T20:59:33.356Z"
   },
   {
    "duration": 237,
    "start_time": "2022-09-02T20:59:33.369Z"
   },
   {
    "duration": 27,
    "start_time": "2022-09-02T20:59:33.608Z"
   },
   {
    "duration": 6,
    "start_time": "2022-09-02T20:59:33.637Z"
   },
   {
    "duration": 5,
    "start_time": "2022-09-02T20:59:33.645Z"
   },
   {
    "duration": 14,
    "start_time": "2022-09-02T20:59:33.651Z"
   },
   {
    "duration": 395,
    "start_time": "2022-09-02T20:59:33.666Z"
   },
   {
    "duration": 258,
    "start_time": "2022-09-02T20:59:34.063Z"
   },
   {
    "duration": 530,
    "start_time": "2022-09-02T20:59:34.323Z"
   },
   {
    "duration": 204,
    "start_time": "2022-09-02T20:59:34.855Z"
   },
   {
    "duration": 118,
    "start_time": "2022-09-02T20:59:35.060Z"
   },
   {
    "duration": 11,
    "start_time": "2022-09-02T20:59:35.180Z"
   },
   {
    "duration": 411,
    "start_time": "2022-09-02T20:59:35.193Z"
   },
   {
    "duration": 13,
    "start_time": "2022-09-02T20:59:35.606Z"
   },
   {
    "duration": 133,
    "start_time": "2022-09-02T20:59:35.621Z"
   },
   {
    "duration": 0,
    "start_time": "2022-09-02T20:59:35.756Z"
   },
   {
    "duration": 0,
    "start_time": "2022-09-02T20:59:35.757Z"
   },
   {
    "duration": 0,
    "start_time": "2022-09-02T20:59:35.758Z"
   },
   {
    "duration": 0,
    "start_time": "2022-09-02T20:59:35.759Z"
   },
   {
    "duration": 0,
    "start_time": "2022-09-02T20:59:35.760Z"
   },
   {
    "duration": 0,
    "start_time": "2022-09-02T20:59:35.761Z"
   },
   {
    "duration": 0,
    "start_time": "2022-09-02T20:59:35.762Z"
   },
   {
    "duration": 0,
    "start_time": "2022-09-02T20:59:35.763Z"
   },
   {
    "duration": 0,
    "start_time": "2022-09-02T20:59:35.764Z"
   },
   {
    "duration": 0,
    "start_time": "2022-09-02T20:59:35.765Z"
   },
   {
    "duration": 0,
    "start_time": "2022-09-02T20:59:35.766Z"
   },
   {
    "duration": 0,
    "start_time": "2022-09-02T20:59:35.767Z"
   },
   {
    "duration": 0,
    "start_time": "2022-09-02T20:59:35.768Z"
   },
   {
    "duration": 0,
    "start_time": "2022-09-02T20:59:35.769Z"
   },
   {
    "duration": 0,
    "start_time": "2022-09-02T20:59:35.770Z"
   },
   {
    "duration": 0,
    "start_time": "2022-09-02T20:59:35.771Z"
   },
   {
    "duration": 0,
    "start_time": "2022-09-02T20:59:35.772Z"
   },
   {
    "duration": 0,
    "start_time": "2022-09-02T20:59:35.773Z"
   },
   {
    "duration": 0,
    "start_time": "2022-09-02T20:59:35.806Z"
   },
   {
    "duration": 0,
    "start_time": "2022-09-02T20:59:35.808Z"
   },
   {
    "duration": 0,
    "start_time": "2022-09-02T20:59:35.809Z"
   },
   {
    "duration": 1490,
    "start_time": "2022-09-02T21:03:41.725Z"
   },
   {
    "duration": 53,
    "start_time": "2022-09-02T21:03:43.220Z"
   },
   {
    "duration": 9,
    "start_time": "2022-09-02T21:03:43.275Z"
   },
   {
    "duration": 13,
    "start_time": "2022-09-02T21:03:43.285Z"
   },
   {
    "duration": 11,
    "start_time": "2022-09-02T21:03:43.300Z"
   },
   {
    "duration": 14,
    "start_time": "2022-09-02T21:03:43.320Z"
   },
   {
    "duration": 206,
    "start_time": "2022-09-02T21:03:43.336Z"
   },
   {
    "duration": 2,
    "start_time": "2022-09-02T21:03:43.543Z"
   },
   {
    "duration": 9,
    "start_time": "2022-09-02T21:03:43.546Z"
   },
   {
    "duration": 9,
    "start_time": "2022-09-02T21:03:43.556Z"
   },
   {
    "duration": 131,
    "start_time": "2022-09-02T21:03:43.566Z"
   },
   {
    "duration": 0,
    "start_time": "2022-09-02T21:03:43.699Z"
   },
   {
    "duration": 0,
    "start_time": "2022-09-02T21:03:43.701Z"
   },
   {
    "duration": 0,
    "start_time": "2022-09-02T21:03:43.702Z"
   },
   {
    "duration": 0,
    "start_time": "2022-09-02T21:03:43.703Z"
   },
   {
    "duration": 0,
    "start_time": "2022-09-02T21:03:43.706Z"
   },
   {
    "duration": 0,
    "start_time": "2022-09-02T21:03:43.707Z"
   },
   {
    "duration": 0,
    "start_time": "2022-09-02T21:03:43.709Z"
   },
   {
    "duration": 0,
    "start_time": "2022-09-02T21:03:43.710Z"
   },
   {
    "duration": 0,
    "start_time": "2022-09-02T21:03:43.711Z"
   },
   {
    "duration": 0,
    "start_time": "2022-09-02T21:03:43.711Z"
   },
   {
    "duration": 0,
    "start_time": "2022-09-02T21:03:43.712Z"
   },
   {
    "duration": 0,
    "start_time": "2022-09-02T21:03:43.713Z"
   },
   {
    "duration": 0,
    "start_time": "2022-09-02T21:03:43.717Z"
   },
   {
    "duration": 0,
    "start_time": "2022-09-02T21:03:43.718Z"
   },
   {
    "duration": 0,
    "start_time": "2022-09-02T21:03:43.723Z"
   },
   {
    "duration": 0,
    "start_time": "2022-09-02T21:03:43.724Z"
   },
   {
    "duration": 0,
    "start_time": "2022-09-02T21:03:43.725Z"
   },
   {
    "duration": 0,
    "start_time": "2022-09-02T21:03:43.727Z"
   },
   {
    "duration": 0,
    "start_time": "2022-09-02T21:03:43.727Z"
   },
   {
    "duration": 0,
    "start_time": "2022-09-02T21:03:43.728Z"
   },
   {
    "duration": 0,
    "start_time": "2022-09-02T21:03:43.729Z"
   },
   {
    "duration": 0,
    "start_time": "2022-09-02T21:03:43.730Z"
   },
   {
    "duration": 0,
    "start_time": "2022-09-02T21:03:43.731Z"
   },
   {
    "duration": 0,
    "start_time": "2022-09-02T21:03:43.732Z"
   },
   {
    "duration": 0,
    "start_time": "2022-09-02T21:03:43.733Z"
   },
   {
    "duration": 0,
    "start_time": "2022-09-02T21:03:43.734Z"
   },
   {
    "duration": 0,
    "start_time": "2022-09-02T21:03:43.735Z"
   },
   {
    "duration": 0,
    "start_time": "2022-09-02T21:03:43.736Z"
   },
   {
    "duration": 0,
    "start_time": "2022-09-02T21:03:43.736Z"
   },
   {
    "duration": 0,
    "start_time": "2022-09-02T21:03:43.737Z"
   },
   {
    "duration": 1571,
    "start_time": "2022-09-02T21:04:15.182Z"
   },
   {
    "duration": 44,
    "start_time": "2022-09-02T21:04:16.755Z"
   },
   {
    "duration": 10,
    "start_time": "2022-09-02T21:04:16.800Z"
   },
   {
    "duration": 13,
    "start_time": "2022-09-02T21:04:16.812Z"
   },
   {
    "duration": 6,
    "start_time": "2022-09-02T21:04:16.827Z"
   },
   {
    "duration": 15,
    "start_time": "2022-09-02T21:04:16.834Z"
   },
   {
    "duration": 215,
    "start_time": "2022-09-02T21:04:16.850Z"
   },
   {
    "duration": 23,
    "start_time": "2022-09-02T21:04:17.067Z"
   },
   {
    "duration": 18,
    "start_time": "2022-09-02T21:04:17.092Z"
   },
   {
    "duration": 5,
    "start_time": "2022-09-02T21:04:17.113Z"
   },
   {
    "duration": 19,
    "start_time": "2022-09-02T21:04:17.120Z"
   },
   {
    "duration": 401,
    "start_time": "2022-09-02T21:04:17.141Z"
   },
   {
    "duration": 238,
    "start_time": "2022-09-02T21:04:17.544Z"
   },
   {
    "duration": 544,
    "start_time": "2022-09-02T21:04:17.783Z"
   },
   {
    "duration": 208,
    "start_time": "2022-09-02T21:04:18.329Z"
   },
   {
    "duration": 115,
    "start_time": "2022-09-02T21:04:18.539Z"
   },
   {
    "duration": 11,
    "start_time": "2022-09-02T21:04:18.656Z"
   },
   {
    "duration": 408,
    "start_time": "2022-09-02T21:04:18.668Z"
   },
   {
    "duration": 13,
    "start_time": "2022-09-02T21:04:19.078Z"
   },
   {
    "duration": 120,
    "start_time": "2022-09-02T21:04:19.093Z"
   },
   {
    "duration": 0,
    "start_time": "2022-09-02T21:04:19.215Z"
   },
   {
    "duration": 0,
    "start_time": "2022-09-02T21:04:19.216Z"
   },
   {
    "duration": 0,
    "start_time": "2022-09-02T21:04:19.217Z"
   },
   {
    "duration": 0,
    "start_time": "2022-09-02T21:04:19.218Z"
   },
   {
    "duration": 0,
    "start_time": "2022-09-02T21:04:19.218Z"
   },
   {
    "duration": 0,
    "start_time": "2022-09-02T21:04:19.219Z"
   },
   {
    "duration": 0,
    "start_time": "2022-09-02T21:04:19.220Z"
   },
   {
    "duration": 0,
    "start_time": "2022-09-02T21:04:19.221Z"
   },
   {
    "duration": 0,
    "start_time": "2022-09-02T21:04:19.223Z"
   },
   {
    "duration": 0,
    "start_time": "2022-09-02T21:04:19.223Z"
   },
   {
    "duration": 0,
    "start_time": "2022-09-02T21:04:19.224Z"
   },
   {
    "duration": 0,
    "start_time": "2022-09-02T21:04:19.225Z"
   },
   {
    "duration": 0,
    "start_time": "2022-09-02T21:04:19.226Z"
   },
   {
    "duration": 0,
    "start_time": "2022-09-02T21:04:19.227Z"
   },
   {
    "duration": 0,
    "start_time": "2022-09-02T21:04:19.228Z"
   },
   {
    "duration": 0,
    "start_time": "2022-09-02T21:04:19.229Z"
   },
   {
    "duration": 0,
    "start_time": "2022-09-02T21:04:19.230Z"
   },
   {
    "duration": 0,
    "start_time": "2022-09-02T21:04:19.231Z"
   },
   {
    "duration": 0,
    "start_time": "2022-09-02T21:04:19.232Z"
   },
   {
    "duration": 0,
    "start_time": "2022-09-02T21:04:19.234Z"
   },
   {
    "duration": 0,
    "start_time": "2022-09-02T21:04:19.234Z"
   },
   {
    "duration": 8,
    "start_time": "2022-09-02T21:12:26.236Z"
   },
   {
    "duration": 12,
    "start_time": "2022-09-02T21:12:27.129Z"
   },
   {
    "duration": 40,
    "start_time": "2022-09-02T21:12:27.924Z"
   },
   {
    "duration": 7,
    "start_time": "2022-09-02T21:12:28.794Z"
   },
   {
    "duration": 5,
    "start_time": "2022-09-02T21:12:29.564Z"
   },
   {
    "duration": 15,
    "start_time": "2022-09-02T21:12:30.176Z"
   },
   {
    "duration": 14,
    "start_time": "2022-09-02T21:12:30.645Z"
   },
   {
    "duration": 3,
    "start_time": "2022-09-02T21:12:31.329Z"
   },
   {
    "duration": 10,
    "start_time": "2022-09-02T21:12:32.149Z"
   },
   {
    "duration": 43,
    "start_time": "2022-09-02T21:12:32.877Z"
   },
   {
    "duration": 2138,
    "start_time": "2022-09-02T21:12:33.971Z"
   },
   {
    "duration": 20743,
    "start_time": "2022-09-02T21:12:36.112Z"
   },
   {
    "duration": 3545,
    "start_time": "2022-09-02T21:12:56.856Z"
   },
   {
    "duration": 5317,
    "start_time": "2022-09-02T21:13:00.402Z"
   },
   {
    "duration": 197789,
    "start_time": "2022-09-02T21:13:05.722Z"
   },
   {
    "duration": 494,
    "start_time": "2022-09-02T21:16:23.513Z"
   },
   {
    "duration": 222,
    "start_time": "2022-09-02T21:16:24.008Z"
   },
   {
    "duration": 5,
    "start_time": "2022-09-02T21:16:24.231Z"
   },
   {
    "duration": 13,
    "start_time": "2022-09-02T21:16:24.237Z"
   },
   {
    "duration": 12,
    "start_time": "2022-09-02T21:16:24.251Z"
   },
   {
    "duration": 209,
    "start_time": "2022-09-02T21:16:24.264Z"
   },
   {
    "duration": 1391,
    "start_time": "2022-09-02T21:42:15.853Z"
   },
   {
    "duration": 150,
    "start_time": "2022-09-02T21:42:17.246Z"
   },
   {
    "duration": 1,
    "start_time": "2022-09-02T21:42:17.398Z"
   },
   {
    "duration": 1,
    "start_time": "2022-09-02T21:42:17.399Z"
   },
   {
    "duration": 0,
    "start_time": "2022-09-02T21:42:17.405Z"
   },
   {
    "duration": 0,
    "start_time": "2022-09-02T21:42:17.406Z"
   },
   {
    "duration": 0,
    "start_time": "2022-09-02T21:42:17.407Z"
   },
   {
    "duration": 0,
    "start_time": "2022-09-02T21:42:17.408Z"
   },
   {
    "duration": 0,
    "start_time": "2022-09-02T21:42:17.409Z"
   },
   {
    "duration": 0,
    "start_time": "2022-09-02T21:42:17.410Z"
   },
   {
    "duration": 0,
    "start_time": "2022-09-02T21:42:17.410Z"
   },
   {
    "duration": 0,
    "start_time": "2022-09-02T21:42:17.411Z"
   },
   {
    "duration": 0,
    "start_time": "2022-09-02T21:42:17.412Z"
   },
   {
    "duration": 0,
    "start_time": "2022-09-02T21:42:17.413Z"
   },
   {
    "duration": 0,
    "start_time": "2022-09-02T21:42:17.414Z"
   },
   {
    "duration": 0,
    "start_time": "2022-09-02T21:42:17.415Z"
   },
   {
    "duration": 0,
    "start_time": "2022-09-02T21:42:17.416Z"
   },
   {
    "duration": 0,
    "start_time": "2022-09-02T21:42:17.417Z"
   },
   {
    "duration": 0,
    "start_time": "2022-09-02T21:42:17.418Z"
   },
   {
    "duration": 0,
    "start_time": "2022-09-02T21:42:17.419Z"
   },
   {
    "duration": 0,
    "start_time": "2022-09-02T21:42:17.420Z"
   },
   {
    "duration": 0,
    "start_time": "2022-09-02T21:42:17.420Z"
   },
   {
    "duration": 0,
    "start_time": "2022-09-02T21:42:17.421Z"
   },
   {
    "duration": 0,
    "start_time": "2022-09-02T21:42:17.422Z"
   },
   {
    "duration": 0,
    "start_time": "2022-09-02T21:42:17.423Z"
   },
   {
    "duration": 0,
    "start_time": "2022-09-02T21:42:17.424Z"
   },
   {
    "duration": 0,
    "start_time": "2022-09-02T21:42:17.425Z"
   },
   {
    "duration": 0,
    "start_time": "2022-09-02T21:42:17.425Z"
   },
   {
    "duration": 0,
    "start_time": "2022-09-02T21:42:17.426Z"
   },
   {
    "duration": 0,
    "start_time": "2022-09-02T21:42:17.427Z"
   },
   {
    "duration": 0,
    "start_time": "2022-09-02T21:42:17.428Z"
   },
   {
    "duration": 0,
    "start_time": "2022-09-02T21:42:17.429Z"
   },
   {
    "duration": 0,
    "start_time": "2022-09-02T21:42:17.430Z"
   },
   {
    "duration": 0,
    "start_time": "2022-09-02T21:42:17.431Z"
   },
   {
    "duration": 0,
    "start_time": "2022-09-02T21:42:17.432Z"
   },
   {
    "duration": 0,
    "start_time": "2022-09-02T21:42:17.433Z"
   },
   {
    "duration": 0,
    "start_time": "2022-09-02T21:42:17.434Z"
   },
   {
    "duration": 0,
    "start_time": "2022-09-02T21:42:17.435Z"
   },
   {
    "duration": 0,
    "start_time": "2022-09-02T21:42:17.436Z"
   },
   {
    "duration": 0,
    "start_time": "2022-09-02T21:42:17.436Z"
   },
   {
    "duration": 0,
    "start_time": "2022-09-02T21:42:17.437Z"
   },
   {
    "duration": 1498,
    "start_time": "2022-09-02T21:43:05.882Z"
   },
   {
    "duration": 140,
    "start_time": "2022-09-02T21:43:07.381Z"
   },
   {
    "duration": 0,
    "start_time": "2022-09-02T21:43:07.524Z"
   },
   {
    "duration": 0,
    "start_time": "2022-09-02T21:43:07.526Z"
   },
   {
    "duration": 0,
    "start_time": "2022-09-02T21:43:07.526Z"
   },
   {
    "duration": 0,
    "start_time": "2022-09-02T21:43:07.528Z"
   },
   {
    "duration": 0,
    "start_time": "2022-09-02T21:43:07.528Z"
   },
   {
    "duration": 0,
    "start_time": "2022-09-02T21:43:07.529Z"
   },
   {
    "duration": 0,
    "start_time": "2022-09-02T21:43:07.530Z"
   },
   {
    "duration": 0,
    "start_time": "2022-09-02T21:43:07.531Z"
   },
   {
    "duration": 0,
    "start_time": "2022-09-02T21:43:07.532Z"
   },
   {
    "duration": 0,
    "start_time": "2022-09-02T21:43:07.533Z"
   },
   {
    "duration": 0,
    "start_time": "2022-09-02T21:43:07.534Z"
   },
   {
    "duration": 0,
    "start_time": "2022-09-02T21:43:07.535Z"
   },
   {
    "duration": 0,
    "start_time": "2022-09-02T21:43:07.536Z"
   },
   {
    "duration": 0,
    "start_time": "2022-09-02T21:43:07.537Z"
   },
   {
    "duration": 0,
    "start_time": "2022-09-02T21:43:07.538Z"
   },
   {
    "duration": 0,
    "start_time": "2022-09-02T21:43:07.539Z"
   },
   {
    "duration": 0,
    "start_time": "2022-09-02T21:43:07.540Z"
   },
   {
    "duration": 0,
    "start_time": "2022-09-02T21:43:07.541Z"
   },
   {
    "duration": 0,
    "start_time": "2022-09-02T21:43:07.542Z"
   },
   {
    "duration": 0,
    "start_time": "2022-09-02T21:43:07.543Z"
   },
   {
    "duration": 0,
    "start_time": "2022-09-02T21:43:07.544Z"
   },
   {
    "duration": 0,
    "start_time": "2022-09-02T21:43:07.545Z"
   },
   {
    "duration": 0,
    "start_time": "2022-09-02T21:43:07.546Z"
   },
   {
    "duration": 0,
    "start_time": "2022-09-02T21:43:07.547Z"
   },
   {
    "duration": 0,
    "start_time": "2022-09-02T21:43:07.548Z"
   },
   {
    "duration": 0,
    "start_time": "2022-09-02T21:43:07.549Z"
   },
   {
    "duration": 0,
    "start_time": "2022-09-02T21:43:07.550Z"
   },
   {
    "duration": 0,
    "start_time": "2022-09-02T21:43:07.550Z"
   },
   {
    "duration": 0,
    "start_time": "2022-09-02T21:43:07.551Z"
   },
   {
    "duration": 0,
    "start_time": "2022-09-02T21:43:07.552Z"
   },
   {
    "duration": 0,
    "start_time": "2022-09-02T21:43:07.553Z"
   },
   {
    "duration": 0,
    "start_time": "2022-09-02T21:43:07.554Z"
   },
   {
    "duration": 0,
    "start_time": "2022-09-02T21:43:07.555Z"
   },
   {
    "duration": 0,
    "start_time": "2022-09-02T21:43:07.555Z"
   },
   {
    "duration": 0,
    "start_time": "2022-09-02T21:43:07.557Z"
   },
   {
    "duration": 0,
    "start_time": "2022-09-02T21:43:07.557Z"
   },
   {
    "duration": 0,
    "start_time": "2022-09-02T21:43:07.558Z"
   },
   {
    "duration": 0,
    "start_time": "2022-09-02T21:43:07.558Z"
   },
   {
    "duration": 0,
    "start_time": "2022-09-02T21:43:07.606Z"
   },
   {
    "duration": 1771,
    "start_time": "2022-09-02T21:44:03.345Z"
   },
   {
    "duration": 42,
    "start_time": "2022-09-02T21:44:05.117Z"
   },
   {
    "duration": 9,
    "start_time": "2022-09-02T21:44:05.160Z"
   },
   {
    "duration": 10,
    "start_time": "2022-09-02T21:44:05.171Z"
   },
   {
    "duration": 6,
    "start_time": "2022-09-02T21:44:05.182Z"
   },
   {
    "duration": 12,
    "start_time": "2022-09-02T21:44:05.189Z"
   },
   {
    "duration": 190,
    "start_time": "2022-09-02T21:44:05.203Z"
   },
   {
    "duration": 36,
    "start_time": "2022-09-02T21:44:05.395Z"
   },
   {
    "duration": 6,
    "start_time": "2022-09-02T21:44:05.433Z"
   },
   {
    "duration": 4,
    "start_time": "2022-09-02T21:44:05.442Z"
   },
   {
    "duration": 12,
    "start_time": "2022-09-02T21:44:05.448Z"
   },
   {
    "duration": 364,
    "start_time": "2022-09-02T21:44:05.461Z"
   },
   {
    "duration": 283,
    "start_time": "2022-09-02T21:44:05.826Z"
   },
   {
    "duration": 542,
    "start_time": "2022-09-02T21:44:06.111Z"
   },
   {
    "duration": 169,
    "start_time": "2022-09-02T21:44:06.655Z"
   },
   {
    "duration": 115,
    "start_time": "2022-09-02T21:44:06.826Z"
   },
   {
    "duration": 10,
    "start_time": "2022-09-02T21:44:06.943Z"
   },
   {
    "duration": 389,
    "start_time": "2022-09-02T21:44:06.955Z"
   },
   {
    "duration": 11,
    "start_time": "2022-09-02T21:44:07.346Z"
   },
   {
    "duration": 116,
    "start_time": "2022-09-02T21:44:07.359Z"
   },
   {
    "duration": 0,
    "start_time": "2022-09-02T21:44:07.477Z"
   },
   {
    "duration": 0,
    "start_time": "2022-09-02T21:44:07.478Z"
   },
   {
    "duration": 0,
    "start_time": "2022-09-02T21:44:07.479Z"
   },
   {
    "duration": 0,
    "start_time": "2022-09-02T21:44:07.480Z"
   },
   {
    "duration": 0,
    "start_time": "2022-09-02T21:44:07.481Z"
   },
   {
    "duration": 0,
    "start_time": "2022-09-02T21:44:07.482Z"
   },
   {
    "duration": 0,
    "start_time": "2022-09-02T21:44:07.483Z"
   },
   {
    "duration": 0,
    "start_time": "2022-09-02T21:44:07.484Z"
   },
   {
    "duration": 0,
    "start_time": "2022-09-02T21:44:07.485Z"
   },
   {
    "duration": 0,
    "start_time": "2022-09-02T21:44:07.486Z"
   },
   {
    "duration": 0,
    "start_time": "2022-09-02T21:44:07.487Z"
   },
   {
    "duration": 0,
    "start_time": "2022-09-02T21:44:07.506Z"
   },
   {
    "duration": 0,
    "start_time": "2022-09-02T21:44:07.507Z"
   },
   {
    "duration": 0,
    "start_time": "2022-09-02T21:44:07.509Z"
   },
   {
    "duration": 0,
    "start_time": "2022-09-02T21:44:07.510Z"
   },
   {
    "duration": 0,
    "start_time": "2022-09-02T21:44:07.511Z"
   },
   {
    "duration": 0,
    "start_time": "2022-09-02T21:44:07.513Z"
   },
   {
    "duration": 0,
    "start_time": "2022-09-02T21:44:07.514Z"
   },
   {
    "duration": 0,
    "start_time": "2022-09-02T21:44:07.514Z"
   },
   {
    "duration": 0,
    "start_time": "2022-09-02T21:44:07.515Z"
   },
   {
    "duration": 0,
    "start_time": "2022-09-02T21:44:07.516Z"
   },
   {
    "duration": 1457,
    "start_time": "2022-09-02T21:45:56.832Z"
   },
   {
    "duration": 43,
    "start_time": "2022-09-02T21:45:58.291Z"
   },
   {
    "duration": 10,
    "start_time": "2022-09-02T21:45:58.336Z"
   },
   {
    "duration": 11,
    "start_time": "2022-09-02T21:45:58.348Z"
   },
   {
    "duration": 9,
    "start_time": "2022-09-02T21:45:58.361Z"
   },
   {
    "duration": 15,
    "start_time": "2022-09-02T21:45:58.371Z"
   },
   {
    "duration": 189,
    "start_time": "2022-09-02T21:45:58.388Z"
   },
   {
    "duration": 28,
    "start_time": "2022-09-02T21:45:58.579Z"
   },
   {
    "duration": 7,
    "start_time": "2022-09-02T21:45:58.608Z"
   },
   {
    "duration": 7,
    "start_time": "2022-09-02T21:45:58.616Z"
   },
   {
    "duration": 13,
    "start_time": "2022-09-02T21:45:58.624Z"
   },
   {
    "duration": 366,
    "start_time": "2022-09-02T21:45:58.638Z"
   },
   {
    "duration": 259,
    "start_time": "2022-09-02T21:45:59.006Z"
   },
   {
    "duration": 501,
    "start_time": "2022-09-02T21:45:59.267Z"
   },
   {
    "duration": 188,
    "start_time": "2022-09-02T21:45:59.769Z"
   },
   {
    "duration": 114,
    "start_time": "2022-09-02T21:45:59.959Z"
   },
   {
    "duration": 11,
    "start_time": "2022-09-02T21:46:00.074Z"
   },
   {
    "duration": 395,
    "start_time": "2022-09-02T21:46:00.086Z"
   },
   {
    "duration": 18,
    "start_time": "2022-09-02T21:46:00.483Z"
   },
   {
    "duration": 139,
    "start_time": "2022-09-02T21:46:00.502Z"
   },
   {
    "duration": 0,
    "start_time": "2022-09-02T21:46:00.643Z"
   },
   {
    "duration": 0,
    "start_time": "2022-09-02T21:46:00.644Z"
   },
   {
    "duration": 0,
    "start_time": "2022-09-02T21:46:00.645Z"
   },
   {
    "duration": 0,
    "start_time": "2022-09-02T21:46:00.646Z"
   },
   {
    "duration": 0,
    "start_time": "2022-09-02T21:46:00.647Z"
   },
   {
    "duration": 0,
    "start_time": "2022-09-02T21:46:00.647Z"
   },
   {
    "duration": 0,
    "start_time": "2022-09-02T21:46:00.648Z"
   },
   {
    "duration": 0,
    "start_time": "2022-09-02T21:46:00.649Z"
   },
   {
    "duration": 0,
    "start_time": "2022-09-02T21:46:00.650Z"
   },
   {
    "duration": 0,
    "start_time": "2022-09-02T21:46:00.651Z"
   },
   {
    "duration": 0,
    "start_time": "2022-09-02T21:46:00.652Z"
   },
   {
    "duration": 0,
    "start_time": "2022-09-02T21:46:00.653Z"
   },
   {
    "duration": 0,
    "start_time": "2022-09-02T21:46:00.654Z"
   },
   {
    "duration": 0,
    "start_time": "2022-09-02T21:46:00.655Z"
   },
   {
    "duration": 0,
    "start_time": "2022-09-02T21:46:00.655Z"
   },
   {
    "duration": 0,
    "start_time": "2022-09-02T21:46:00.656Z"
   },
   {
    "duration": 0,
    "start_time": "2022-09-02T21:46:00.657Z"
   },
   {
    "duration": 0,
    "start_time": "2022-09-02T21:46:00.658Z"
   },
   {
    "duration": 0,
    "start_time": "2022-09-02T21:46:00.658Z"
   },
   {
    "duration": 0,
    "start_time": "2022-09-02T21:46:00.660Z"
   },
   {
    "duration": 0,
    "start_time": "2022-09-02T21:46:00.661Z"
   },
   {
    "duration": 13,
    "start_time": "2022-09-02T21:46:51.468Z"
   },
   {
    "duration": 1450,
    "start_time": "2022-09-02T21:47:15.840Z"
   },
   {
    "duration": 41,
    "start_time": "2022-09-02T21:47:17.292Z"
   },
   {
    "duration": 10,
    "start_time": "2022-09-02T21:47:17.335Z"
   },
   {
    "duration": 11,
    "start_time": "2022-09-02T21:47:17.347Z"
   },
   {
    "duration": 7,
    "start_time": "2022-09-02T21:47:17.360Z"
   },
   {
    "duration": 11,
    "start_time": "2022-09-02T21:47:17.368Z"
   },
   {
    "duration": 216,
    "start_time": "2022-09-02T21:47:17.381Z"
   },
   {
    "duration": 27,
    "start_time": "2022-09-02T21:47:17.599Z"
   },
   {
    "duration": 6,
    "start_time": "2022-09-02T21:47:17.627Z"
   },
   {
    "duration": 7,
    "start_time": "2022-09-02T21:47:17.634Z"
   },
   {
    "duration": 13,
    "start_time": "2022-09-02T21:47:17.642Z"
   },
   {
    "duration": 362,
    "start_time": "2022-09-02T21:47:17.657Z"
   },
   {
    "duration": 245,
    "start_time": "2022-09-02T21:47:18.021Z"
   },
   {
    "duration": 485,
    "start_time": "2022-09-02T21:47:18.269Z"
   },
   {
    "duration": 178,
    "start_time": "2022-09-02T21:47:18.756Z"
   },
   {
    "duration": 111,
    "start_time": "2022-09-02T21:47:18.936Z"
   },
   {
    "duration": 11,
    "start_time": "2022-09-02T21:47:19.049Z"
   },
   {
    "duration": 374,
    "start_time": "2022-09-02T21:47:19.062Z"
   },
   {
    "duration": 13,
    "start_time": "2022-09-02T21:47:19.438Z"
   },
   {
    "duration": 117,
    "start_time": "2022-09-02T21:47:19.452Z"
   },
   {
    "duration": 0,
    "start_time": "2022-09-02T21:47:19.570Z"
   },
   {
    "duration": 0,
    "start_time": "2022-09-02T21:47:19.572Z"
   },
   {
    "duration": 0,
    "start_time": "2022-09-02T21:47:19.573Z"
   },
   {
    "duration": 0,
    "start_time": "2022-09-02T21:47:19.574Z"
   },
   {
    "duration": 0,
    "start_time": "2022-09-02T21:47:19.575Z"
   },
   {
    "duration": 0,
    "start_time": "2022-09-02T21:47:19.577Z"
   },
   {
    "duration": 0,
    "start_time": "2022-09-02T21:47:19.578Z"
   },
   {
    "duration": 0,
    "start_time": "2022-09-02T21:47:19.579Z"
   },
   {
    "duration": 0,
    "start_time": "2022-09-02T21:47:19.581Z"
   },
   {
    "duration": 0,
    "start_time": "2022-09-02T21:47:19.582Z"
   },
   {
    "duration": 0,
    "start_time": "2022-09-02T21:47:19.606Z"
   },
   {
    "duration": 0,
    "start_time": "2022-09-02T21:47:19.607Z"
   },
   {
    "duration": 0,
    "start_time": "2022-09-02T21:47:19.608Z"
   },
   {
    "duration": 0,
    "start_time": "2022-09-02T21:47:19.609Z"
   },
   {
    "duration": 0,
    "start_time": "2022-09-02T21:47:19.610Z"
   },
   {
    "duration": 0,
    "start_time": "2022-09-02T21:47:19.611Z"
   },
   {
    "duration": 0,
    "start_time": "2022-09-02T21:47:19.612Z"
   },
   {
    "duration": 0,
    "start_time": "2022-09-02T21:47:19.613Z"
   },
   {
    "duration": 0,
    "start_time": "2022-09-02T21:47:19.614Z"
   },
   {
    "duration": 0,
    "start_time": "2022-09-02T21:47:19.615Z"
   },
   {
    "duration": 0,
    "start_time": "2022-09-02T21:47:19.616Z"
   },
   {
    "duration": 1449,
    "start_time": "2022-09-03T01:29:16.796Z"
   },
   {
    "duration": 43,
    "start_time": "2022-09-03T01:29:18.246Z"
   },
   {
    "duration": 9,
    "start_time": "2022-09-03T01:29:18.291Z"
   },
   {
    "duration": 26,
    "start_time": "2022-09-03T01:29:18.301Z"
   },
   {
    "duration": 14,
    "start_time": "2022-09-03T01:29:18.329Z"
   },
   {
    "duration": 22,
    "start_time": "2022-09-03T01:29:18.344Z"
   },
   {
    "duration": 203,
    "start_time": "2022-09-03T01:29:18.368Z"
   },
   {
    "duration": 23,
    "start_time": "2022-09-03T01:29:18.573Z"
   },
   {
    "duration": 7,
    "start_time": "2022-09-03T01:29:18.605Z"
   },
   {
    "duration": 7,
    "start_time": "2022-09-03T01:29:18.613Z"
   },
   {
    "duration": 16,
    "start_time": "2022-09-03T01:29:18.622Z"
   },
   {
    "duration": 357,
    "start_time": "2022-09-03T01:29:18.640Z"
   },
   {
    "duration": 239,
    "start_time": "2022-09-03T01:29:18.999Z"
   },
   {
    "duration": 491,
    "start_time": "2022-09-03T01:29:19.242Z"
   },
   {
    "duration": 190,
    "start_time": "2022-09-03T01:29:19.735Z"
   },
   {
    "duration": 109,
    "start_time": "2022-09-03T01:29:19.927Z"
   },
   {
    "duration": 13,
    "start_time": "2022-09-03T01:29:20.038Z"
   },
   {
    "duration": 363,
    "start_time": "2022-09-03T01:29:20.053Z"
   },
   {
    "duration": 16,
    "start_time": "2022-09-03T01:29:20.418Z"
   },
   {
    "duration": 655,
    "start_time": "2022-09-03T01:29:20.436Z"
   },
   {
    "duration": 7,
    "start_time": "2022-09-03T01:29:21.093Z"
   },
   {
    "duration": 16,
    "start_time": "2022-09-03T01:29:21.101Z"
   },
   {
    "duration": 143,
    "start_time": "2022-09-03T01:29:21.119Z"
   },
   {
    "duration": 7,
    "start_time": "2022-09-03T01:29:21.264Z"
   },
   {
    "duration": 10,
    "start_time": "2022-09-03T01:29:21.272Z"
   },
   {
    "duration": 27,
    "start_time": "2022-09-03T01:29:21.283Z"
   },
   {
    "duration": 15,
    "start_time": "2022-09-03T01:29:21.312Z"
   },
   {
    "duration": 5,
    "start_time": "2022-09-03T01:29:21.329Z"
   },
   {
    "duration": 9,
    "start_time": "2022-09-03T01:29:21.336Z"
   },
   {
    "duration": 88,
    "start_time": "2022-09-03T01:29:21.347Z"
   },
   {
    "duration": 1981,
    "start_time": "2022-09-03T01:29:21.506Z"
   },
   {
    "duration": 114050,
    "start_time": "2022-09-03T01:29:23.488Z"
   },
   {
    "duration": 3216,
    "start_time": "2022-09-03T01:31:17.540Z"
   },
   {
    "duration": 118151,
    "start_time": "2022-09-03T01:31:20.758Z"
   },
   {
    "duration": 150697,
    "start_time": "2022-09-03T01:33:18.910Z"
   },
   {
    "duration": 1601,
    "start_time": "2022-09-03T01:35:49.609Z"
   },
   {
    "duration": 248,
    "start_time": "2022-09-03T01:35:51.213Z"
   },
   {
    "duration": 5,
    "start_time": "2022-09-03T01:35:51.462Z"
   },
   {
    "duration": 15,
    "start_time": "2022-09-03T01:35:51.468Z"
   },
   {
    "duration": 9,
    "start_time": "2022-09-03T01:35:51.485Z"
   },
   {
    "duration": 207,
    "start_time": "2022-09-03T01:35:51.497Z"
   },
   {
    "duration": 1612,
    "start_time": "2022-09-03T01:40:04.399Z"
   },
   {
    "duration": 54,
    "start_time": "2022-09-03T01:40:06.014Z"
   },
   {
    "duration": 11,
    "start_time": "2022-09-03T01:40:06.070Z"
   },
   {
    "duration": 13,
    "start_time": "2022-09-03T01:40:06.083Z"
   },
   {
    "duration": 5,
    "start_time": "2022-09-03T01:40:06.098Z"
   },
   {
    "duration": 29,
    "start_time": "2022-09-03T01:40:06.104Z"
   },
   {
    "duration": 198,
    "start_time": "2022-09-03T01:40:06.134Z"
   },
   {
    "duration": 22,
    "start_time": "2022-09-03T01:40:06.334Z"
   },
   {
    "duration": 6,
    "start_time": "2022-09-03T01:40:06.357Z"
   },
   {
    "duration": 8,
    "start_time": "2022-09-03T01:40:06.364Z"
   },
   {
    "duration": 14,
    "start_time": "2022-09-03T01:40:06.373Z"
   },
   {
    "duration": 391,
    "start_time": "2022-09-03T01:40:06.388Z"
   },
   {
    "duration": 250,
    "start_time": "2022-09-03T01:40:06.780Z"
   },
   {
    "duration": 508,
    "start_time": "2022-09-03T01:40:07.033Z"
   },
   {
    "duration": 183,
    "start_time": "2022-09-03T01:40:07.543Z"
   },
   {
    "duration": 112,
    "start_time": "2022-09-03T01:40:07.728Z"
   },
   {
    "duration": 11,
    "start_time": "2022-09-03T01:40:07.842Z"
   },
   {
    "duration": 393,
    "start_time": "2022-09-03T01:40:07.855Z"
   },
   {
    "duration": 12,
    "start_time": "2022-09-03T01:40:08.250Z"
   },
   {
    "duration": 125,
    "start_time": "2022-09-03T01:40:08.264Z"
   },
   {
    "duration": 0,
    "start_time": "2022-09-03T01:40:08.391Z"
   },
   {
    "duration": 0,
    "start_time": "2022-09-03T01:40:08.392Z"
   },
   {
    "duration": 0,
    "start_time": "2022-09-03T01:40:08.393Z"
   },
   {
    "duration": 0,
    "start_time": "2022-09-03T01:40:08.394Z"
   },
   {
    "duration": 0,
    "start_time": "2022-09-03T01:40:08.395Z"
   },
   {
    "duration": 0,
    "start_time": "2022-09-03T01:40:08.406Z"
   },
   {
    "duration": 0,
    "start_time": "2022-09-03T01:40:08.418Z"
   },
   {
    "duration": 0,
    "start_time": "2022-09-03T01:40:08.424Z"
   },
   {
    "duration": 0,
    "start_time": "2022-09-03T01:40:08.424Z"
   },
   {
    "duration": 0,
    "start_time": "2022-09-03T01:40:08.425Z"
   },
   {
    "duration": 0,
    "start_time": "2022-09-03T01:40:08.426Z"
   },
   {
    "duration": 0,
    "start_time": "2022-09-03T01:40:08.427Z"
   },
   {
    "duration": 0,
    "start_time": "2022-09-03T01:40:08.428Z"
   },
   {
    "duration": 0,
    "start_time": "2022-09-03T01:40:08.429Z"
   },
   {
    "duration": 0,
    "start_time": "2022-09-03T01:40:08.430Z"
   },
   {
    "duration": 0,
    "start_time": "2022-09-03T01:40:08.431Z"
   },
   {
    "duration": 0,
    "start_time": "2022-09-03T01:40:08.432Z"
   },
   {
    "duration": 0,
    "start_time": "2022-09-03T01:40:08.433Z"
   },
   {
    "duration": 0,
    "start_time": "2022-09-03T01:40:08.434Z"
   },
   {
    "duration": 0,
    "start_time": "2022-09-03T01:40:08.435Z"
   },
   {
    "duration": 0,
    "start_time": "2022-09-03T01:40:08.436Z"
   },
   {
    "duration": 6,
    "start_time": "2022-09-03T01:41:19.385Z"
   },
   {
    "duration": 12,
    "start_time": "2022-09-03T01:41:19.873Z"
   },
   {
    "duration": 43,
    "start_time": "2022-09-03T01:41:20.648Z"
   },
   {
    "duration": 6,
    "start_time": "2022-09-03T01:41:21.396Z"
   },
   {
    "duration": 5,
    "start_time": "2022-09-03T01:41:22.151Z"
   },
   {
    "duration": 19,
    "start_time": "2022-09-03T01:41:22.808Z"
   },
   {
    "duration": 15,
    "start_time": "2022-09-03T01:41:23.617Z"
   },
   {
    "duration": 3,
    "start_time": "2022-09-03T01:41:25.153Z"
   },
   {
    "duration": 10,
    "start_time": "2022-09-03T01:41:26.948Z"
   },
   {
    "duration": 41,
    "start_time": "2022-09-03T01:41:28.414Z"
   },
   {
    "duration": 2030,
    "start_time": "2022-09-03T01:41:29.977Z"
   },
   {
    "duration": 15353,
    "start_time": "2022-09-03T01:41:32.009Z"
   },
   {
    "duration": 3709,
    "start_time": "2022-09-03T01:41:47.364Z"
   },
   {
    "duration": 2349,
    "start_time": "2022-09-03T01:41:51.075Z"
   },
   {
    "duration": 155084,
    "start_time": "2022-09-03T01:41:53.425Z"
   },
   {
    "duration": 2101,
    "start_time": "2022-09-03T01:44:28.512Z"
   },
   {
    "duration": 227,
    "start_time": "2022-09-03T01:44:30.620Z"
   },
   {
    "duration": 6,
    "start_time": "2022-09-03T01:44:30.849Z"
   },
   {
    "duration": 13,
    "start_time": "2022-09-03T01:44:30.856Z"
   },
   {
    "duration": 12,
    "start_time": "2022-09-03T01:44:30.871Z"
   },
   {
    "duration": 245,
    "start_time": "2022-09-03T01:44:30.884Z"
   },
   {
    "duration": 1540,
    "start_time": "2022-09-03T01:46:15.881Z"
   },
   {
    "duration": 41,
    "start_time": "2022-09-03T01:46:17.423Z"
   },
   {
    "duration": 9,
    "start_time": "2022-09-03T01:46:17.465Z"
   },
   {
    "duration": 11,
    "start_time": "2022-09-03T01:46:17.476Z"
   },
   {
    "duration": 5,
    "start_time": "2022-09-03T01:46:17.488Z"
   },
   {
    "duration": 18,
    "start_time": "2022-09-03T01:46:17.495Z"
   },
   {
    "duration": 197,
    "start_time": "2022-09-03T01:46:17.514Z"
   },
   {
    "duration": 24,
    "start_time": "2022-09-03T01:46:17.713Z"
   },
   {
    "duration": 7,
    "start_time": "2022-09-03T01:46:17.738Z"
   },
   {
    "duration": 6,
    "start_time": "2022-09-03T01:46:17.748Z"
   },
   {
    "duration": 17,
    "start_time": "2022-09-03T01:46:17.755Z"
   },
   {
    "duration": 397,
    "start_time": "2022-09-03T01:46:17.774Z"
   },
   {
    "duration": 247,
    "start_time": "2022-09-03T01:46:18.172Z"
   },
   {
    "duration": 516,
    "start_time": "2022-09-03T01:46:18.421Z"
   },
   {
    "duration": 184,
    "start_time": "2022-09-03T01:46:18.938Z"
   },
   {
    "duration": 116,
    "start_time": "2022-09-03T01:46:19.124Z"
   },
   {
    "duration": 12,
    "start_time": "2022-09-03T01:46:19.242Z"
   },
   {
    "duration": 381,
    "start_time": "2022-09-03T01:46:19.255Z"
   },
   {
    "duration": 9,
    "start_time": "2022-09-03T01:46:19.638Z"
   },
   {
    "duration": 647,
    "start_time": "2022-09-03T01:46:19.649Z"
   },
   {
    "duration": 21,
    "start_time": "2022-09-03T01:46:20.298Z"
   },
   {
    "duration": 14,
    "start_time": "2022-09-03T01:46:20.320Z"
   },
   {
    "duration": 132,
    "start_time": "2022-09-03T01:46:20.335Z"
   },
   {
    "duration": 5,
    "start_time": "2022-09-03T01:46:20.469Z"
   },
   {
    "duration": 5,
    "start_time": "2022-09-03T01:46:20.476Z"
   },
   {
    "duration": 15,
    "start_time": "2022-09-03T01:46:20.482Z"
   },
   {
    "duration": 25,
    "start_time": "2022-09-03T01:46:20.499Z"
   },
   {
    "duration": 6,
    "start_time": "2022-09-03T01:46:20.527Z"
   },
   {
    "duration": 11,
    "start_time": "2022-09-03T01:46:20.534Z"
   },
   {
    "duration": 91,
    "start_time": "2022-09-03T01:46:20.546Z"
   },
   {
    "duration": 2158,
    "start_time": "2022-09-03T01:46:20.639Z"
   },
   {
    "duration": 15247,
    "start_time": "2022-09-03T01:46:22.799Z"
   },
   {
    "duration": 3672,
    "start_time": "2022-09-03T01:46:38.048Z"
   },
   {
    "duration": 3793,
    "start_time": "2022-09-03T01:46:41.722Z"
   },
   {
    "duration": 167704,
    "start_time": "2022-09-03T01:46:45.517Z"
   },
   {
    "duration": 1999,
    "start_time": "2022-09-03T01:49:33.223Z"
   },
   {
    "duration": 252,
    "start_time": "2022-09-03T01:49:35.224Z"
   },
   {
    "duration": 5,
    "start_time": "2022-09-03T01:49:35.477Z"
   },
   {
    "duration": 10,
    "start_time": "2022-09-03T01:49:35.483Z"
   },
   {
    "duration": 25,
    "start_time": "2022-09-03T01:49:35.494Z"
   },
   {
    "duration": 218,
    "start_time": "2022-09-03T01:49:35.520Z"
   },
   {
    "duration": 3262,
    "start_time": "2022-09-03T16:04:51.592Z"
   },
   {
    "duration": 103,
    "start_time": "2022-09-03T16:04:54.856Z"
   },
   {
    "duration": 10,
    "start_time": "2022-09-03T16:04:54.961Z"
   },
   {
    "duration": 12,
    "start_time": "2022-09-03T16:04:54.972Z"
   },
   {
    "duration": 6,
    "start_time": "2022-09-03T16:04:54.985Z"
   },
   {
    "duration": 13,
    "start_time": "2022-09-03T16:04:54.992Z"
   },
   {
    "duration": 195,
    "start_time": "2022-09-03T16:04:55.006Z"
   },
   {
    "duration": 23,
    "start_time": "2022-09-03T16:04:55.203Z"
   },
   {
    "duration": 12,
    "start_time": "2022-09-03T16:04:55.227Z"
   },
   {
    "duration": 6,
    "start_time": "2022-09-03T16:04:55.240Z"
   },
   {
    "duration": 29,
    "start_time": "2022-09-03T16:04:55.248Z"
   },
   {
    "duration": 344,
    "start_time": "2022-09-03T16:04:55.278Z"
   },
   {
    "duration": 243,
    "start_time": "2022-09-03T16:04:55.623Z"
   },
   {
    "duration": 502,
    "start_time": "2022-09-03T16:04:55.869Z"
   },
   {
    "duration": 188,
    "start_time": "2022-09-03T16:04:56.373Z"
   },
   {
    "duration": 108,
    "start_time": "2022-09-03T16:04:56.562Z"
   },
   {
    "duration": 11,
    "start_time": "2022-09-03T16:04:56.672Z"
   },
   {
    "duration": 361,
    "start_time": "2022-09-03T16:04:56.684Z"
   },
   {
    "duration": 12,
    "start_time": "2022-09-03T16:04:57.047Z"
   },
   {
    "duration": 636,
    "start_time": "2022-09-03T16:04:57.060Z"
   },
   {
    "duration": 7,
    "start_time": "2022-09-03T16:04:57.698Z"
   },
   {
    "duration": 19,
    "start_time": "2022-09-03T16:04:57.706Z"
   },
   {
    "duration": 131,
    "start_time": "2022-09-03T16:04:57.726Z"
   },
   {
    "duration": 6,
    "start_time": "2022-09-03T16:04:57.858Z"
   },
   {
    "duration": 11,
    "start_time": "2022-09-03T16:04:57.865Z"
   },
   {
    "duration": 16,
    "start_time": "2022-09-03T16:04:57.877Z"
   },
   {
    "duration": 15,
    "start_time": "2022-09-03T16:04:57.894Z"
   },
   {
    "duration": 6,
    "start_time": "2022-09-03T16:04:57.910Z"
   },
   {
    "duration": 28,
    "start_time": "2022-09-03T16:04:57.917Z"
   },
   {
    "duration": 220,
    "start_time": "2022-09-03T16:04:57.946Z"
   },
   {
    "duration": 2107,
    "start_time": "2022-09-03T16:04:58.168Z"
   },
   {
    "duration": 3990,
    "start_time": "2022-09-03T16:05:00.277Z"
   },
   {
    "duration": 5877,
    "start_time": "2022-09-03T16:05:04.269Z"
   },
   {
    "duration": 799,
    "start_time": "2022-09-03T16:05:10.147Z"
   },
   {
    "duration": 20622,
    "start_time": "2022-09-03T16:05:10.948Z"
   },
   {
    "duration": 0,
    "start_time": "2022-09-03T16:05:31.572Z"
   },
   {
    "duration": 0,
    "start_time": "2022-09-03T16:05:31.573Z"
   },
   {
    "duration": 0,
    "start_time": "2022-09-03T16:05:31.574Z"
   },
   {
    "duration": 0,
    "start_time": "2022-09-03T16:05:31.575Z"
   },
   {
    "duration": 0,
    "start_time": "2022-09-03T16:05:31.576Z"
   },
   {
    "duration": 0,
    "start_time": "2022-09-03T16:05:31.577Z"
   },
   {
    "duration": 8,
    "start_time": "2022-09-03T16:05:39.925Z"
   },
   {
    "duration": 638,
    "start_time": "2022-09-03T16:07:12.124Z"
   },
   {
    "duration": 684,
    "start_time": "2022-09-03T16:07:30.721Z"
   },
   {
    "duration": 1379,
    "start_time": "2022-09-03T16:08:42.798Z"
   },
   {
    "duration": 44,
    "start_time": "2022-09-03T16:08:44.179Z"
   },
   {
    "duration": 9,
    "start_time": "2022-09-03T16:08:44.225Z"
   },
   {
    "duration": 11,
    "start_time": "2022-09-03T16:08:44.235Z"
   },
   {
    "duration": 6,
    "start_time": "2022-09-03T16:08:44.247Z"
   },
   {
    "duration": 15,
    "start_time": "2022-09-03T16:08:44.254Z"
   },
   {
    "duration": 215,
    "start_time": "2022-09-03T16:08:44.270Z"
   },
   {
    "duration": 25,
    "start_time": "2022-09-03T16:08:44.486Z"
   },
   {
    "duration": 6,
    "start_time": "2022-09-03T16:08:44.513Z"
   },
   {
    "duration": 18,
    "start_time": "2022-09-03T16:08:44.522Z"
   },
   {
    "duration": 19,
    "start_time": "2022-09-03T16:08:44.542Z"
   },
   {
    "duration": 355,
    "start_time": "2022-09-03T16:08:44.562Z"
   },
   {
    "duration": 246,
    "start_time": "2022-09-03T16:08:44.918Z"
   },
   {
    "duration": 510,
    "start_time": "2022-09-03T16:08:45.166Z"
   },
   {
    "duration": 191,
    "start_time": "2022-09-03T16:08:45.678Z"
   },
   {
    "duration": 112,
    "start_time": "2022-09-03T16:08:45.871Z"
   },
   {
    "duration": 10,
    "start_time": "2022-09-03T16:08:45.985Z"
   },
   {
    "duration": 396,
    "start_time": "2022-09-03T16:08:45.997Z"
   },
   {
    "duration": 11,
    "start_time": "2022-09-03T16:08:46.394Z"
   },
   {
    "duration": 7,
    "start_time": "2022-09-03T16:08:46.406Z"
   },
   {
    "duration": 861,
    "start_time": "2022-09-03T16:08:46.415Z"
   },
   {
    "duration": 0,
    "start_time": "2022-09-03T16:08:47.278Z"
   },
   {
    "duration": 0,
    "start_time": "2022-09-03T16:08:47.280Z"
   },
   {
    "duration": 0,
    "start_time": "2022-09-03T16:08:47.281Z"
   },
   {
    "duration": 0,
    "start_time": "2022-09-03T16:08:47.281Z"
   },
   {
    "duration": 0,
    "start_time": "2022-09-03T16:08:47.282Z"
   },
   {
    "duration": 0,
    "start_time": "2022-09-03T16:08:47.283Z"
   },
   {
    "duration": 0,
    "start_time": "2022-09-03T16:08:47.284Z"
   },
   {
    "duration": 0,
    "start_time": "2022-09-03T16:08:47.285Z"
   },
   {
    "duration": 0,
    "start_time": "2022-09-03T16:08:47.286Z"
   },
   {
    "duration": 0,
    "start_time": "2022-09-03T16:08:47.288Z"
   },
   {
    "duration": 0,
    "start_time": "2022-09-03T16:08:47.288Z"
   },
   {
    "duration": 0,
    "start_time": "2022-09-03T16:08:47.289Z"
   },
   {
    "duration": 0,
    "start_time": "2022-09-03T16:08:47.290Z"
   },
   {
    "duration": 0,
    "start_time": "2022-09-03T16:08:47.291Z"
   },
   {
    "duration": 0,
    "start_time": "2022-09-03T16:08:47.291Z"
   },
   {
    "duration": 0,
    "start_time": "2022-09-03T16:08:47.292Z"
   },
   {
    "duration": 0,
    "start_time": "2022-09-03T16:08:47.293Z"
   },
   {
    "duration": 0,
    "start_time": "2022-09-03T16:08:47.294Z"
   },
   {
    "duration": 0,
    "start_time": "2022-09-03T16:08:47.295Z"
   },
   {
    "duration": 0,
    "start_time": "2022-09-03T16:08:47.297Z"
   },
   {
    "duration": 0,
    "start_time": "2022-09-03T16:08:47.299Z"
   },
   {
    "duration": 392,
    "start_time": "2022-09-03T16:09:21.233Z"
   },
   {
    "duration": 10,
    "start_time": "2022-09-03T16:09:48.280Z"
   },
   {
    "duration": 10,
    "start_time": "2022-09-03T16:09:58.463Z"
   },
   {
    "duration": 24,
    "start_time": "2022-09-03T16:10:03.663Z"
   },
   {
    "duration": 665,
    "start_time": "2022-09-03T16:10:36.295Z"
   },
   {
    "duration": 460,
    "start_time": "2022-09-03T16:12:40.964Z"
   },
   {
    "duration": 2068,
    "start_time": "2022-09-03T16:13:08.540Z"
   },
   {
    "duration": 679,
    "start_time": "2022-09-03T16:13:37.332Z"
   },
   {
    "duration": 712,
    "start_time": "2022-09-03T16:14:23.346Z"
   },
   {
    "duration": 267,
    "start_time": "2022-09-03T16:14:57.263Z"
   },
   {
    "duration": 377,
    "start_time": "2022-09-03T16:15:04.746Z"
   },
   {
    "duration": 280,
    "start_time": "2022-09-03T16:15:21.966Z"
   },
   {
    "duration": 808,
    "start_time": "2022-09-03T16:15:48.378Z"
   },
   {
    "duration": 1162,
    "start_time": "2022-09-03T16:15:54.668Z"
   },
   {
    "duration": 330,
    "start_time": "2022-09-03T16:16:03.951Z"
   },
   {
    "duration": 412,
    "start_time": "2022-09-03T16:16:19.855Z"
   },
   {
    "duration": 1882,
    "start_time": "2022-09-03T16:16:40.394Z"
   },
   {
    "duration": 624,
    "start_time": "2022-09-03T16:16:47.630Z"
   }
  ],
  "kernelspec": {
   "display_name": "Python 3 (ipykernel)",
   "language": "python",
   "name": "python3"
  },
  "language_info": {
   "codemirror_mode": {
    "name": "ipython",
    "version": 3
   },
   "file_extension": ".py",
   "mimetype": "text/x-python",
   "name": "python",
   "nbconvert_exporter": "python",
   "pygments_lexer": "ipython3",
   "version": "3.9.5"
  },
  "toc": {
   "base_numbering": 1,
   "nav_menu": {},
   "number_sections": true,
   "sideBar": true,
   "skip_h1_title": true,
   "title_cell": "Table of Contents",
   "title_sidebar": "Contents",
   "toc_cell": false,
   "toc_position": {},
   "toc_section_display": true,
   "toc_window_display": false
  }
 },
 "nbformat": 4,
 "nbformat_minor": 2
}
