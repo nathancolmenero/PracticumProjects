{
 "cells": [
  {
   "cell_type": "markdown",
   "metadata": {},
   "source": [
    "# Statement"
   ]
  },
  {
   "cell_type": "markdown",
   "metadata": {},
   "source": [
    "The Sure Tomorrow insurance company wants to solve several tasks with the help of Machine Learning and we are asked to evaluate that possibility.\n",
    "\n",
    "- Task 1: Find customers who are similar to a given customer. This will help the company's agents with marketing.\n",
    "- Task 2: Predict whether a new customer is likely to receive an insurance benefit. Can a prediction model do better than a dummy model?\n",
    "- Task 3: Predict the number of insurance benefits a new customer is likely to receive using a linear regression model.\n",
    "- Task 4: Protect clients' personal data without breaking the model from the previous task. It's necessary to develop a data transformation algorithm that would make it hard to recover personal information if the data fell into the wrong hands. This is called data masking, or data obfuscation. But the data should be protected in such a way that the quality of machine learning models doesn't suffer. You don't need to pick the best model, just prove that the algorithm works correctly."
   ]
  },
  {
   "cell_type": "markdown",
   "metadata": {},
   "source": [
    "# Data Preprocessing & Exploration\n",
    "\n",
    "## Initialization"
   ]
  },
  {
   "cell_type": "code",
   "execution_count": 1,
   "metadata": {},
   "outputs": [
    {
     "name": "stdout",
     "output_type": "stream",
     "text": [
      "Requirement already satisfied: scikit-learn in /opt/conda/lib/python3.9/site-packages (1.1.1)\n",
      "Requirement already satisfied: scipy>=1.3.2 in /opt/conda/lib/python3.9/site-packages (from scikit-learn) (1.8.0)\n",
      "Requirement already satisfied: numpy>=1.17.3 in /opt/conda/lib/python3.9/site-packages (from scikit-learn) (1.21.1)\n",
      "Requirement already satisfied: threadpoolctl>=2.0.0 in /opt/conda/lib/python3.9/site-packages (from scikit-learn) (3.1.0)\n",
      "Requirement already satisfied: joblib>=1.0.0 in /opt/conda/lib/python3.9/site-packages (from scikit-learn) (1.1.0)\n",
      "Note: you may need to restart the kernel to use updated packages.\n"
     ]
    }
   ],
   "source": [
    "pip install scikit-learn --upgrade"
   ]
  },
  {
   "cell_type": "markdown",
   "metadata": {},
   "source": [
    "import numpy as np\n",
    "import pandas as pd\n",
    "\n",
    "import seaborn as sns\n",
    "\n",
    "import sklearn.linear_model\n",
    "import sklearn.metrics\n",
    "import sklearn.neighbors\n",
    "import sklearn.preprocessing\n",
    "\n",
    "from sklearn.model_selection import train_test_split\n",
    "\n",
    "from IPython.display import display"
   ]
  },
  {
   "cell_type": "code",
   "execution_count": 2,
   "metadata": {},
   "outputs": [
    {
     "name": "stdout",
     "output_type": "stream",
     "text": [
      "Requirement already satisfied: seaborn in /opt/conda/lib/python3.9/site-packages (0.11.2)\n",
      "Requirement already satisfied: numpy>=1.15 in /opt/conda/lib/python3.9/site-packages (from seaborn) (1.21.1)\n",
      "Requirement already satisfied: matplotlib>=2.2 in /opt/conda/lib/python3.9/site-packages (from seaborn) (3.3.4)\n",
      "Requirement already satisfied: scipy>=1.0 in /opt/conda/lib/python3.9/site-packages (from seaborn) (1.8.0)\n",
      "Requirement already satisfied: pandas>=0.23 in /opt/conda/lib/python3.9/site-packages (from seaborn) (1.2.4)\n",
      "Requirement already satisfied: cycler>=0.10 in /opt/conda/lib/python3.9/site-packages (from matplotlib>=2.2->seaborn) (0.11.0)\n",
      "Requirement already satisfied: kiwisolver>=1.0.1 in /opt/conda/lib/python3.9/site-packages (from matplotlib>=2.2->seaborn) (1.4.2)\n",
      "Requirement already satisfied: pillow>=6.2.0 in /opt/conda/lib/python3.9/site-packages (from matplotlib>=2.2->seaborn) (8.4.0)\n",
      "Requirement already satisfied: python-dateutil>=2.1 in /opt/conda/lib/python3.9/site-packages (from matplotlib>=2.2->seaborn) (2.8.1)\n",
      "Requirement already satisfied: pyparsing!=2.0.4,!=2.1.2,!=2.1.6,>=2.0.3 in /opt/conda/lib/python3.9/site-packages (from matplotlib>=2.2->seaborn) (2.4.7)\n",
      "Requirement already satisfied: pytz>=2017.3 in /opt/conda/lib/python3.9/site-packages (from pandas>=0.23->seaborn) (2021.1)\n",
      "Requirement already satisfied: six>=1.5 in /opt/conda/lib/python3.9/site-packages (from python-dateutil>=2.1->matplotlib>=2.2->seaborn) (1.16.0)\n"
     ]
    }
   ],
   "source": [
    "import numpy as np\n",
    "import pandas as pd\n",
    "\n",
    "import seaborn as sns\n",
    "\n",
    "import sklearn.linear_model\n",
    "import sklearn.metrics\n",
    "from sklearn.neighbors import KNeighborsRegressor, KNeighborsClassifier, NearestNeighbors\n",
    "from sklearn.linear_model import LinearRegression\n",
    "import sklearn.preprocessing\n",
    "\n",
    "from sklearn.model_selection import train_test_split\n",
    "\n",
    "from IPython.display import display\n",
    "\n",
    "\n",
    "# Import sys so no warnings will be issued\n",
    "import sys\n",
    "if not sys.warnoptions:\n",
    "    import warnings\n",
    "    warnings.simplefilter(\"ignore\")\n",
    "    \n",
    "# Libraries\n",
    "import pandas as pd\n",
    "import numpy as np\n",
    "from scipy import stats as st\n",
    "import math as mth\n",
    "from numpy import sqrt, argmax, mean, absolute, std\n",
    "\n",
    "# For graphing and chart plotting\n",
    "import matplotlib.pyplot as plt\n",
    "\n",
    "# Restarting the kernel after the installation to avoid errors that some graphs are not recognised (e.g. histplot)\n",
    "#!pip install seaborn --upgrade\n",
    "!pip install -U seaborn\n",
    "import seaborn as sns\n",
    "\n",
    "# Spliting the dataset for training, validation and testing\n",
    "from sklearn.model_selection import train_test_split\n",
    "\n",
    "# Importing scikit-learn module for calculating various performance metrics\n",
    "from sklearn.metrics import accuracy_score, confusion_matrix, recall_score, precision_score, f1_score, classification_report\n",
    "from sklearn.metrics import roc_curve, auc, roc_auc_score, mean_squared_error, mean_absolute_error, r2_score, make_scorer\n",
    "from sklearn.metrics import multilabel_confusion_matrix\n",
    "\n",
    "# Optimising hyperparameters\n",
    "from sklearn.model_selection import GridSearchCV\n",
    "\n",
    "# Label encoding, feauture scaling\n",
    "from sklearn.preprocessing import OrdinalEncoder, StandardScaler\n",
    "\n",
    "# Feature selection \n",
    "from sklearn.feature_selection import chi2\n",
    "\n",
    "# Imputing missing values\n",
    "from sklearn.impute import SimpleImputer\n",
    "from sklearn.pipeline import Pipeline\n",
    "\n",
    "# Checking collinearity between features\n",
    "from statsmodels.stats.outliers_influence import variance_inflation_factor\n",
    "\n",
    "# Evaluating information gained for feature selection and feature importance\n",
    "from sklearn.linear_model import LassoCV\n",
    "from sklearn.feature_selection import mutual_info_classif\n",
    "\n",
    "# Creating pipelines\n",
    "from sklearn.pipeline import Pipeline\n",
    "\n",
    "# Cross validation of models\n",
    "from sklearn.model_selection import cross_val_score\n"
   ]
  },
  {
   "cell_type": "markdown",
   "metadata": {},
   "source": [
    "## Load Data"
   ]
  },
  {
   "cell_type": "markdown",
   "metadata": {},
   "source": [
    "Load data and conduct a basic check that it's free from obvious issues."
   ]
  },
  {
   "cell_type": "code",
   "execution_count": 3,
   "metadata": {},
   "outputs": [
    {
     "data": {
      "text/html": [
       "<div>\n",
       "<style scoped>\n",
       "    .dataframe tbody tr th:only-of-type {\n",
       "        vertical-align: middle;\n",
       "    }\n",
       "\n",
       "    .dataframe tbody tr th {\n",
       "        vertical-align: top;\n",
       "    }\n",
       "\n",
       "    .dataframe thead th {\n",
       "        text-align: right;\n",
       "    }\n",
       "</style>\n",
       "<table border=\"1\" class=\"dataframe\">\n",
       "  <thead>\n",
       "    <tr style=\"text-align: right;\">\n",
       "      <th></th>\n",
       "      <th>Gender</th>\n",
       "      <th>Age</th>\n",
       "      <th>Salary</th>\n",
       "      <th>Family members</th>\n",
       "      <th>Insurance benefits</th>\n",
       "    </tr>\n",
       "  </thead>\n",
       "  <tbody>\n",
       "    <tr>\n",
       "      <th>0</th>\n",
       "      <td>1</td>\n",
       "      <td>41.0</td>\n",
       "      <td>49600.0</td>\n",
       "      <td>1</td>\n",
       "      <td>0</td>\n",
       "    </tr>\n",
       "    <tr>\n",
       "      <th>1</th>\n",
       "      <td>0</td>\n",
       "      <td>46.0</td>\n",
       "      <td>38000.0</td>\n",
       "      <td>1</td>\n",
       "      <td>1</td>\n",
       "    </tr>\n",
       "    <tr>\n",
       "      <th>2</th>\n",
       "      <td>0</td>\n",
       "      <td>29.0</td>\n",
       "      <td>21000.0</td>\n",
       "      <td>0</td>\n",
       "      <td>0</td>\n",
       "    </tr>\n",
       "    <tr>\n",
       "      <th>3</th>\n",
       "      <td>0</td>\n",
       "      <td>21.0</td>\n",
       "      <td>41700.0</td>\n",
       "      <td>2</td>\n",
       "      <td>0</td>\n",
       "    </tr>\n",
       "    <tr>\n",
       "      <th>4</th>\n",
       "      <td>1</td>\n",
       "      <td>28.0</td>\n",
       "      <td>26100.0</td>\n",
       "      <td>0</td>\n",
       "      <td>0</td>\n",
       "    </tr>\n",
       "  </tbody>\n",
       "</table>\n",
       "</div>"
      ],
      "text/plain": [
       "   Gender   Age   Salary  Family members  Insurance benefits\n",
       "0       1  41.0  49600.0               1                   0\n",
       "1       0  46.0  38000.0               1                   1\n",
       "2       0  29.0  21000.0               0                   0\n",
       "3       0  21.0  41700.0               2                   0\n",
       "4       1  28.0  26100.0               0                   0"
      ]
     },
     "execution_count": 3,
     "metadata": {},
     "output_type": "execute_result"
    }
   ],
   "source": [
    "df = pd.read_csv('/datasets/insurance_us.csv')\n",
    "df.head()\n"
   ]
  },
  {
   "cell_type": "markdown",
   "metadata": {},
   "source": [
    "We rename the colums to make the code look more consistent with its style."
   ]
  },
  {
   "cell_type": "code",
   "execution_count": 4,
   "metadata": {},
   "outputs": [],
   "source": [
    "df = df.rename(columns={'Gender': 'gender', 'Age': 'age', 'Salary': 'income', 'Family members': 'family_members', 'Insurance benefits': 'insurance_benefits'})\n"
   ]
  },
  {
   "cell_type": "code",
   "execution_count": 5,
   "metadata": {},
   "outputs": [
    {
     "data": {
      "text/html": [
       "<div>\n",
       "<style scoped>\n",
       "    .dataframe tbody tr th:only-of-type {\n",
       "        vertical-align: middle;\n",
       "    }\n",
       "\n",
       "    .dataframe tbody tr th {\n",
       "        vertical-align: top;\n",
       "    }\n",
       "\n",
       "    .dataframe thead th {\n",
       "        text-align: right;\n",
       "    }\n",
       "</style>\n",
       "<table border=\"1\" class=\"dataframe\">\n",
       "  <thead>\n",
       "    <tr style=\"text-align: right;\">\n",
       "      <th></th>\n",
       "      <th>gender</th>\n",
       "      <th>age</th>\n",
       "      <th>income</th>\n",
       "      <th>family_members</th>\n",
       "      <th>insurance_benefits</th>\n",
       "    </tr>\n",
       "  </thead>\n",
       "  <tbody>\n",
       "    <tr>\n",
       "      <th>770</th>\n",
       "      <td>1</td>\n",
       "      <td>47.0</td>\n",
       "      <td>43400.0</td>\n",
       "      <td>1</td>\n",
       "      <td>1</td>\n",
       "    </tr>\n",
       "    <tr>\n",
       "      <th>1273</th>\n",
       "      <td>1</td>\n",
       "      <td>28.0</td>\n",
       "      <td>57600.0</td>\n",
       "      <td>2</td>\n",
       "      <td>0</td>\n",
       "    </tr>\n",
       "    <tr>\n",
       "      <th>3306</th>\n",
       "      <td>0</td>\n",
       "      <td>31.0</td>\n",
       "      <td>36900.0</td>\n",
       "      <td>0</td>\n",
       "      <td>0</td>\n",
       "    </tr>\n",
       "    <tr>\n",
       "      <th>2178</th>\n",
       "      <td>0</td>\n",
       "      <td>18.0</td>\n",
       "      <td>43400.0</td>\n",
       "      <td>1</td>\n",
       "      <td>0</td>\n",
       "    </tr>\n",
       "    <tr>\n",
       "      <th>4267</th>\n",
       "      <td>1</td>\n",
       "      <td>26.0</td>\n",
       "      <td>41000.0</td>\n",
       "      <td>0</td>\n",
       "      <td>0</td>\n",
       "    </tr>\n",
       "    <tr>\n",
       "      <th>1373</th>\n",
       "      <td>0</td>\n",
       "      <td>40.0</td>\n",
       "      <td>52000.0</td>\n",
       "      <td>0</td>\n",
       "      <td>0</td>\n",
       "    </tr>\n",
       "    <tr>\n",
       "      <th>3312</th>\n",
       "      <td>1</td>\n",
       "      <td>38.0</td>\n",
       "      <td>52000.0</td>\n",
       "      <td>1</td>\n",
       "      <td>0</td>\n",
       "    </tr>\n",
       "    <tr>\n",
       "      <th>261</th>\n",
       "      <td>1</td>\n",
       "      <td>29.0</td>\n",
       "      <td>45200.0</td>\n",
       "      <td>1</td>\n",
       "      <td>0</td>\n",
       "    </tr>\n",
       "    <tr>\n",
       "      <th>4821</th>\n",
       "      <td>1</td>\n",
       "      <td>27.0</td>\n",
       "      <td>55900.0</td>\n",
       "      <td>0</td>\n",
       "      <td>0</td>\n",
       "    </tr>\n",
       "    <tr>\n",
       "      <th>1705</th>\n",
       "      <td>0</td>\n",
       "      <td>29.0</td>\n",
       "      <td>32100.0</td>\n",
       "      <td>2</td>\n",
       "      <td>0</td>\n",
       "    </tr>\n",
       "  </tbody>\n",
       "</table>\n",
       "</div>"
      ],
      "text/plain": [
       "      gender   age   income  family_members  insurance_benefits\n",
       "770        1  47.0  43400.0               1                   1\n",
       "1273       1  28.0  57600.0               2                   0\n",
       "3306       0  31.0  36900.0               0                   0\n",
       "2178       0  18.0  43400.0               1                   0\n",
       "4267       1  26.0  41000.0               0                   0\n",
       "1373       0  40.0  52000.0               0                   0\n",
       "3312       1  38.0  52000.0               1                   0\n",
       "261        1  29.0  45200.0               1                   0\n",
       "4821       1  27.0  55900.0               0                   0\n",
       "1705       0  29.0  32100.0               2                   0"
      ]
     },
     "execution_count": 5,
     "metadata": {},
     "output_type": "execute_result"
    }
   ],
   "source": [
    "df.sample(10)\n"
   ]
  },
  {
   "cell_type": "code",
   "execution_count": 6,
   "metadata": {},
   "outputs": [
    {
     "name": "stdout",
     "output_type": "stream",
     "text": [
      "<class 'pandas.core.frame.DataFrame'>\n",
      "RangeIndex: 5000 entries, 0 to 4999\n",
      "Data columns (total 5 columns):\n",
      " #   Column              Non-Null Count  Dtype  \n",
      "---  ------              --------------  -----  \n",
      " 0   gender              5000 non-null   int64  \n",
      " 1   age                 5000 non-null   float64\n",
      " 2   income              5000 non-null   float64\n",
      " 3   family_members      5000 non-null   int64  \n",
      " 4   insurance_benefits  5000 non-null   int64  \n",
      "dtypes: float64(2), int64(3)\n",
      "memory usage: 195.4 KB\n"
     ]
    }
   ],
   "source": [
    "df.info()\n"
   ]
  },
  {
   "cell_type": "code",
   "execution_count": 7,
   "metadata": {},
   "outputs": [],
   "source": [
    "# Fixing the age type to an interger\n",
    "df['age'] = df['age'].astype(int)\n"
   ]
  },
  {
   "cell_type": "code",
   "execution_count": 8,
   "metadata": {},
   "outputs": [
    {
     "name": "stdout",
     "output_type": "stream",
     "text": [
      "<class 'pandas.core.frame.DataFrame'>\n",
      "RangeIndex: 5000 entries, 0 to 4999\n",
      "Data columns (total 5 columns):\n",
      " #   Column              Non-Null Count  Dtype  \n",
      "---  ------              --------------  -----  \n",
      " 0   gender              5000 non-null   int64  \n",
      " 1   age                 5000 non-null   int64  \n",
      " 2   income              5000 non-null   float64\n",
      " 3   family_members      5000 non-null   int64  \n",
      " 4   insurance_benefits  5000 non-null   int64  \n",
      "dtypes: float64(1), int64(4)\n",
      "memory usage: 195.4 KB\n"
     ]
    }
   ],
   "source": [
    "# Checking info again\n",
    "df.info()\n"
   ]
  },
  {
   "cell_type": "code",
   "execution_count": 9,
   "metadata": {},
   "outputs": [
    {
     "data": {
      "text/html": [
       "<div>\n",
       "<style scoped>\n",
       "    .dataframe tbody tr th:only-of-type {\n",
       "        vertical-align: middle;\n",
       "    }\n",
       "\n",
       "    .dataframe tbody tr th {\n",
       "        vertical-align: top;\n",
       "    }\n",
       "\n",
       "    .dataframe thead th {\n",
       "        text-align: right;\n",
       "    }\n",
       "</style>\n",
       "<table border=\"1\" class=\"dataframe\">\n",
       "  <thead>\n",
       "    <tr style=\"text-align: right;\">\n",
       "      <th></th>\n",
       "      <th>gender</th>\n",
       "      <th>age</th>\n",
       "      <th>income</th>\n",
       "      <th>family_members</th>\n",
       "      <th>insurance_benefits</th>\n",
       "    </tr>\n",
       "  </thead>\n",
       "  <tbody>\n",
       "    <tr>\n",
       "      <th>count</th>\n",
       "      <td>5000.000000</td>\n",
       "      <td>5000.000000</td>\n",
       "      <td>5000.000000</td>\n",
       "      <td>5000.000000</td>\n",
       "      <td>5000.000000</td>\n",
       "    </tr>\n",
       "    <tr>\n",
       "      <th>mean</th>\n",
       "      <td>0.499000</td>\n",
       "      <td>30.952800</td>\n",
       "      <td>39916.360000</td>\n",
       "      <td>1.194200</td>\n",
       "      <td>0.148000</td>\n",
       "    </tr>\n",
       "    <tr>\n",
       "      <th>std</th>\n",
       "      <td>0.500049</td>\n",
       "      <td>8.440807</td>\n",
       "      <td>9900.083569</td>\n",
       "      <td>1.091387</td>\n",
       "      <td>0.463183</td>\n",
       "    </tr>\n",
       "    <tr>\n",
       "      <th>min</th>\n",
       "      <td>0.000000</td>\n",
       "      <td>18.000000</td>\n",
       "      <td>5300.000000</td>\n",
       "      <td>0.000000</td>\n",
       "      <td>0.000000</td>\n",
       "    </tr>\n",
       "    <tr>\n",
       "      <th>25%</th>\n",
       "      <td>0.000000</td>\n",
       "      <td>24.000000</td>\n",
       "      <td>33300.000000</td>\n",
       "      <td>0.000000</td>\n",
       "      <td>0.000000</td>\n",
       "    </tr>\n",
       "    <tr>\n",
       "      <th>50%</th>\n",
       "      <td>0.000000</td>\n",
       "      <td>30.000000</td>\n",
       "      <td>40200.000000</td>\n",
       "      <td>1.000000</td>\n",
       "      <td>0.000000</td>\n",
       "    </tr>\n",
       "    <tr>\n",
       "      <th>75%</th>\n",
       "      <td>1.000000</td>\n",
       "      <td>37.000000</td>\n",
       "      <td>46600.000000</td>\n",
       "      <td>2.000000</td>\n",
       "      <td>0.000000</td>\n",
       "    </tr>\n",
       "    <tr>\n",
       "      <th>max</th>\n",
       "      <td>1.000000</td>\n",
       "      <td>65.000000</td>\n",
       "      <td>79000.000000</td>\n",
       "      <td>6.000000</td>\n",
       "      <td>5.000000</td>\n",
       "    </tr>\n",
       "  </tbody>\n",
       "</table>\n",
       "</div>"
      ],
      "text/plain": [
       "            gender          age        income  family_members  \\\n",
       "count  5000.000000  5000.000000   5000.000000     5000.000000   \n",
       "mean      0.499000    30.952800  39916.360000        1.194200   \n",
       "std       0.500049     8.440807   9900.083569        1.091387   \n",
       "min       0.000000    18.000000   5300.000000        0.000000   \n",
       "25%       0.000000    24.000000  33300.000000        0.000000   \n",
       "50%       0.000000    30.000000  40200.000000        1.000000   \n",
       "75%       1.000000    37.000000  46600.000000        2.000000   \n",
       "max       1.000000    65.000000  79000.000000        6.000000   \n",
       "\n",
       "       insurance_benefits  \n",
       "count         5000.000000  \n",
       "mean             0.148000  \n",
       "std              0.463183  \n",
       "min              0.000000  \n",
       "25%              0.000000  \n",
       "50%              0.000000  \n",
       "75%              0.000000  \n",
       "max              5.000000  "
      ]
     },
     "execution_count": 9,
     "metadata": {},
     "output_type": "execute_result"
    }
   ],
   "source": [
    "# Now we have a look at the data's descriptive statistics. \n",
    "# Does everything look okay?\n",
    "df.describe()\n"
   ]
  },
  {
   "cell_type": "markdown",
   "metadata": {},
   "source": [
    "### Conclusion\n",
    "* Dataset shape is 5000 rows with 5 columns and no missing values."
   ]
  },
  {
   "cell_type": "markdown",
   "metadata": {},
   "source": [
    "## EDA"
   ]
  },
  {
   "cell_type": "markdown",
   "metadata": {},
   "source": [
    "Let's quickly check whether there are certain groups of customers by looking at the pair plot."
   ]
  },
  {
   "cell_type": "code",
   "execution_count": 10,
   "metadata": {},
   "outputs": [
    {
     "data": {
      "image/png": "[encoded data removed]",
      "text/plain": [
       "<Figure size 864x864 with 30 Axes>"
      ]
     },
     "metadata": {
      "needs_background": "light"
     },
     "output_type": "display_data"
    }
   ],
   "source": [
    "g = sns.pairplot(df, kind='hist')\n",
    "g.fig.set_size_inches(12, 12)\n"
   ]
  },
  {
   "cell_type": "markdown",
   "metadata": {},
   "source": [
    "* The 'age' feature variable has the strongest correlation with target variable.\n",
    "* No outliers are observed."
   ]
  },
  {
   "cell_type": "markdown",
   "metadata": {},
   "source": [
    "# Task 1. Similar Customers"
   ]
  },
  {
   "cell_type": "markdown",
   "metadata": {},
   "source": [
    "In the language of ML, it is necessary to develop a procedure that returns k nearest neighbors (objects) for a given object based on the distance between the objects.\n",
    "\n",
    "You may want to review the following lessons (chapter -> lesson)\n",
    "- Distance Between Vectors -> Euclidean Distance\n",
    "- Distance Between Vectors -> Manhattan Distance\n",
    "\n",
    "To solve the task, we can try different distance metrics."
   ]
  },
  {
   "cell_type": "markdown",
   "metadata": {},
   "source": [
    "Write a function that returns k nearest neighbors for an $n^{th}$ object based on a specified distance metric. The number of received insurance benefits should not be taken into account for this task. \n",
    "\n",
    "You can use a ready implementation of the kNN algorithm from scikit-learn (check [the link](https://scikit-learn.org/stable/modules/generated/sklearn.neighbors.NearestNeighbors.html#sklearn.neighbors.NearestNeighbors)) or use your own.\n",
    "\n",
    "Test it for four combination of two cases\n",
    "- Scaling\n",
    "  - the data is not scaled\n",
    "  - the data is scaled with the [MaxAbsScaler](https://scikit-learn.org/stable/modules/generated/sklearn.preprocessing.MaxAbsScaler.html) scaler\n",
    "- Distance Metrics\n",
    "  - Euclidean\n",
    "  - Manhattan\n",
    "\n",
    "Answer these questions:\n",
    "- Does the data being not scaled affect the kNN algorithm? If so, how does that appear?\n",
    "- How similar are the results using the Manhattan distance metric (regardless of the scaling)?\n"
   ]
  },
  {
   "cell_type": "code",
   "execution_count": 11,
   "metadata": {},
   "outputs": [],
   "source": [
    "feature_names = ['gender', 'age', 'income', 'family_members']\n"
   ]
  },
  {
   "cell_type": "code",
   "execution_count": 12,
   "metadata": {},
   "outputs": [],
   "source": [
    "def get_knn(df, n, k, metric):\n",
    "    \n",
    "    \"\"\"\n",
    "    Returns k nearest neighbors\n",
    "\n",
    "    :param df: pandas DataFrame used to find similar objects within\n",
    "    :param n: object no for which the nearest neighbours are looked for\n",
    "    :param k: the number of the nearest neighbours to return\n",
    "    :param metric: name of distance metric\n",
    "    \"\"\"\n",
    "\n",
    "    nbrs = KNeighborsRegressor(metric=metric)\n",
    "    nbrs.fit(df[feature_names], df.drop(feature_names, axis=1))\n",
    "    nbrs_distances, nbrs_indices = nbrs.kneighbors([df.iloc[n][feature_names]], k, return_distance=True)\n",
    "    \n",
    "    df_res = pd.concat([\n",
    "        df.iloc[nbrs_indices[0]], \n",
    "        pd.DataFrame(nbrs_distances.T, index=nbrs_indices[0], columns=['distance'])\n",
    "        ], axis=1)\n",
    "    \n",
    "    return df_res\n"
   ]
  },
  {
   "cell_type": "markdown",
   "metadata": {},
   "source": [
    "Scaling the data."
   ]
  },
  {
   "cell_type": "code",
   "execution_count": 13,
   "metadata": {},
   "outputs": [],
   "source": [
    "feature_names = ['gender', 'age', 'income', 'family_members']\n",
    "\n",
    "transformer_mas = sklearn.preprocessing.MaxAbsScaler().fit(df[feature_names].to_numpy())\n",
    "\n",
    "df_scaled = df.copy()\n",
    "df_scaled.loc[:, feature_names] = transformer_mas.transform(df[feature_names].to_numpy())\n"
   ]
  },
  {
   "cell_type": "code",
   "execution_count": 14,
   "metadata": {},
   "outputs": [
    {
     "data": {
      "text/html": [
       "<div>\n",
       "<style scoped>\n",
       "    .dataframe tbody tr th:only-of-type {\n",
       "        vertical-align: middle;\n",
       "    }\n",
       "\n",
       "    .dataframe tbody tr th {\n",
       "        vertical-align: top;\n",
       "    }\n",
       "\n",
       "    .dataframe thead th {\n",
       "        text-align: right;\n",
       "    }\n",
       "</style>\n",
       "<table border=\"1\" class=\"dataframe\">\n",
       "  <thead>\n",
       "    <tr style=\"text-align: right;\">\n",
       "      <th></th>\n",
       "      <th>gender</th>\n",
       "      <th>age</th>\n",
       "      <th>income</th>\n",
       "      <th>family_members</th>\n",
       "      <th>insurance_benefits</th>\n",
       "    </tr>\n",
       "  </thead>\n",
       "  <tbody>\n",
       "    <tr>\n",
       "      <th>4934</th>\n",
       "      <td>1.0</td>\n",
       "      <td>0.384615</td>\n",
       "      <td>0.343038</td>\n",
       "      <td>0.500000</td>\n",
       "      <td>0</td>\n",
       "    </tr>\n",
       "    <tr>\n",
       "      <th>3738</th>\n",
       "      <td>1.0</td>\n",
       "      <td>0.292308</td>\n",
       "      <td>0.737975</td>\n",
       "      <td>0.000000</td>\n",
       "      <td>0</td>\n",
       "    </tr>\n",
       "    <tr>\n",
       "      <th>4909</th>\n",
       "      <td>1.0</td>\n",
       "      <td>0.646154</td>\n",
       "      <td>0.577215</td>\n",
       "      <td>0.333333</td>\n",
       "      <td>0</td>\n",
       "    </tr>\n",
       "    <tr>\n",
       "      <th>3355</th>\n",
       "      <td>0.0</td>\n",
       "      <td>0.446154</td>\n",
       "      <td>0.400000</td>\n",
       "      <td>0.000000</td>\n",
       "      <td>0</td>\n",
       "    </tr>\n",
       "    <tr>\n",
       "      <th>2790</th>\n",
       "      <td>0.0</td>\n",
       "      <td>0.646154</td>\n",
       "      <td>0.506329</td>\n",
       "      <td>0.166667</td>\n",
       "      <td>1</td>\n",
       "    </tr>\n",
       "  </tbody>\n",
       "</table>\n",
       "</div>"
      ],
      "text/plain": [
       "      gender       age    income  family_members  insurance_benefits\n",
       "4934     1.0  0.384615  0.343038        0.500000                   0\n",
       "3738     1.0  0.292308  0.737975        0.000000                   0\n",
       "4909     1.0  0.646154  0.577215        0.333333                   0\n",
       "3355     0.0  0.446154  0.400000        0.000000                   0\n",
       "2790     0.0  0.646154  0.506329        0.166667                   1"
      ]
     },
     "execution_count": 14,
     "metadata": {},
     "output_type": "execute_result"
    }
   ],
   "source": [
    "df_scaled.sample(5)\n"
   ]
  },
  {
   "cell_type": "markdown",
   "metadata": {},
   "source": [
    "Now, let's get similar records for a given one for every combination"
   ]
  },
  {
   "cell_type": "code",
   "execution_count": 15,
   "metadata": {},
   "outputs": [
    {
     "name": "stdout",
     "output_type": "stream",
     "text": [
      "CPU times: user 3 µs, sys: 0 ns, total: 3 µs\n",
      "Wall time: 4.77 µs\n",
      "\n",
      "the 5-th target customer:\n",
      "gender                1.0\n",
      "age                  43.0\n",
      "income            41000.0\n",
      "family_members        2.0\n",
      "Name: 5, dtype: float64\n",
      "\n",
      "the 10 most similar customers:\n"
     ]
    },
    {
     "data": {
      "text/html": [
       "<div>\n",
       "<style scoped>\n",
       "    .dataframe tbody tr th:only-of-type {\n",
       "        vertical-align: middle;\n",
       "    }\n",
       "\n",
       "    .dataframe tbody tr th {\n",
       "        vertical-align: top;\n",
       "    }\n",
       "\n",
       "    .dataframe thead th {\n",
       "        text-align: right;\n",
       "    }\n",
       "</style>\n",
       "<table border=\"1\" class=\"dataframe\">\n",
       "  <thead>\n",
       "    <tr style=\"text-align: right;\">\n",
       "      <th></th>\n",
       "      <th>gender</th>\n",
       "      <th>age</th>\n",
       "      <th>income</th>\n",
       "      <th>family_members</th>\n",
       "      <th>insurance_benefits</th>\n",
       "      <th>distance</th>\n",
       "    </tr>\n",
       "  </thead>\n",
       "  <tbody>\n",
       "    <tr>\n",
       "      <th>5</th>\n",
       "      <td>1</td>\n",
       "      <td>43</td>\n",
       "      <td>41000.0</td>\n",
       "      <td>2</td>\n",
       "      <td>1</td>\n",
       "      <td>0.000000</td>\n",
       "    </tr>\n",
       "    <tr>\n",
       "      <th>1995</th>\n",
       "      <td>0</td>\n",
       "      <td>45</td>\n",
       "      <td>41000.0</td>\n",
       "      <td>0</td>\n",
       "      <td>1</td>\n",
       "      <td>3.000000</td>\n",
       "    </tr>\n",
       "    <tr>\n",
       "      <th>3972</th>\n",
       "      <td>1</td>\n",
       "      <td>40</td>\n",
       "      <td>41000.0</td>\n",
       "      <td>1</td>\n",
       "      <td>0</td>\n",
       "      <td>3.162278</td>\n",
       "    </tr>\n",
       "    <tr>\n",
       "      <th>3801</th>\n",
       "      <td>0</td>\n",
       "      <td>46</td>\n",
       "      <td>41000.0</td>\n",
       "      <td>2</td>\n",
       "      <td>1</td>\n",
       "      <td>3.162278</td>\n",
       "    </tr>\n",
       "    <tr>\n",
       "      <th>4763</th>\n",
       "      <td>1</td>\n",
       "      <td>46</td>\n",
       "      <td>41000.0</td>\n",
       "      <td>1</td>\n",
       "      <td>1</td>\n",
       "      <td>3.162278</td>\n",
       "    </tr>\n",
       "    <tr>\n",
       "      <th>2759</th>\n",
       "      <td>0</td>\n",
       "      <td>47</td>\n",
       "      <td>41000.0</td>\n",
       "      <td>3</td>\n",
       "      <td>1</td>\n",
       "      <td>4.242641</td>\n",
       "    </tr>\n",
       "    <tr>\n",
       "      <th>2717</th>\n",
       "      <td>0</td>\n",
       "      <td>37</td>\n",
       "      <td>41000.0</td>\n",
       "      <td>0</td>\n",
       "      <td>0</td>\n",
       "      <td>6.403124</td>\n",
       "    </tr>\n",
       "    <tr>\n",
       "      <th>3434</th>\n",
       "      <td>1</td>\n",
       "      <td>36</td>\n",
       "      <td>41000.0</td>\n",
       "      <td>2</td>\n",
       "      <td>0</td>\n",
       "      <td>7.000000</td>\n",
       "    </tr>\n",
       "    <tr>\n",
       "      <th>1740</th>\n",
       "      <td>0</td>\n",
       "      <td>36</td>\n",
       "      <td>41000.0</td>\n",
       "      <td>1</td>\n",
       "      <td>0</td>\n",
       "      <td>7.141428</td>\n",
       "    </tr>\n",
       "    <tr>\n",
       "      <th>2876</th>\n",
       "      <td>0</td>\n",
       "      <td>35</td>\n",
       "      <td>41000.0</td>\n",
       "      <td>2</td>\n",
       "      <td>0</td>\n",
       "      <td>8.062258</td>\n",
       "    </tr>\n",
       "  </tbody>\n",
       "</table>\n",
       "</div>"
      ],
      "text/plain": [
       "      gender  age   income  family_members  insurance_benefits  distance\n",
       "5          1   43  41000.0               2                   1  0.000000\n",
       "1995       0   45  41000.0               0                   1  3.000000\n",
       "3972       1   40  41000.0               1                   0  3.162278\n",
       "3801       0   46  41000.0               2                   1  3.162278\n",
       "4763       1   46  41000.0               1                   1  3.162278\n",
       "2759       0   47  41000.0               3                   1  4.242641\n",
       "2717       0   37  41000.0               0                   0  6.403124\n",
       "3434       1   36  41000.0               2                   0  7.000000\n",
       "1740       0   36  41000.0               1                   0  7.141428\n",
       "2876       0   35  41000.0               2                   0  8.062258"
      ]
     },
     "execution_count": 15,
     "metadata": {},
     "output_type": "execute_result"
    }
   ],
   "source": [
    "%time\n",
    "print()\n",
    "\n",
    "# Data not scaled + Euclidean distance metric\n",
    "data = df\n",
    "n = 5 # the n-th customer for whom other similar customers are going to be searched \n",
    "k = 10 # the number of the nearest neighbours to return (including the n-th customer)\n",
    "metric = 'euclidean'\n",
    "\n",
    "print('the {:}-th target customer:'.format(n))\n",
    "print(data.iloc[n][feature_names])\n",
    "print()\n",
    "print('the', k, 'most similar customers:')\n",
    "get_knn(data, n, k, metric)\n"
   ]
  },
  {
   "cell_type": "code",
   "execution_count": 16,
   "metadata": {},
   "outputs": [
    {
     "name": "stdout",
     "output_type": "stream",
     "text": [
      "CPU times: user 3 µs, sys: 0 ns, total: 3 µs\n",
      "Wall time: 5.25 µs\n",
      "\n",
      "the 5-th target customer:\n",
      "gender                1.0\n",
      "age                  43.0\n",
      "income            41000.0\n",
      "family_members        2.0\n",
      "Name: 5, dtype: float64\n",
      "\n",
      "the 10 most similar customers:\n"
     ]
    },
    {
     "data": {
      "text/html": [
       "<div>\n",
       "<style scoped>\n",
       "    .dataframe tbody tr th:only-of-type {\n",
       "        vertical-align: middle;\n",
       "    }\n",
       "\n",
       "    .dataframe tbody tr th {\n",
       "        vertical-align: top;\n",
       "    }\n",
       "\n",
       "    .dataframe thead th {\n",
       "        text-align: right;\n",
       "    }\n",
       "</style>\n",
       "<table border=\"1\" class=\"dataframe\">\n",
       "  <thead>\n",
       "    <tr style=\"text-align: right;\">\n",
       "      <th></th>\n",
       "      <th>gender</th>\n",
       "      <th>age</th>\n",
       "      <th>income</th>\n",
       "      <th>family_members</th>\n",
       "      <th>insurance_benefits</th>\n",
       "      <th>distance</th>\n",
       "    </tr>\n",
       "  </thead>\n",
       "  <tbody>\n",
       "    <tr>\n",
       "      <th>5</th>\n",
       "      <td>1</td>\n",
       "      <td>43</td>\n",
       "      <td>41000.0</td>\n",
       "      <td>2</td>\n",
       "      <td>1</td>\n",
       "      <td>0.0</td>\n",
       "    </tr>\n",
       "    <tr>\n",
       "      <th>4763</th>\n",
       "      <td>1</td>\n",
       "      <td>46</td>\n",
       "      <td>41000.0</td>\n",
       "      <td>1</td>\n",
       "      <td>1</td>\n",
       "      <td>4.0</td>\n",
       "    </tr>\n",
       "    <tr>\n",
       "      <th>3972</th>\n",
       "      <td>1</td>\n",
       "      <td>40</td>\n",
       "      <td>41000.0</td>\n",
       "      <td>1</td>\n",
       "      <td>0</td>\n",
       "      <td>4.0</td>\n",
       "    </tr>\n",
       "    <tr>\n",
       "      <th>3801</th>\n",
       "      <td>0</td>\n",
       "      <td>46</td>\n",
       "      <td>41000.0</td>\n",
       "      <td>2</td>\n",
       "      <td>1</td>\n",
       "      <td>4.0</td>\n",
       "    </tr>\n",
       "    <tr>\n",
       "      <th>1995</th>\n",
       "      <td>0</td>\n",
       "      <td>45</td>\n",
       "      <td>41000.0</td>\n",
       "      <td>0</td>\n",
       "      <td>1</td>\n",
       "      <td>5.0</td>\n",
       "    </tr>\n",
       "    <tr>\n",
       "      <th>2759</th>\n",
       "      <td>0</td>\n",
       "      <td>47</td>\n",
       "      <td>41000.0</td>\n",
       "      <td>3</td>\n",
       "      <td>1</td>\n",
       "      <td>6.0</td>\n",
       "    </tr>\n",
       "    <tr>\n",
       "      <th>3434</th>\n",
       "      <td>1</td>\n",
       "      <td>36</td>\n",
       "      <td>41000.0</td>\n",
       "      <td>2</td>\n",
       "      <td>0</td>\n",
       "      <td>7.0</td>\n",
       "    </tr>\n",
       "    <tr>\n",
       "      <th>2717</th>\n",
       "      <td>0</td>\n",
       "      <td>37</td>\n",
       "      <td>41000.0</td>\n",
       "      <td>0</td>\n",
       "      <td>0</td>\n",
       "      <td>9.0</td>\n",
       "    </tr>\n",
       "    <tr>\n",
       "      <th>2876</th>\n",
       "      <td>0</td>\n",
       "      <td>35</td>\n",
       "      <td>41000.0</td>\n",
       "      <td>2</td>\n",
       "      <td>0</td>\n",
       "      <td>9.0</td>\n",
       "    </tr>\n",
       "    <tr>\n",
       "      <th>1740</th>\n",
       "      <td>0</td>\n",
       "      <td>36</td>\n",
       "      <td>41000.0</td>\n",
       "      <td>1</td>\n",
       "      <td>0</td>\n",
       "      <td>9.0</td>\n",
       "    </tr>\n",
       "  </tbody>\n",
       "</table>\n",
       "</div>"
      ],
      "text/plain": [
       "      gender  age   income  family_members  insurance_benefits  distance\n",
       "5          1   43  41000.0               2                   1       0.0\n",
       "4763       1   46  41000.0               1                   1       4.0\n",
       "3972       1   40  41000.0               1                   0       4.0\n",
       "3801       0   46  41000.0               2                   1       4.0\n",
       "1995       0   45  41000.0               0                   1       5.0\n",
       "2759       0   47  41000.0               3                   1       6.0\n",
       "3434       1   36  41000.0               2                   0       7.0\n",
       "2717       0   37  41000.0               0                   0       9.0\n",
       "2876       0   35  41000.0               2                   0       9.0\n",
       "1740       0   36  41000.0               1                   0       9.0"
      ]
     },
     "execution_count": 16,
     "metadata": {},
     "output_type": "execute_result"
    }
   ],
   "source": [
    "%time\n",
    "print()\n",
    "\n",
    "# Data not scaled + Manhattan distance metric\n",
    "data = df\n",
    "n = 5 # the n-th customer for whom other similar customers are going to be searched \n",
    "k = 10 # the number of the nearest neighbours to return (including the n-th customer)\n",
    "metric = 'manhattan'\n",
    "\n",
    "print('the {:}-th target customer:'.format(n))\n",
    "print(data.iloc[n][feature_names])\n",
    "print()\n",
    "print('the', k, 'most similar customers:')\n",
    "get_knn(data, n, k, metric)\n"
   ]
  },
  {
   "cell_type": "code",
   "execution_count": 17,
   "metadata": {},
   "outputs": [
    {
     "name": "stdout",
     "output_type": "stream",
     "text": [
      "CPU times: user 2 µs, sys: 0 ns, total: 2 µs\n",
      "Wall time: 4.53 µs\n",
      "\n",
      "the 5-th target customer:\n",
      "gender            1.000000\n",
      "age               0.661538\n",
      "income            0.518987\n",
      "family_members    0.333333\n",
      "Name: 5, dtype: float64\n",
      "\n",
      "the 10 most similar customers:\n"
     ]
    },
    {
     "data": {
      "text/html": [
       "<div>\n",
       "<style scoped>\n",
       "    .dataframe tbody tr th:only-of-type {\n",
       "        vertical-align: middle;\n",
       "    }\n",
       "\n",
       "    .dataframe tbody tr th {\n",
       "        vertical-align: top;\n",
       "    }\n",
       "\n",
       "    .dataframe thead th {\n",
       "        text-align: right;\n",
       "    }\n",
       "</style>\n",
       "<table border=\"1\" class=\"dataframe\">\n",
       "  <thead>\n",
       "    <tr style=\"text-align: right;\">\n",
       "      <th></th>\n",
       "      <th>gender</th>\n",
       "      <th>age</th>\n",
       "      <th>income</th>\n",
       "      <th>family_members</th>\n",
       "      <th>insurance_benefits</th>\n",
       "      <th>distance</th>\n",
       "    </tr>\n",
       "  </thead>\n",
       "  <tbody>\n",
       "    <tr>\n",
       "      <th>5</th>\n",
       "      <td>1.0</td>\n",
       "      <td>0.661538</td>\n",
       "      <td>0.518987</td>\n",
       "      <td>0.333333</td>\n",
       "      <td>1</td>\n",
       "      <td>0.000000</td>\n",
       "    </tr>\n",
       "    <tr>\n",
       "      <th>1147</th>\n",
       "      <td>1.0</td>\n",
       "      <td>0.646154</td>\n",
       "      <td>0.516456</td>\n",
       "      <td>0.333333</td>\n",
       "      <td>0</td>\n",
       "      <td>0.015592</td>\n",
       "    </tr>\n",
       "    <tr>\n",
       "      <th>4074</th>\n",
       "      <td>1.0</td>\n",
       "      <td>0.661538</td>\n",
       "      <td>0.501266</td>\n",
       "      <td>0.333333</td>\n",
       "      <td>1</td>\n",
       "      <td>0.017722</td>\n",
       "    </tr>\n",
       "    <tr>\n",
       "      <th>1019</th>\n",
       "      <td>1.0</td>\n",
       "      <td>0.646154</td>\n",
       "      <td>0.501266</td>\n",
       "      <td>0.333333</td>\n",
       "      <td>0</td>\n",
       "      <td>0.023468</td>\n",
       "    </tr>\n",
       "    <tr>\n",
       "      <th>2962</th>\n",
       "      <td>1.0</td>\n",
       "      <td>0.630769</td>\n",
       "      <td>0.520253</td>\n",
       "      <td>0.333333</td>\n",
       "      <td>0</td>\n",
       "      <td>0.030795</td>\n",
       "    </tr>\n",
       "    <tr>\n",
       "      <th>2128</th>\n",
       "      <td>1.0</td>\n",
       "      <td>0.692308</td>\n",
       "      <td>0.512658</td>\n",
       "      <td>0.333333</td>\n",
       "      <td>1</td>\n",
       "      <td>0.031413</td>\n",
       "    </tr>\n",
       "    <tr>\n",
       "      <th>106</th>\n",
       "      <td>1.0</td>\n",
       "      <td>0.692308</td>\n",
       "      <td>0.526582</td>\n",
       "      <td>0.333333</td>\n",
       "      <td>1</td>\n",
       "      <td>0.031693</td>\n",
       "    </tr>\n",
       "    <tr>\n",
       "      <th>2206</th>\n",
       "      <td>1.0</td>\n",
       "      <td>0.692308</td>\n",
       "      <td>0.530380</td>\n",
       "      <td>0.333333</td>\n",
       "      <td>1</td>\n",
       "      <td>0.032811</td>\n",
       "    </tr>\n",
       "    <tr>\n",
       "      <th>2352</th>\n",
       "      <td>1.0</td>\n",
       "      <td>0.692308</td>\n",
       "      <td>0.531646</td>\n",
       "      <td>0.333333</td>\n",
       "      <td>1</td>\n",
       "      <td>0.033271</td>\n",
       "    </tr>\n",
       "    <tr>\n",
       "      <th>719</th>\n",
       "      <td>1.0</td>\n",
       "      <td>0.630769</td>\n",
       "      <td>0.532911</td>\n",
       "      <td>0.333333</td>\n",
       "      <td>0</td>\n",
       "      <td>0.033773</td>\n",
       "    </tr>\n",
       "  </tbody>\n",
       "</table>\n",
       "</div>"
      ],
      "text/plain": [
       "      gender       age    income  family_members  insurance_benefits  distance\n",
       "5        1.0  0.661538  0.518987        0.333333                   1  0.000000\n",
       "1147     1.0  0.646154  0.516456        0.333333                   0  0.015592\n",
       "4074     1.0  0.661538  0.501266        0.333333                   1  0.017722\n",
       "1019     1.0  0.646154  0.501266        0.333333                   0  0.023468\n",
       "2962     1.0  0.630769  0.520253        0.333333                   0  0.030795\n",
       "2128     1.0  0.692308  0.512658        0.333333                   1  0.031413\n",
       "106      1.0  0.692308  0.526582        0.333333                   1  0.031693\n",
       "2206     1.0  0.692308  0.530380        0.333333                   1  0.032811\n",
       "2352     1.0  0.692308  0.531646        0.333333                   1  0.033271\n",
       "719      1.0  0.630769  0.532911        0.333333                   0  0.033773"
      ]
     },
     "execution_count": 17,
     "metadata": {},
     "output_type": "execute_result"
    }
   ],
   "source": [
    "%time\n",
    "print()\n",
    "\n",
    "# Data scaled + Euclidean distance metric\n",
    "data = df_scaled\n",
    "n = 5 # the n-th customer for whom other similar customers are going to be searched \n",
    "k = 10 # the number of the nearest neighbours to return (including the n-th customer)\n",
    "metric = 'euclidean'\n",
    "\n",
    "print('the {:}-th target customer:'.format(n))\n",
    "print(data.iloc[n][feature_names])\n",
    "print()\n",
    "print('the', k, 'most similar customers:')\n",
    "get_knn(data, n, k, metric)\n"
   ]
  },
  {
   "cell_type": "code",
   "execution_count": 18,
   "metadata": {},
   "outputs": [
    {
     "name": "stdout",
     "output_type": "stream",
     "text": [
      "CPU times: user 2 µs, sys: 0 ns, total: 2 µs\n",
      "Wall time: 5.48 µs\n",
      "\n",
      "the 5-th target customer:\n",
      "gender            1.000000\n",
      "age               0.661538\n",
      "income            0.518987\n",
      "family_members    0.333333\n",
      "Name: 5, dtype: float64\n",
      "\n",
      "the 10 most similar customers:\n"
     ]
    },
    {
     "data": {
      "text/html": [
       "<div>\n",
       "<style scoped>\n",
       "    .dataframe tbody tr th:only-of-type {\n",
       "        vertical-align: middle;\n",
       "    }\n",
       "\n",
       "    .dataframe tbody tr th {\n",
       "        vertical-align: top;\n",
       "    }\n",
       "\n",
       "    .dataframe thead th {\n",
       "        text-align: right;\n",
       "    }\n",
       "</style>\n",
       "<table border=\"1\" class=\"dataframe\">\n",
       "  <thead>\n",
       "    <tr style=\"text-align: right;\">\n",
       "      <th></th>\n",
       "      <th>gender</th>\n",
       "      <th>age</th>\n",
       "      <th>income</th>\n",
       "      <th>family_members</th>\n",
       "      <th>insurance_benefits</th>\n",
       "      <th>distance</th>\n",
       "    </tr>\n",
       "  </thead>\n",
       "  <tbody>\n",
       "    <tr>\n",
       "      <th>5</th>\n",
       "      <td>1.0</td>\n",
       "      <td>0.661538</td>\n",
       "      <td>0.518987</td>\n",
       "      <td>0.333333</td>\n",
       "      <td>1</td>\n",
       "      <td>0.000000</td>\n",
       "    </tr>\n",
       "    <tr>\n",
       "      <th>4074</th>\n",
       "      <td>1.0</td>\n",
       "      <td>0.661538</td>\n",
       "      <td>0.501266</td>\n",
       "      <td>0.333333</td>\n",
       "      <td>1</td>\n",
       "      <td>0.017722</td>\n",
       "    </tr>\n",
       "    <tr>\n",
       "      <th>1147</th>\n",
       "      <td>1.0</td>\n",
       "      <td>0.646154</td>\n",
       "      <td>0.516456</td>\n",
       "      <td>0.333333</td>\n",
       "      <td>0</td>\n",
       "      <td>0.017916</td>\n",
       "    </tr>\n",
       "    <tr>\n",
       "      <th>2962</th>\n",
       "      <td>1.0</td>\n",
       "      <td>0.630769</td>\n",
       "      <td>0.520253</td>\n",
       "      <td>0.333333</td>\n",
       "      <td>0</td>\n",
       "      <td>0.032035</td>\n",
       "    </tr>\n",
       "    <tr>\n",
       "      <th>1019</th>\n",
       "      <td>1.0</td>\n",
       "      <td>0.646154</td>\n",
       "      <td>0.501266</td>\n",
       "      <td>0.333333</td>\n",
       "      <td>0</td>\n",
       "      <td>0.033106</td>\n",
       "    </tr>\n",
       "    <tr>\n",
       "      <th>2128</th>\n",
       "      <td>1.0</td>\n",
       "      <td>0.692308</td>\n",
       "      <td>0.512658</td>\n",
       "      <td>0.333333</td>\n",
       "      <td>1</td>\n",
       "      <td>0.037098</td>\n",
       "    </tr>\n",
       "    <tr>\n",
       "      <th>106</th>\n",
       "      <td>1.0</td>\n",
       "      <td>0.692308</td>\n",
       "      <td>0.526582</td>\n",
       "      <td>0.333333</td>\n",
       "      <td>1</td>\n",
       "      <td>0.038364</td>\n",
       "    </tr>\n",
       "    <tr>\n",
       "      <th>2206</th>\n",
       "      <td>1.0</td>\n",
       "      <td>0.692308</td>\n",
       "      <td>0.530380</td>\n",
       "      <td>0.333333</td>\n",
       "      <td>1</td>\n",
       "      <td>0.042162</td>\n",
       "    </tr>\n",
       "    <tr>\n",
       "      <th>2352</th>\n",
       "      <td>1.0</td>\n",
       "      <td>0.692308</td>\n",
       "      <td>0.531646</td>\n",
       "      <td>0.333333</td>\n",
       "      <td>1</td>\n",
       "      <td>0.043427</td>\n",
       "    </tr>\n",
       "    <tr>\n",
       "      <th>719</th>\n",
       "      <td>1.0</td>\n",
       "      <td>0.630769</td>\n",
       "      <td>0.532911</td>\n",
       "      <td>0.333333</td>\n",
       "      <td>0</td>\n",
       "      <td>0.044693</td>\n",
       "    </tr>\n",
       "  </tbody>\n",
       "</table>\n",
       "</div>"
      ],
      "text/plain": [
       "      gender       age    income  family_members  insurance_benefits  distance\n",
       "5        1.0  0.661538  0.518987        0.333333                   1  0.000000\n",
       "4074     1.0  0.661538  0.501266        0.333333                   1  0.017722\n",
       "1147     1.0  0.646154  0.516456        0.333333                   0  0.017916\n",
       "2962     1.0  0.630769  0.520253        0.333333                   0  0.032035\n",
       "1019     1.0  0.646154  0.501266        0.333333                   0  0.033106\n",
       "2128     1.0  0.692308  0.512658        0.333333                   1  0.037098\n",
       "106      1.0  0.692308  0.526582        0.333333                   1  0.038364\n",
       "2206     1.0  0.692308  0.530380        0.333333                   1  0.042162\n",
       "2352     1.0  0.692308  0.531646        0.333333                   1  0.043427\n",
       "719      1.0  0.630769  0.532911        0.333333                   0  0.044693"
      ]
     },
     "execution_count": 18,
     "metadata": {},
     "output_type": "execute_result"
    }
   ],
   "source": [
    "%time\n",
    "print()\n",
    "\n",
    "# Data scaled + Manhattan distance metric\n",
    "data = df_scaled\n",
    "n = 5 # the n-th customer for whom other similar customers are going to be searched \n",
    "k = 10 # the number of the nearest neighbours to return (including the n-th customer)\n",
    "metric = 'manhattan'\n",
    "\n",
    "print('the {:}-th target customer:'.format(n))\n",
    "print(data.iloc[n][feature_names])\n",
    "print()\n",
    "print('the', k, 'most similar customers:')\n",
    "get_knn(data, n, k, metric)\n"
   ]
  },
  {
   "cell_type": "markdown",
   "metadata": {},
   "source": [
    "**Does the data being not scaled affect the kNN algorithm? If so, how does that appear?** \n",
    "\n",
    "The above is the result of finding 10 most simialr neighbours to the 5-th observation in the dataset. Four cases were tested:\n",
    "1) Data not scaled; distance metric = Euclidean\n",
    "\n",
    "2) Data not scaled; distance metric = Manhattan\n",
    "\n",
    "3) Data scaled; distance metric = Euclidean\n",
    "\n",
    "4) Data scaled; distance metric = Manhattan\n",
    "\n",
    "The same k most similar neighbours appeared in the list regardless of the distance metric used, but the ordering was much different when the data was not scaled.\n",
    "* When the data was not scaled, 3 out of 10 neighbours appeared in the same order in the two distance metrics.\n",
    "* When the data was scaled, 5 out of 10 neighbours appeared in the same order in the two distance metrics.\n",
    "\n",
    "The CPU Time was the same for all four cases. But there was a difference in the Wall Time.\n",
    "* When the data was not scaled, the Manhattan ran faster than the Euclidean.\n",
    "* When the data was scaled, the Euclidean ran faster than the Manhattan.\n",
    "\n",
    "Given the list of 10 most similar neighbours proposed by the model, the Manhattan seems to produce a more accurate result than the Euclidean, regardless of whether the data is scaled or not."
   ]
  },
  {
   "cell_type": "markdown",
   "metadata": {},
   "source": [
    "**How similar are the results using the Manhattan distance metric (regardless of the scaling)?** \n",
    "\n",
    "* The Manhattan result from the non-scaled data has nothing in common with the Mahattan result from the scaled data. The two lists of 10 similar neighbours are completely different and the same can be said about the Euclidean results."
   ]
  },
  {
   "cell_type": "markdown",
   "metadata": {},
   "source": [
    "# Task 2. Is Customer Likely to Receive Insurance Benefit?"
   ]
  },
  {
   "cell_type": "markdown",
   "metadata": {},
   "source": [
    "In terms of machine learning we can look at this like a binary classification task."
   ]
  },
  {
   "cell_type": "markdown",
   "metadata": {},
   "source": [
    "With `insurance_benefits` being more than zero as the target, evaluate whether the kNN classification approach can do better than a dummy model.\n",
    "\n",
    "Instructions:\n",
    "- Build a KNN-based classifier and measure its quality with the F1 metric for k=1..10 for both the original data and the scaled one. That'd be interesting to see how k may influece the evaluation metric, and whether scaling the data makes any difference. You can use a ready implemention of the kNN classification algorithm from scikit-learn (check [the link](https://scikit-learn.org/stable/modules/generated/sklearn.neighbors.KNeighborsClassifier.html)) or use your own.\n",
    "- Build the dummy model which is just random for this case. It should return \"1\" with some probability. Let's test the model with four probability values: 0, the probability of paying any insurance benefit, 0.5, 1.\n",
    "\n",
    "The probability of paying any insurance benefit can be defined as\n",
    "\n",
    "$$\n",
    "P\\{\\text{insurance benefit received}\\}=\\frac{\\text{number of clients received any insurance benefit}}{\\text{total number of clients}}.\n",
    "$$\n",
    "\n",
    "Split the whole data in the 70:30 proportion for the training/testing parts."
   ]
  },
  {
   "cell_type": "code",
   "execution_count": 19,
   "metadata": {
    "scrolled": true
   },
   "outputs": [
    {
     "data": {
      "text/plain": [
       "1050    0\n",
       "4640    1\n",
       "4850    0\n",
       "3111    0\n",
       "1229    1\n",
       "4222    0\n",
       "1966    0\n",
       "503     0\n",
       "3242    0\n",
       "1331    0\n",
       "Name: insurance_benefits_received, dtype: int64"
      ]
     },
     "execution_count": 19,
     "metadata": {},
     "output_type": "execute_result"
    }
   ],
   "source": [
    "# Calculating the target\n",
    "df['insurance_benefits_received'] = df['insurance_benefits'].clip(0, 1)\n",
    "df['insurance_benefits_received'].sample(10)\n"
   ]
  },
  {
   "cell_type": "code",
   "execution_count": 20,
   "metadata": {},
   "outputs": [
    {
     "data": {
      "text/plain": [
       "0    4436\n",
       "1     564\n",
       "Name: insurance_benefits_received, dtype: int64"
      ]
     },
     "execution_count": 20,
     "metadata": {},
     "output_type": "execute_result"
    }
   ],
   "source": [
    "# Checking for the class imbalance with value_counts()\n",
    "df['insurance_benefits_received'].value_counts()\n"
   ]
  },
  {
   "cell_type": "code",
   "execution_count": 21,
   "metadata": {},
   "outputs": [],
   "source": [
    "def eval_classifier(y_true, y_pred):\n",
    "    \n",
    "    f1_score = sklearn.metrics.f1_score(y_true, y_pred)\n",
    "    print(f'F1: {f1_score:.2f}')\n",
    "    \n",
    "# If we have an issue with the following line, we should restart the kernel and run the notebook again\n",
    "    cm = sklearn.metrics.confusion_matrix(y_true, y_pred, normalize='all')\n",
    "    print('Confusion Matrix')\n",
    "    print(cm)\n",
    "    \n",
    "# [my addition] print the numbers with the labels\n",
    "    tn = cm[0][0]\n",
    "    fp = cm[0][1]\n",
    "    fn = cm[1][0]\n",
    "    tp = cm[1][1]\n",
    "    print('True negatives:', tn)\n",
    "    print('False positives:', fp)\n",
    "    print('False negatives:', fn)\n",
    "    print('True positives:', tp)\n",
    "    print('Precision:', tp/(tp + fp))\n",
    "    print('Recall:', tp/(tp + fn))\n",
    "    print()\n"
   ]
  },
  {
   "cell_type": "code",
   "execution_count": 22,
   "metadata": {},
   "outputs": [],
   "source": [
    "# Generating the output of a random model\n",
    "\n",
    "def rnd_model_predict(P, size, seed=42):\n",
    "\n",
    "    rng = np.random.default_rng(seed=seed)\n",
    "    return rng.binomial(n=1, p=P, size=size)\n"
   ]
  },
  {
   "cell_type": "code",
   "execution_count": 23,
   "metadata": {},
   "outputs": [
    {
     "name": "stdout",
     "output_type": "stream",
     "text": [
      "The probability: 0.00\n",
      "F1: 0.00\n",
      "Confusion Matrix\n",
      "[[0.8872 0.    ]\n",
      " [0.1128 0.    ]]\n",
      "True negatives: 0.8872\n",
      "False positives: 0.0\n",
      "False negatives: 0.1128\n",
      "True positives: 0.0\n",
      "Precision: nan\n",
      "Recall: 0.0\n",
      "\n",
      "\n",
      "The probability: 0.11\n",
      "F1: 0.12\n",
      "Confusion Matrix\n",
      "[[0.7914 0.0958]\n",
      " [0.0994 0.0134]]\n",
      "True negatives: 0.7914\n",
      "False positives: 0.0958\n",
      "False negatives: 0.0994\n",
      "True positives: 0.0134\n",
      "Precision: 0.12271062271062272\n",
      "Recall: 0.11879432624113476\n",
      "\n",
      "\n",
      "The probability: 0.50\n",
      "F1: 0.20\n",
      "Confusion Matrix\n",
      "[[0.456  0.4312]\n",
      " [0.053  0.0598]]\n",
      "True negatives: 0.456\n",
      "False positives: 0.4312\n",
      "False negatives: 0.053\n",
      "True positives: 0.0598\n",
      "Precision: 0.12179226069246435\n",
      "Recall: 0.5301418439716312\n",
      "\n",
      "\n",
      "The probability: 1.00\n",
      "F1: 0.20\n",
      "Confusion Matrix\n",
      "[[0.     0.8872]\n",
      " [0.     0.1128]]\n",
      "True negatives: 0.0\n",
      "False positives: 0.8872\n",
      "False negatives: 0.0\n",
      "True positives: 0.1128\n",
      "Precision: 0.1128\n",
      "Recall: 1.0\n",
      "\n",
      "\n"
     ]
    }
   ],
   "source": [
    "for P in [0, df['insurance_benefits_received'].sum() / len(df), 0.5, 1]:\n",
    "\n",
    "    print(f'The probability: {P:.2f}')\n",
    "    y_pred_rnd = rnd_model_predict(P, 5000)\n",
    "        \n",
    "    eval_classifier(df['insurance_benefits_received'], y_pred_rnd)\n",
    "    \n",
    "    print()\n",
    "    "
   ]
  },
  {
   "cell_type": "code",
   "execution_count": 24,
   "metadata": {},
   "outputs": [],
   "source": [
    "# Writing a function that splits the whole dataset into training and test datasets in the ratio of 70:30\n",
    "def split_data(source, target_col, train_portion):\n",
    "\n",
    "        # separate the source dataset into features and target datasets\n",
    "        X = source.drop([target_col], axis=1)\n",
    "        y = source[target_col]    \n",
    "        \n",
    "        # split the features and target datasets into training and test datasets \n",
    "        X_train, X_test, y_train, y_test = train_test_split(X, y, train_size=train_portion, random_state=12345)    \n",
    "\n",
    "        # return all the datasets\n",
    "        return X_train, X_test, y_train, y_test\n",
    "    "
   ]
  },
  {
   "cell_type": "code",
   "execution_count": 25,
   "metadata": {},
   "outputs": [],
   "source": [
    "train_segment = 0.7 # 1-0.7=0.3 is set aside for test dataset\n",
    "\n",
    "X_train, X_test, y_train, y_test  = split_data(df, 'insurance_benefits_received', train_segment)\n",
    "X_train.drop(columns=['insurance_benefits'], inplace=True)\n",
    "X_test.drop(columns=['insurance_benefits'], inplace=True)\n"
   ]
  },
  {
   "cell_type": "code",
   "execution_count": 26,
   "metadata": {},
   "outputs": [
    {
     "name": "stdout",
     "output_type": "stream",
     "text": [
      "X_train shape: (3500, 4)\n",
      "y_train shape: (3500,)\n",
      "X_test shape: (1500, 4)\n",
      "y_test shape: (1500,)\n"
     ]
    }
   ],
   "source": [
    "print('X_train shape:', X_train.shape)\n",
    "print('y_train shape:', y_train.shape)\n",
    "print('X_test shape:', X_test.shape)\n",
    "print('y_test shape:', y_test.shape)\n"
   ]
  },
  {
   "cell_type": "code",
   "execution_count": 27,
   "metadata": {},
   "outputs": [
    {
     "name": "stdout",
     "output_type": "stream",
     "text": [
      "k: 1\n",
      "F1: 0.62\n",
      "Confusion Matrix\n",
      "[[0.87133333 0.02      ]\n",
      " [0.05133333 0.05733333]]\n",
      "True negatives: 0.8713333333333333\n",
      "False positives: 0.02\n",
      "False negatives: 0.051333333333333335\n",
      "True positives: 0.05733333333333333\n",
      "Precision: 0.7413793103448275\n",
      "Recall: 0.5276073619631902\n",
      "\n",
      "k: 2\n",
      "F1: 0.41\n",
      "Confusion Matrix\n",
      "[[0.88733333 0.004     ]\n",
      " [0.08       0.02866667]]\n",
      "True negatives: 0.8873333333333333\n",
      "False positives: 0.004\n",
      "False negatives: 0.08\n",
      "True positives: 0.028666666666666667\n",
      "Precision: 0.8775510204081634\n",
      "Recall: 0.2638036809815951\n",
      "\n",
      "k: 3\n",
      "F1: 0.41\n",
      "Confusion Matrix\n",
      "[[0.88       0.01133333]\n",
      " [0.07733333 0.03133333]]\n",
      "True negatives: 0.88\n",
      "False positives: 0.011333333333333334\n",
      "False negatives: 0.07733333333333334\n",
      "True positives: 0.03133333333333333\n",
      "Precision: 0.734375\n",
      "Recall: 0.2883435582822086\n",
      "\n",
      "k: 4\n",
      "F1: 0.28\n",
      "Confusion Matrix\n",
      "[[0.88866667 0.00266667]\n",
      " [0.09066667 0.018     ]]\n",
      "True negatives: 0.8886666666666667\n",
      "False positives: 0.0026666666666666666\n",
      "False negatives: 0.09066666666666667\n",
      "True positives: 0.018\n",
      "Precision: 0.8709677419354838\n",
      "Recall: 0.1656441717791411\n",
      "\n",
      "k: 5\n",
      "F1: 0.27\n",
      "Confusion Matrix\n",
      "[[0.88533333 0.006     ]\n",
      " [0.09066667 0.018     ]]\n",
      "True negatives: 0.8853333333333333\n",
      "False positives: 0.006\n",
      "False negatives: 0.09066666666666667\n",
      "True positives: 0.018\n",
      "Precision: 0.7499999999999999\n",
      "Recall: 0.1656441717791411\n",
      "\n",
      "k: 6\n",
      "F1: 0.11\n",
      "Confusion Matrix\n",
      "[[0.89       0.00133333]\n",
      " [0.102      0.00666667]]\n",
      "True negatives: 0.89\n",
      "False positives: 0.0013333333333333333\n",
      "False negatives: 0.102\n",
      "True positives: 0.006666666666666667\n",
      "Precision: 0.8333333333333334\n",
      "Recall: 0.06134969325153375\n",
      "\n",
      "k: 7\n",
      "F1: 0.11\n",
      "Confusion Matrix\n",
      "[[0.88866667 0.00266667]\n",
      " [0.102      0.00666667]]\n",
      "True negatives: 0.8886666666666667\n",
      "False positives: 0.0026666666666666666\n",
      "False negatives: 0.102\n",
      "True positives: 0.006666666666666667\n",
      "Precision: 0.7142857142857143\n",
      "Recall: 0.06134969325153375\n",
      "\n",
      "k: 8\n",
      "F1: 0.07\n",
      "Confusion Matrix\n",
      "[[0.89133333 0.        ]\n",
      " [0.10466667 0.004     ]]\n",
      "True negatives: 0.8913333333333333\n",
      "False positives: 0.0\n",
      "False negatives: 0.10466666666666667\n",
      "True positives: 0.004\n",
      "Precision: 1.0\n",
      "Recall: 0.03680981595092024\n",
      "\n",
      "k: 9\n",
      "F1: 0.08\n",
      "Confusion Matrix\n",
      "[[0.89133333 0.        ]\n",
      " [0.104      0.00466667]]\n",
      "True negatives: 0.8913333333333333\n",
      "False positives: 0.0\n",
      "False negatives: 0.104\n",
      "True positives: 0.004666666666666667\n",
      "Precision: 1.0\n",
      "Recall: 0.04294478527607363\n",
      "\n",
      "k: 10\n",
      "F1: 0.00\n",
      "Confusion Matrix\n",
      "[[0.89133333 0.        ]\n",
      " [0.10866667 0.        ]]\n",
      "True negatives: 0.8913333333333333\n",
      "False positives: 0.0\n",
      "False negatives: 0.10866666666666666\n",
      "True positives: 0.0\n",
      "Precision: nan\n",
      "Recall: 0.0\n",
      "\n"
     ]
    }
   ],
   "source": [
    "for k in range(1, 11, 1):   \n",
    "    print('k:', k)\n",
    "    kn_clf = KNeighborsClassifier(n_neighbors=k)\n",
    "    kn_clf.fit(X_train, y_train)\n",
    "    pred = kn_clf.predict(X_test)\n",
    "    eval_classifier(y_test, pred)\n",
    "    "
   ]
  },
  {
   "cell_type": "code",
   "execution_count": 28,
   "metadata": {},
   "outputs": [],
   "source": [
    "# Scaling the data\n",
    "scaler = StandardScaler()\n",
    "scaler.fit(X_train)\n",
    "X_train_scaled = scaler.transform(X_train)\n",
    "X_test_scaled = scaler.transform(X_test)\n"
   ]
  },
  {
   "cell_type": "code",
   "execution_count": 29,
   "metadata": {},
   "outputs": [
    {
     "name": "stdout",
     "output_type": "stream",
     "text": [
      "k: 1\n",
      "F1: 0.96\n",
      "Confusion Matrix\n",
      "[[0.88733333 0.004     ]\n",
      " [0.00466667 0.104     ]]\n",
      "True negatives: 0.8873333333333333\n",
      "False positives: 0.004\n",
      "False negatives: 0.004666666666666667\n",
      "True positives: 0.104\n",
      "Precision: 0.9629629629629629\n",
      "Recall: 0.9570552147239264\n",
      "\n",
      "k: 2\n",
      "F1: 0.93\n",
      "Confusion Matrix\n",
      "[[8.90666667e-01 6.66666667e-04]\n",
      " [1.33333333e-02 9.53333333e-02]]\n",
      "True negatives: 0.8906666666666667\n",
      "False positives: 0.0006666666666666666\n",
      "False negatives: 0.013333333333333334\n",
      "True positives: 0.09533333333333334\n",
      "Precision: 0.9930555555555556\n",
      "Recall: 0.8773006134969324\n",
      "\n",
      "k: 3\n",
      "F1: 0.94\n",
      "Confusion Matrix\n",
      "[[0.888      0.00333333]\n",
      " [0.00866667 0.1       ]]\n",
      "True negatives: 0.888\n",
      "False positives: 0.0033333333333333335\n",
      "False negatives: 0.008666666666666666\n",
      "True positives: 0.1\n",
      "Precision: 0.967741935483871\n",
      "Recall: 0.9202453987730062\n",
      "\n",
      "k: 4\n",
      "F1: 0.90\n",
      "Confusion Matrix\n",
      "[[0.88933333 0.002     ]\n",
      " [0.01733333 0.09133333]]\n",
      "True negatives: 0.8893333333333333\n",
      "False positives: 0.002\n",
      "False negatives: 0.017333333333333333\n",
      "True positives: 0.09133333333333334\n",
      "Precision: 0.9785714285714285\n",
      "Recall: 0.8404907975460123\n",
      "\n",
      "k: 5\n",
      "F1: 0.92\n",
      "Confusion Matrix\n",
      "[[0.886      0.00533333]\n",
      " [0.01133333 0.09733333]]\n",
      "True negatives: 0.886\n",
      "False positives: 0.005333333333333333\n",
      "False negatives: 0.011333333333333334\n",
      "True positives: 0.09733333333333333\n",
      "Precision: 0.9480519480519481\n",
      "Recall: 0.8957055214723926\n",
      "\n",
      "k: 6\n",
      "F1: 0.91\n",
      "Confusion Matrix\n",
      "[[0.89       0.00133333]\n",
      " [0.016      0.09266667]]\n",
      "True negatives: 0.89\n",
      "False positives: 0.0013333333333333333\n",
      "False negatives: 0.016\n",
      "True positives: 0.09266666666666666\n",
      "Precision: 0.9858156028368794\n",
      "Recall: 0.852760736196319\n",
      "\n",
      "k: 7\n",
      "F1: 0.93\n",
      "Confusion Matrix\n",
      "[[0.88733333 0.004     ]\n",
      " [0.01133333 0.09733333]]\n",
      "True negatives: 0.8873333333333333\n",
      "False positives: 0.004\n",
      "False negatives: 0.011333333333333334\n",
      "True positives: 0.09733333333333333\n",
      "Precision: 0.9605263157894737\n",
      "Recall: 0.8957055214723926\n",
      "\n",
      "k: 8\n",
      "F1: 0.91\n",
      "Confusion Matrix\n",
      "[[0.88866667 0.00266667]\n",
      " [0.016      0.09266667]]\n",
      "True negatives: 0.8886666666666667\n",
      "False positives: 0.0026666666666666666\n",
      "False negatives: 0.016\n",
      "True positives: 0.09266666666666666\n",
      "Precision: 0.9720279720279721\n",
      "Recall: 0.852760736196319\n",
      "\n",
      "k: 9\n",
      "F1: 0.92\n",
      "Confusion Matrix\n",
      "[[0.88866667 0.00266667]\n",
      " [0.01333333 0.09533333]]\n",
      "True negatives: 0.8886666666666667\n",
      "False positives: 0.0026666666666666666\n",
      "False negatives: 0.013333333333333334\n",
      "True positives: 0.09533333333333334\n",
      "Precision: 0.9727891156462585\n",
      "Recall: 0.8773006134969324\n",
      "\n",
      "k: 10\n",
      "F1: 0.89\n",
      "Confusion Matrix\n",
      "[[0.88866667 0.00266667]\n",
      " [0.02       0.08866667]]\n",
      "True negatives: 0.8886666666666667\n",
      "False positives: 0.0026666666666666666\n",
      "False negatives: 0.02\n",
      "True positives: 0.08866666666666667\n",
      "Precision: 0.9708029197080292\n",
      "Recall: 0.8159509202453987\n",
      "\n"
     ]
    }
   ],
   "source": [
    "for k in range(1, 11, 1):   \n",
    "    print('k:', k)\n",
    "    kn_clf = KNeighborsClassifier(n_neighbors=k)\n",
    "    kn_clf.fit(X_train_scaled, y_train)\n",
    "    pred = kn_clf.predict(X_test_scaled)\n",
    "    eval_classifier(y_test, pred)\n",
    "    "
   ]
  },
  {
   "cell_type": "code",
   "execution_count": null,
   "metadata": {},
   "outputs": [],
   "source": []
  },
  {
   "cell_type": "markdown",
   "metadata": {},
   "source": [
    "### Conclusion\n",
    "* When the data is not scaled, as k increases, F1 decreases. When k=10, F1=0, so precision is high for all values of k, but recall is gets poorer. This is presumably because it becomes more and more difficult to calculate the distane between the data points.\n",
    "\n",
    "* In constrast, when the data is scaled, the increase in k barely affects F1, which remains high, and so precision and recall at a near perfect level (very close to 1.0)."
   ]
  },
  {
   "cell_type": "markdown",
   "metadata": {},
   "source": [
    "# Task 3. Regression (with Linear Regression)"
   ]
  },
  {
   "cell_type": "markdown",
   "metadata": {},
   "source": [
    "With `insurance_benefits` as the target, evaluate what RMSE would be for a Linear Regression model."
   ]
  },
  {
   "cell_type": "markdown",
   "metadata": {},
   "source": [
    "Build your own implementation of LR. For that, recall how the linear regression task's solution is formulated in terms of LA. Check RMSE for both the original data and the scaled one. Can you see any difference in RMSE between these two cases?\n",
    "\n",
    "Let's denote\n",
    "- $X$ — feature matrix, each row is a case, each column is a feature, the first column consists of unities\n",
    "- $y$ — target (a vector)\n",
    "- $\\hat{y}$ — estimated tagret (a vector)\n",
    "- $w$ — weight vector\n",
    "\n",
    "The task of linear regression in the language of matrices can be formulated as\n",
    "\n",
    "$$\n",
    "y = Xw\n",
    "$$\n",
    "\n",
    "The training objective then is to find such $w$ that it would minimize the L2-distance (MSE) between $Xw$ and $y$:\n",
    "\n",
    "$$\n",
    "\\min_w d_2(Xw, y) \\quad \\text{or} \\quad \\min_w \\text{MSE}(Xw, y)\n",
    "$$\n",
    "\n",
    "It appears that there is analytical solution for the above:\n",
    "\n",
    "$$\n",
    "w = (X^T X)^{-1} X^T y\n",
    "$$\n",
    "\n",
    "The formula above can be used to find the weights $w$ and the latter can be used to calculate predicted values\n",
    "\n",
    "$$\n",
    "\\hat{y} = X_{val}w\n",
    "$$"
   ]
  },
  {
   "cell_type": "markdown",
   "metadata": {},
   "source": [
    "Split the whole data in the 70:30 proportion for the training/validation parts. Use the RMSE metric for the model evaluation."
   ]
  },
  {
   "cell_type": "code",
   "execution_count": 30,
   "metadata": {},
   "outputs": [],
   "source": [
    "class MyLinearRegression:\n",
    "    \n",
    "    def __init__(self):\n",
    "        \n",
    "        self.weights = None\n",
    "    \n",
    "    def fit(self, X, y):\n",
    "        \n",
    "        # adding the unities\n",
    "        X2 = np.append(np.ones([len(X), 1]), X, axis=1)\n",
    "        self.weights = np.linalg.inv(X2.T @ X2) @ X2.T @ (y)\n",
    "\n",
    "    def predict(self, X):\n",
    "        \n",
    "        # Adding the unities\n",
    "        X2 = np.append(np.ones([len(X), 1]), X, axis=1)\n",
    "        y_pred = X2 @ self.weights\n",
    "        \n",
    "        return y_pred\n",
    "    "
   ]
  },
  {
   "cell_type": "code",
   "execution_count": 31,
   "metadata": {},
   "outputs": [],
   "source": [
    "def eval_regressor(y_true, y_pred):\n",
    "    \n",
    "    rmse = np.sqrt(sklearn.metrics.mean_squared_error(y_true, y_pred))\n",
    "    print(f'RMSE: {rmse:.2f}')\n",
    "    \n",
    "    r2_score = np.sqrt(sklearn.metrics.r2_score(y_true, y_pred))\n",
    "    print(f'R2: {r2_score:.2f}')\n",
    "    "
   ]
  },
  {
   "cell_type": "code",
   "execution_count": 32,
   "metadata": {},
   "outputs": [
    {
     "name": "stdout",
     "output_type": "stream",
     "text": [
      "[-9.43539012e-01  3.57495491e-02  1.64272726e-02 -2.60743659e-07\n",
      " -1.16902127e-02]\n",
      "RMSE: 0.34\n",
      "R2: 0.66\n"
     ]
    }
   ],
   "source": [
    "# Data not scaled\n",
    "X = df[['age', 'gender', 'income', 'family_members']].to_numpy()\n",
    "y = df['insurance_benefits'].to_numpy()\n",
    "\n",
    "X_train, X_test, y_train, y_test = train_test_split(X, y, test_size=0.3, random_state=12345)\n",
    "\n",
    "lr = MyLinearRegression()\n",
    "\n",
    "lr.fit(X_train, y_train)\n",
    "print(lr.weights)\n",
    "\n",
    "y_test_pred = lr.predict(X_test)\n",
    "eval_regressor(y_test, y_test_pred)\n"
   ]
  },
  {
   "cell_type": "code",
   "execution_count": 33,
   "metadata": {},
   "outputs": [
    {
     "name": "stdout",
     "output_type": "stream",
     "text": [
      "parameter weights: [ 0.14971429  0.30292778  0.0082117  -0.00258294 -0.01271039]\n",
      "RMSE: 0.34\n",
      "R2: 0.66\n"
     ]
    }
   ],
   "source": [
    "# Creating a pipeline to perform feature scaling and training the model on the scaled training dataset\n",
    "lr_pipe = Pipeline([\n",
    "    ('scaler', StandardScaler()), # feature scaling\n",
    "    ('model_scaled', MyLinearRegression()) # create an instance of the model\n",
    "])\n",
    "\n",
    "# Fitting the model\n",
    "lr_pipe.fit(X_train, y_train)\n",
    "print('parameter weights:', lr_pipe.named_steps['model_scaled'].weights)\n",
    "\n",
    "# Testing the model on the test dataset that has been scaled\n",
    "y_test_pred = lr_pipe.predict(X_test)\n",
    "eval_regressor(y_test, y_test_pred)\n"
   ]
  },
  {
   "cell_type": "markdown",
   "metadata": {},
   "source": [
    " ### Conclusion\n",
    "* When the data is scaled, the parameter weights are more realistic than when the data is not scaled, raising the model interpretability.\n",
    "* We can see from the sizes of the weights that the parameters influence of target variable in the order of 'age', 'gender', 'family_members', 'income'.\n",
    "* r2=0.66 indicates an above-average correlation strength between the set of features and the target. If the dataset had started out with many more variables in it, whoever did the feature selection did a good job at narrowing the list down to he four most influencial variables that help predict that target."
   ]
  },
  {
   "cell_type": "markdown",
   "metadata": {},
   "source": [
    "# Task 4. Obfuscating Data"
   ]
  },
  {
   "cell_type": "markdown",
   "metadata": {},
   "source": [
    "It's best to obfuscate data by multiplying the numerical features (remember, they can be seen as the matrix $X$) by an invertible matrix $P$. \n",
    "\n",
    "$$\n",
    "X' = X \\times P\n",
    "$$\n",
    "\n",
    "Try to do that and check how the features' values will look like after the transformation. By the way, the intertible property is important here so make sure that $P$ is indeed invertible.\n",
    "\n",
    "You may want to review the 'Matrices and Matrix Operations -> Matrix Multiplication' lesson to recall the rule of matrix multiplication and its implementation with NumPy."
   ]
  },
  {
   "cell_type": "code",
   "execution_count": 34,
   "metadata": {},
   "outputs": [],
   "source": [
    "personal_info_column_list = ['gender', 'age', 'income', 'family_members']\n",
    "df_pn = df[personal_info_column_list]\n"
   ]
  },
  {
   "cell_type": "code",
   "execution_count": 35,
   "metadata": {},
   "outputs": [],
   "source": [
    "X = df_pn.to_numpy()\n"
   ]
  },
  {
   "cell_type": "markdown",
   "metadata": {},
   "source": [
    "Generating a random matrix $P$."
   ]
  },
  {
   "cell_type": "code",
   "execution_count": 36,
   "metadata": {},
   "outputs": [
    {
     "data": {
      "text/plain": [
       "array([[0.77395605, 0.43887844, 0.85859792, 0.69736803],\n",
       "       [0.09417735, 0.97562235, 0.7611397 , 0.78606431],\n",
       "       [0.12811363, 0.45038594, 0.37079802, 0.92676499],\n",
       "       [0.64386512, 0.82276161, 0.4434142 , 0.22723872]])"
      ]
     },
     "execution_count": 36,
     "metadata": {},
     "output_type": "execute_result"
    }
   ],
   "source": [
    "rng = np.random.default_rng(seed=42)\n",
    "P = rng.random(size=(X.shape[1], X.shape[1]))\n",
    "P\n"
   ]
  },
  {
   "cell_type": "markdown",
   "metadata": {},
   "source": [
    "Checking the matrix $P$ is invertible"
   ]
  },
  {
   "cell_type": "code",
   "execution_count": 37,
   "metadata": {},
   "outputs": [
    {
     "name": "stdout",
     "output_type": "stream",
     "text": [
      "inverse matrix of P:\n",
      "[[ 0.41467992 -1.43783972  0.62798546  1.14001268]\n",
      " [-1.06101789  0.44219337  0.1329549   1.18425933]\n",
      " [ 1.42362442  1.60461607 -2.0553823  -1.53699695]\n",
      " [-0.11128575 -0.65813802  1.74995517 -0.11816316]]\n"
     ]
    }
   ],
   "source": [
    "# Finding the inverse matrix of P - if the matrix is non-invertible, an error will be issued\n",
    "P_inverse = np.linalg.inv(P)\n",
    "print('inverse matrix of P:')\n",
    "print(P_inverse)\n"
   ]
  },
  {
   "cell_type": "markdown",
   "metadata": {},
   "source": [
    "Can you guess the customers' ages or income after the transformation?"
   ]
  },
  {
   "cell_type": "code",
   "execution_count": 38,
   "metadata": {},
   "outputs": [
    {
     "data": {
      "text/plain": [
       "array([[ 6359.71527314, 22380.40467609, 18424.09074184, 46000.69669016],\n",
       "       [ 4873.29406479, 17160.36702982, 14125.78076133, 35253.45577301],\n",
       "       [ 2693.11742928,  9486.397744  ,  7808.83156024, 19484.86063067],\n",
       "       ...,\n",
       "       [ 4346.2234249 , 15289.24126492, 12586.16264392, 31433.50888552],\n",
       "       [ 4194.09324155, 14751.9910242 , 12144.02930637, 30323.88763426],\n",
       "       [ 5205.46827354, 18314.24814446, 15077.01370762, 37649.59295455]])"
      ]
     },
     "execution_count": 38,
     "metadata": {},
     "output_type": "execute_result"
    }
   ],
   "source": [
    "# Obfuscating data\n",
    "X_obfuscated = X @ P\n",
    "X_obfuscated\n"
   ]
  },
  {
   "cell_type": "code",
   "execution_count": 39,
   "metadata": {},
   "outputs": [
    {
     "data": {
      "text/plain": [
       "array([[1.00e+00, 4.10e+01, 4.96e+04, 1.00e+00],\n",
       "       [0.00e+00, 4.60e+01, 3.80e+04, 1.00e+00],\n",
       "       [0.00e+00, 2.90e+01, 2.10e+04, 0.00e+00],\n",
       "       ...,\n",
       "       [0.00e+00, 2.00e+01, 3.39e+04, 2.00e+00],\n",
       "       [1.00e+00, 2.20e+01, 3.27e+04, 3.00e+00],\n",
       "       [1.00e+00, 2.80e+01, 4.06e+04, 1.00e+00]])"
      ]
     },
     "execution_count": 39,
     "metadata": {},
     "output_type": "execute_result"
    }
   ],
   "source": [
    "# Printing the original data\n",
    "X\n"
   ]
  },
  {
   "cell_type": "markdown",
   "metadata": {},
   "source": [
    "Can we recover the original data from $X'$ if you know $P$? Try checking with calculations by moving $P$ from the right side of the formula above to the left one. The rules of matrix multiplcation are really helpful here."
   ]
  },
  {
   "cell_type": "code",
   "execution_count": 40,
   "metadata": {},
   "outputs": [
    {
     "data": {
      "text/plain": [
       "array([[ 1.00000000e+00,  4.10000000e+01,  4.96000000e+04,\n",
       "         1.00000000e+00],\n",
       "       [ 1.67952800e-12,  4.60000000e+01,  3.80000000e+04,\n",
       "         1.00000000e+00],\n",
       "       [-6.23021448e-13,  2.90000000e+01,  2.10000000e+04,\n",
       "        -2.03032656e-13],\n",
       "       ...,\n",
       "       [ 1.57996161e-12,  2.00000000e+01,  3.39000000e+04,\n",
       "         2.00000000e+00],\n",
       "       [ 1.00000000e+00,  2.20000000e+01,  3.27000000e+04,\n",
       "         3.00000000e+00],\n",
       "       [ 1.00000000e+00,  2.80000000e+01,  4.06000000e+04,\n",
       "         1.00000000e+00]])"
      ]
     },
     "execution_count": 40,
     "metadata": {},
     "output_type": "execute_result"
    }
   ],
   "source": [
    "X_recovered = X_obfuscated @ P_inverse\n",
    "X_recovered\n"
   ]
  },
  {
   "cell_type": "markdown",
   "metadata": {},
   "source": [
    "Print all three cases for a few customers\n",
    "- The original data\n",
    "- The transformed one\n",
    "- The reversed (recovered) one"
   ]
  },
  {
   "cell_type": "code",
   "execution_count": 41,
   "metadata": {},
   "outputs": [],
   "source": [
    "# Randomly sampling a few customers from the original data\n",
    "original_sample = df[personal_info_column_list].sample(10)\n",
    "\n",
    "# Locating the transformed data for these customers\n",
    "customers = original_sample.index\n",
    "X_obs = X_obfuscated[customers]\n",
    "\n",
    "# Locating the recovered data for these customers\n",
    "X_rec = X_recovered[customers]\n",
    "\n",
    "# Rounding off then converting to an integer\n",
    "X_rec_rounded = np.around(X_recovered[customers]).astype(int)\n"
   ]
  },
  {
   "cell_type": "code",
   "execution_count": 42,
   "metadata": {},
   "outputs": [],
   "source": [
    "# Writing a function to create a comparison table between the original, obfuscated and recovered data for a specified customer\n",
    "def comparison_table(num):\n",
    "    orig = pd.Series(original_sample.iloc[num])\n",
    "    obs = pd.Series(X_obs[num], index=['gender', 'age', 'income', 'family_members'])\n",
    "    pre_rec = pd.Series(X_rec[num], index=['gender', 'age', 'income', 'family_members'])\n",
    "    rec = pd.Series(X_rec_rounded[num], index=['gender', 'age', 'income', 'family_members'])\n",
    "    customer = pd.concat([orig, obs, pre_rec, rec], axis=1)\n",
    "    customer.columns = ['original', 'obfuscated', 'recovered (pre-round)', 'recovered']\n",
    "    print(customer)\n",
    "    "
   ]
  },
  {
   "cell_type": "code",
   "execution_count": 43,
   "metadata": {},
   "outputs": [
    {
     "name": "stdout",
     "output_type": "stream",
     "text": [
      "                original    obfuscated  recovered (pre-round)  recovered\n",
      "gender               1.0   5015.056442                    1.0          1\n",
      "age                 33.0  17645.192873                   33.0         33\n",
      "income           39100.0  14525.509198                39100.0      39100\n",
      "family_members       3.0  36263.830270                    3.0          3\n"
     ]
    }
   ],
   "source": [
    "# customer number 3326 (index = 1)\n",
    "comparison_table(1)\n"
   ]
  },
  {
   "cell_type": "code",
   "execution_count": 44,
   "metadata": {},
   "outputs": [
    {
     "name": "stdout",
     "output_type": "stream",
     "text": [
      "                original    obfuscated  recovered (pre-round)  recovered\n",
      "gender               1.0   5334.241148                    1.0          1\n",
      "age                 35.0  18771.463439                   35.0         35\n",
      "income           41600.0  15453.139710                41600.0      41600\n",
      "family_members       1.0  38581.860394                    1.0          1\n"
     ]
    }
   ],
   "source": [
    "# customer number 1628 (index = 8)\n",
    "comparison_table(8)\n"
   ]
  },
  {
   "cell_type": "code",
   "execution_count": 45,
   "metadata": {},
   "outputs": [
    {
     "name": "stdout",
     "output_type": "stream",
     "text": [
      "                original    obfuscated  recovered (pre-round)  recovered\n",
      "gender               1.0   5255.881507           1.000000e+00          1\n",
      "age                 26.0  18491.628513           2.600000e+01         26\n",
      "income           41000.0  15223.367224           4.100000e+04      41000\n",
      "family_members       0.0  38018.499583          -2.888404e-12          0\n"
     ]
    }
   ],
   "source": [
    "# customer number 3785 (index = 4)\n",
    "comparison_table(4)\n"
   ]
  },
  {
   "cell_type": "markdown",
   "metadata": {},
   "source": [
    "You can probably see that some values are not exactly the same as they are in the original data. What might be the reason for that?\n",
    "\n",
    "* The discrepancies are due to the limitation of float values which are never the exact values, and containing some error. Looking at the recovered matrix X very leniently, the similarity in the values are within an acceptable range.\n",
    "\n",
    "* Once the recovered values are converted to integer, they are the same as the original. (ie. 40200.0 and 40200)"
   ]
  },
  {
   "cell_type": "markdown",
   "metadata": {},
   "source": [
    "## Proof That Data Obfuscation Can Work with LR"
   ]
  },
  {
   "cell_type": "markdown",
   "metadata": {},
   "source": [
    "The regression task has been solved with linear regression in this project. Your next task is to prove _analytically_ that the given obfuscation method won't affect linear regression in terms of predicted values i.e. their values will remain the same. Can you believe that? Well, you don't have to, you should prove it!"
   ]
  },
  {
   "cell_type": "markdown",
   "metadata": {},
   "source": [
    "So, the data is obfuscated and there is $X \\times P$ instead of just $X$ now. Consequently, there are other weights $w_P$ as\n",
    "$$\n",
    "w = (X^T X)^{-1} X^T y \\quad \\Rightarrow \\quad w_P = [(XP)^T XP]^{-1} (XP)^T y\n",
    "$$\n",
    "\n",
    "How would $w$ and $w_P$ be linked if you simplify the formula for $w_P$ above? \n",
    "\n",
    "What would be predicted values with $w_P$? \n",
    "\n",
    "What does that mean for the quality of linear regression if you measure it with RMSE?\n",
    "\n",
    "Check Appendix B Properties of Matrices in the end of the notebook. There are useful formulas in there!\n",
    "\n",
    "No code is necessary in this section, only analytical explanation!"
   ]
  },
  {
   "cell_type": "markdown",
   "metadata": {},
   "source": [
    "**Answer**"
   ]
  },
  {
   "cell_type": "markdown",
   "metadata": {},
   "source": [
    "* How would $w$ and $w_P$ be linked if you simplify the formula for $w_P$ above? \n",
    "\n",
    "$w$ and $w_P$ are both weight vectors. The former is in a simple linear regression equation $X w = y$. The latter is the weight vector of a very similar simple linear regression equation $(XP) w_P = y_p$ where the feature matrix X has some matrix P applied to it.\n",
    "\n",
    "* What would be predicted values with $w_P$? \n",
    "\n",
    "$y$ in the equation $(XP) w_P = y$ will be the predicted values. \n",
    "\n",
    "* What does that mean for the quality of linear regression if you measure it with RMSE?\n",
    "\n",
    "The predictions of the model trained on obfuscated data are exactly the same as the predictions of the model trained on original data $\\hat{y_p} = Xw = y$, and therefore the RMSE cannot change.\n",
    "\n"
   ]
  },
  {
   "cell_type": "markdown",
   "metadata": {},
   "source": [
    "**Analytical proof**"
   ]
  },
  {
   "cell_type": "markdown",
   "metadata": {},
   "source": [
    "$w_P = [(XP)^T XP]^{-1} (XP)^T y$\n",
    "\n",
    "$w_P = [P^T X^T XP]^{-1} (XP)^T y$\n",
    "\n",
    "$w_P = [P^{-1} (X^T X)^{-1} (P^T)^{-1}] (P^T X^T)y$\n",
    "\n",
    "$w_P = P^{-1} (X^T X)^{-1} (P^T)^{-1} P^T X^T)y$......$(P^T)^{-1} P^T = I$ because it's square\n",
    "\n",
    "$w_P = P^{-1}(X^T X)^{-1} X^T y$......$(X^T X)^{-1} X^T y = w$\n",
    "\n",
    "$w_P = P^{-1} w$.....expressing $w_P$ in terms of $w$\n",
    "\n",
    "Then we can plug the above into the predictions of the model trained on the obfuscated matrix $\\hat{y_p} = XPw_p$\n",
    "\n",
    "$\\hat{y_p} = XPw_P$...where $w_P = P^{-1} w$\n",
    "\n",
    "$\\hat{y_p} = XPP^{-1} w$...where $PP^{-1} = I$ because it is square\n",
    "\n",
    "$\\hat{y_p} = Xw = y$\n",
    "\n",
    "The predictions of the model trained on obfuscated data are exactly the same as the predictions of the model trained on the original data, and therefore the RMSE can't change.\n"
   ]
  },
  {
   "cell_type": "markdown",
   "metadata": {},
   "source": [
    "## Test Linear Regression With Data Obfuscation"
   ]
  },
  {
   "cell_type": "markdown",
   "metadata": {},
   "source": [
    "Now, let's prove Linear Regression can work computationally with the chosen obfuscation transformation.\n",
    "\n",
    "Build a procedure or a class that runs Linear Regression optionally with the obfuscation. You can use either a ready implementation of Linear Regression from sciki-learn or your own.\n",
    "\n",
    "Run Linear Regression for the original data and the obfuscated one, compare the predicted values and the RMSE, $R^2$ metric values. Is there any difference?"
   ]
  },
  {
   "cell_type": "markdown",
   "metadata": {},
   "source": [
    "**Procedure**\n",
    "\n",
    "- Create a square matrix $P$ of random numbers.\n",
    "- Check that it is invertible. If not, repeat the first point until we get an invertible matrix.\n",
    "- Obfuscate the data by multiplying the numerical features by the invertible matrix 𝑃.\n",
    "- Use $XP$ as the new feature matrix"
   ]
  },
  {
   "cell_type": "code",
   "execution_count": 46,
   "metadata": {},
   "outputs": [],
   "source": [
    "# Spliting the original data into training and test datasets\n",
    "X = df[['age', 'gender', 'income', 'family_members']].to_numpy()\n",
    "y = df['insurance_benefits'].to_numpy()\n",
    "\n",
    "X_train, X_test, y_train, y_test = train_test_split(X, y, test_size=0.3, random_state=12345)\n"
   ]
  },
  {
   "cell_type": "code",
   "execution_count": 47,
   "metadata": {},
   "outputs": [
    {
     "name": "stdout",
     "output_type": "stream",
     "text": [
      "X_train shape: (3500, 4)\n",
      "y_train shape: (3500,)\n",
      "X_test shape: (1500, 4)\n",
      "y_test shape: (1500,)\n"
     ]
    }
   ],
   "source": [
    "# Checking shape\n",
    "print('X_train shape:', X_train.shape)\n",
    "print('y_train shape:', y_train.shape)\n",
    "print('X_test shape:', X_test.shape)\n",
    "print('y_test shape:', y_test.shape)\n"
   ]
  },
  {
   "cell_type": "code",
   "execution_count": 48,
   "metadata": {},
   "outputs": [
    {
     "data": {
      "text/plain": [
       "array([[0.77395605, 0.43887844, 0.85859792, 0.69736803],\n",
       "       [0.09417735, 0.97562235, 0.7611397 , 0.78606431],\n",
       "       [0.12811363, 0.45038594, 0.37079802, 0.92676499],\n",
       "       [0.64386512, 0.82276161, 0.4434142 , 0.22723872]])"
      ]
     },
     "execution_count": 48,
     "metadata": {},
     "output_type": "execute_result"
    }
   ],
   "source": [
    "# Creating a square matrix 𝑃 of random numbers\n",
    "rng = np.random.default_rng(seed=42)\n",
    "P = rng.random(size=(X_train.shape[1], X_train.shape[1]))\n",
    "P # P is an n x n matrix where n=4\n"
   ]
  },
  {
   "cell_type": "code",
   "execution_count": 49,
   "metadata": {},
   "outputs": [
    {
     "name": "stdout",
     "output_type": "stream",
     "text": [
      "inverse matrix of P:\n",
      "[[ 0.41467992 -1.43783972  0.62798546  1.14001268]\n",
      " [-1.06101789  0.44219337  0.1329549   1.18425933]\n",
      " [ 1.42362442  1.60461607 -2.0553823  -1.53699695]\n",
      " [-0.11128575 -0.65813802  1.74995517 -0.11816316]]\n"
     ]
    }
   ],
   "source": [
    "# Finding the inverse matrix of P - if the matrix is non-invertible, an error will be issued\n",
    "P_inverse = np.linalg.inv(P)\n",
    "print('inverse matrix of P:')\n",
    "print(P_inverse)\n"
   ]
  },
  {
   "cell_type": "code",
   "execution_count": 50,
   "metadata": {},
   "outputs": [],
   "source": [
    "# Preparing an obfuscated version of the training and test datasets by multiplying the numerical features by the invertible matrix P\n",
    "X_train_obf = X_train @ P\n",
    "X_test_obf = X_test @ P\n"
   ]
  },
  {
   "cell_type": "code",
   "execution_count": 51,
   "metadata": {},
   "outputs": [
    {
     "name": "stdout",
     "output_type": "stream",
     "text": [
      "RMSE: 0.34\n",
      "R2: 0.66\n"
     ]
    }
   ],
   "source": [
    "# The benchmark - training linear regression model on the non-obfuscated training dataset and test on the test dataset\n",
    "lr_reg = LinearRegression()\n",
    "lr_reg.fit(X_train, y_train)\n",
    "y_test_pred_reg = lr_reg.predict(X_test)\n",
    "eval_regressor(y_test, y_test_pred_reg)\n"
   ]
  },
  {
   "cell_type": "code",
   "execution_count": 52,
   "metadata": {},
   "outputs": [
    {
     "name": "stdout",
     "output_type": "stream",
     "text": [
      "RMSE: 0.34\n",
      "R2: 0.66\n"
     ]
    }
   ],
   "source": [
    "# Training the model on the obfuscated training dataset and test on the obfuscated test dataset\n",
    "lr_obf = LinearRegression()\n",
    "lr_obf.fit(X_train_obf, y_train)\n",
    "y_test_pred_obf = lr_obf.predict(X_test_obf)\n",
    "eval_regressor(y_test, y_test_pred_obf)\n"
   ]
  },
  {
   "cell_type": "markdown",
   "metadata": {},
   "source": [
    "### Conclusions\n",
    "* \"The benchmark\" was the training and test datasets that were both not obfuscated: this is the scenario from earlier where data masking is not applied.\n",
    "\n",
    "* Training and test datasets that were both obfuscated: this performance quality was identical to the benchmark."
   ]
  },
  {
   "cell_type": "markdown",
   "metadata": {},
   "source": [
    "#  Overall Conclusions"
   ]
  },
  {
   "cell_type": "markdown",
   "metadata": {},
   "source": [
    "1. Dataset shape is 5000 rows with 5 columns and no missing values.\n",
    "2. The 'age' feature variable has the strongest correlation with target variable.\n",
    "3. No outliers are observed.\n",
    "4. When the data is not scaled, as k increases, F1 decreases. When k=10, F1=0, so precision is high for all values of k, but recall is gets poorer. This is presumably because it becomes more and more difficult to calculate the distane between the data points.\n",
    "5. In constrast, when the data is scaled, the increase in k barely affects F1, which remains high, and so precision and recall at a near perfect level (very close to 1.0).\n",
    "7. We can see from the sizes of the weights that the parameters influence of target variable in the order of 'age', 'gender', 'family_members', 'income'.\n",
    "8. r2=0.66 indicates an above-average correlation strength between the set of features and the target. If the dataset had started out with many more variables in it, whoever did the feature selection did a good job at narrowing the list down to he four most influencial variables that help predict that target.\n",
    "9. \"The benchmark\" was the training and test datasets that were both not obfuscated: this is the scenario from earlier where data masking is not applied.\n",
    "10. Training and test datasets that were both obfuscated: this performance quality was identical to the benchmark.\n"
   ]
  },
  {
   "cell_type": "markdown",
   "metadata": {},
   "source": [
    "# Appendices \n",
    "\n",
    "## Appendix A: Writing Formulas in Jupyter Notebooks"
   ]
  },
  {
   "cell_type": "markdown",
   "metadata": {},
   "source": [
    "You can write formulas in your Jupyter Notebook in a markup language provided by a high-quality publishing system called $\\LaTeX$ (pronounced \"Lah-tech\"), and they will look like formulas in textbooks.\n",
    "\n",
    "To put a formula in a text, put the dollar sign (\\\\$) before and after the formula's text e.g. $\\frac{1}{2} \\times \\frac{3}{2} = \\frac{3}{4}$ or $y = x^2, x \\ge 1$.\n",
    "\n",
    "If a formula should be in its own paragraph, put the double dollar sign (\\\\$\\\\$) before and after the formula text e.g.\n",
    "\n",
    "$$\n",
    "\\bar{x} = \\frac{1}{n}\\sum_{i=1}^{n} x_i.\n",
    "$$\n",
    "\n",
    "The markup language of [LaTeX](https://en.wikipedia.org/wiki/LaTeX) is very popular among people who use formulas in their articles, books and texts. It can be complex but its basics are easy. Check this two page [cheatsheet](http://tug.ctan.org/info/undergradmath/undergradmath.pdf) for learning how to compose the most common formulas."
   ]
  },
  {
   "cell_type": "markdown",
   "metadata": {},
   "source": [
    "## Appendix B: Properties of Matrices"
   ]
  },
  {
   "cell_type": "markdown",
   "metadata": {},
   "source": [
    "Matrices have many properties in Linear Algebra. A few of them are listed here which can help with the analytical proof in this project."
   ]
  },
  {
   "cell_type": "markdown",
   "metadata": {},
   "source": [
    "<table>\n",
    "<tr>\n",
    "<td>Distributivity</td><td>$A(B+C)=AB+AC$</td>\n",
    "</tr>\n",
    "<tr>\n",
    "<td>Non-commutativity</td><td>$AB \\neq BA$</td>\n",
    "</tr>\n",
    "<tr>\n",
    "<td>Associative property of multiplication</td><td>$(AB)C = A(BC)$</td>\n",
    "</tr>\n",
    "<tr>\n",
    "<td>Multiplicative identity property</td><td>$IA = AI = A$</td>\n",
    "</tr>\n",
    "<tr>\n",
    "<td></td><td>$A^{-1}A = AA^{-1} = I$\n",
    "</td>\n",
    "</tr>    \n",
    "<tr>\n",
    "<td></td><td>$(AB)^{-1} = B^{-1}A^{-1}$</td>\n",
    "</tr>    \n",
    "<tr>\n",
    "<td>Reversivity of the transpose of a product of matrices,</td><td>$(AB)^T = B^TA^T$</td>\n",
    "</tr>    \n",
    "</table>"
   ]
  },
  {
   "cell_type": "code",
   "execution_count": null,
   "metadata": {},
   "outputs": [],
   "source": []
  }
 ],
 "metadata": {
  "ExecuteTimeLog": [
   {
    "duration": 7021,
    "start_time": "2022-07-12T18:03:50.459Z"
   },
   {
    "duration": 1344,
    "start_time": "2022-07-12T18:03:57.482Z"
   },
   {
    "duration": 106,
    "start_time": "2022-07-12T18:03:58.827Z"
   },
   {
    "duration": 4,
    "start_time": "2022-07-12T18:03:58.935Z"
   },
   {
    "duration": 24,
    "start_time": "2022-07-12T18:03:58.942Z"
   },
   {
    "duration": 22,
    "start_time": "2022-07-12T18:03:58.968Z"
   },
   {
    "duration": 3,
    "start_time": "2022-07-12T18:03:58.991Z"
   },
   {
    "duration": 9,
    "start_time": "2022-07-12T18:03:58.996Z"
   },
   {
    "duration": 29,
    "start_time": "2022-07-12T18:03:59.007Z"
   },
   {
    "duration": 3314,
    "start_time": "2022-07-12T18:03:59.038Z"
   },
   {
    "duration": 2,
    "start_time": "2022-07-12T18:04:02.354Z"
   },
   {
    "duration": 69,
    "start_time": "2022-07-12T18:04:02.358Z"
   },
   {
    "duration": 0,
    "start_time": "2022-07-12T18:04:02.430Z"
   },
   {
    "duration": 0,
    "start_time": "2022-07-12T18:04:02.431Z"
   },
   {
    "duration": 0,
    "start_time": "2022-07-12T18:04:02.433Z"
   },
   {
    "duration": 0,
    "start_time": "2022-07-12T18:04:02.434Z"
   },
   {
    "duration": 0,
    "start_time": "2022-07-12T18:04:02.435Z"
   },
   {
    "duration": 0,
    "start_time": "2022-07-12T18:04:02.436Z"
   },
   {
    "duration": 0,
    "start_time": "2022-07-12T18:04:02.437Z"
   },
   {
    "duration": 0,
    "start_time": "2022-07-12T18:04:02.439Z"
   },
   {
    "duration": 0,
    "start_time": "2022-07-12T18:04:02.440Z"
   },
   {
    "duration": 0,
    "start_time": "2022-07-12T18:04:02.441Z"
   },
   {
    "duration": 0,
    "start_time": "2022-07-12T18:04:02.442Z"
   },
   {
    "duration": 0,
    "start_time": "2022-07-12T18:04:02.444Z"
   },
   {
    "duration": 0,
    "start_time": "2022-07-12T18:04:02.445Z"
   },
   {
    "duration": 3,
    "start_time": "2022-07-12T18:12:01.578Z"
   },
   {
    "duration": 4,
    "start_time": "2022-07-12T18:12:02.316Z"
   },
   {
    "duration": 5,
    "start_time": "2022-07-12T18:12:03.669Z"
   },
   {
    "duration": 4,
    "start_time": "2022-07-12T18:12:50.945Z"
   },
   {
    "duration": 12,
    "start_time": "2022-07-12T18:12:51.614Z"
   },
   {
    "duration": 12,
    "start_time": "2022-07-12T18:12:54.304Z"
   },
   {
    "duration": 71,
    "start_time": "2022-07-12T18:17:41.798Z"
   },
   {
    "duration": 5,
    "start_time": "2022-07-12T18:17:42.877Z"
   },
   {
    "duration": 9168,
    "start_time": "2022-07-16T08:01:17.255Z"
   },
   {
    "duration": 1429,
    "start_time": "2022-07-16T08:01:26.425Z"
   },
   {
    "duration": 69,
    "start_time": "2022-07-16T08:01:27.855Z"
   },
   {
    "duration": 5,
    "start_time": "2022-07-16T08:01:27.925Z"
   },
   {
    "duration": 18,
    "start_time": "2022-07-16T08:01:27.932Z"
   },
   {
    "duration": 13,
    "start_time": "2022-07-16T08:01:27.951Z"
   },
   {
    "duration": 139,
    "start_time": "2022-07-16T08:01:27.967Z"
   },
   {
    "duration": 0,
    "start_time": "2022-07-16T08:01:28.108Z"
   },
   {
    "duration": 0,
    "start_time": "2022-07-16T08:01:28.109Z"
   },
   {
    "duration": 0,
    "start_time": "2022-07-16T08:01:28.111Z"
   },
   {
    "duration": 0,
    "start_time": "2022-07-16T08:01:28.112Z"
   },
   {
    "duration": 0,
    "start_time": "2022-07-16T08:01:28.114Z"
   },
   {
    "duration": 0,
    "start_time": "2022-07-16T08:01:28.115Z"
   },
   {
    "duration": 0,
    "start_time": "2022-07-16T08:01:28.117Z"
   },
   {
    "duration": 0,
    "start_time": "2022-07-16T08:01:28.118Z"
   },
   {
    "duration": 0,
    "start_time": "2022-07-16T08:01:28.119Z"
   },
   {
    "duration": 0,
    "start_time": "2022-07-16T08:01:28.121Z"
   },
   {
    "duration": 0,
    "start_time": "2022-07-16T08:01:28.146Z"
   },
   {
    "duration": 0,
    "start_time": "2022-07-16T08:01:28.147Z"
   },
   {
    "duration": 0,
    "start_time": "2022-07-16T08:01:28.148Z"
   },
   {
    "duration": 0,
    "start_time": "2022-07-16T08:01:28.150Z"
   },
   {
    "duration": 0,
    "start_time": "2022-07-16T08:01:28.152Z"
   },
   {
    "duration": 0,
    "start_time": "2022-07-16T08:01:28.153Z"
   },
   {
    "duration": 0,
    "start_time": "2022-07-16T08:01:28.155Z"
   },
   {
    "duration": 0,
    "start_time": "2022-07-16T08:01:28.156Z"
   },
   {
    "duration": 4,
    "start_time": "2022-07-16T08:01:40.815Z"
   },
   {
    "duration": 11,
    "start_time": "2022-07-16T08:01:41.950Z"
   },
   {
    "duration": 16,
    "start_time": "2022-07-16T08:01:49.814Z"
   },
   {
    "duration": 33,
    "start_time": "2022-07-16T08:01:53.274Z"
   },
   {
    "duration": 4113,
    "start_time": "2022-07-16T08:02:47.883Z"
   },
   {
    "duration": 3,
    "start_time": "2022-07-16T08:04:23.324Z"
   },
   {
    "duration": 48,
    "start_time": "2022-07-16T08:04:24.494Z"
   },
   {
    "duration": 6,
    "start_time": "2022-07-16T08:04:56.145Z"
   },
   {
    "duration": 13,
    "start_time": "2022-07-16T08:05:06.995Z"
   },
   {
    "duration": 13,
    "start_time": "2022-07-16T08:05:09.024Z"
   },
   {
    "duration": 15,
    "start_time": "2022-07-16T08:07:57.694Z"
   },
   {
    "duration": 23,
    "start_time": "2022-07-16T08:08:10.725Z"
   },
   {
    "duration": 19,
    "start_time": "2022-07-16T08:08:18.103Z"
   },
   {
    "duration": 2539,
    "start_time": "2022-07-16T08:08:40.491Z"
   },
   {
    "duration": 1254,
    "start_time": "2022-07-16T08:08:43.033Z"
   },
   {
    "duration": 29,
    "start_time": "2022-07-16T08:08:44.289Z"
   },
   {
    "duration": 3,
    "start_time": "2022-07-16T08:08:44.321Z"
   },
   {
    "duration": 18,
    "start_time": "2022-07-16T08:08:44.326Z"
   },
   {
    "duration": 13,
    "start_time": "2022-07-16T08:08:44.346Z"
   },
   {
    "duration": 7,
    "start_time": "2022-07-16T08:08:44.361Z"
   },
   {
    "duration": 13,
    "start_time": "2022-07-16T08:08:44.370Z"
   },
   {
    "duration": 23,
    "start_time": "2022-07-16T08:08:44.386Z"
   },
   {
    "duration": 3561,
    "start_time": "2022-07-16T08:08:44.411Z"
   },
   {
    "duration": 3,
    "start_time": "2022-07-16T08:08:47.974Z"
   },
   {
    "duration": 10,
    "start_time": "2022-07-16T08:08:47.979Z"
   },
   {
    "duration": 17,
    "start_time": "2022-07-16T08:08:47.991Z"
   },
   {
    "duration": 9,
    "start_time": "2022-07-16T08:08:48.010Z"
   },
   {
    "duration": 126,
    "start_time": "2022-07-16T08:08:48.021Z"
   },
   {
    "duration": 1,
    "start_time": "2022-07-16T08:08:48.148Z"
   },
   {
    "duration": 0,
    "start_time": "2022-07-16T08:08:48.150Z"
   },
   {
    "duration": 0,
    "start_time": "2022-07-16T08:08:48.151Z"
   },
   {
    "duration": 0,
    "start_time": "2022-07-16T08:08:48.152Z"
   },
   {
    "duration": 0,
    "start_time": "2022-07-16T08:08:48.153Z"
   },
   {
    "duration": 0,
    "start_time": "2022-07-16T08:08:48.154Z"
   },
   {
    "duration": 0,
    "start_time": "2022-07-16T08:08:48.155Z"
   },
   {
    "duration": 0,
    "start_time": "2022-07-16T08:08:48.156Z"
   },
   {
    "duration": 0,
    "start_time": "2022-07-16T08:08:48.157Z"
   },
   {
    "duration": 0,
    "start_time": "2022-07-16T08:08:48.158Z"
   },
   {
    "duration": 0,
    "start_time": "2022-07-16T08:08:48.159Z"
   },
   {
    "duration": 26,
    "start_time": "2022-07-16T08:10:53.599Z"
   },
   {
    "duration": 2922,
    "start_time": "2022-07-16T08:13:10.985Z"
   },
   {
    "duration": 5003,
    "start_time": "2022-07-16T08:13:13.910Z"
   },
   {
    "duration": 34,
    "start_time": "2022-07-16T08:13:18.916Z"
   },
   {
    "duration": 4,
    "start_time": "2022-07-16T08:13:18.953Z"
   },
   {
    "duration": 67,
    "start_time": "2022-07-16T08:13:18.961Z"
   },
   {
    "duration": 66,
    "start_time": "2022-07-16T08:13:19.030Z"
   },
   {
    "duration": 14,
    "start_time": "2022-07-16T08:13:19.100Z"
   },
   {
    "duration": 33,
    "start_time": "2022-07-16T08:13:19.116Z"
   },
   {
    "duration": 77,
    "start_time": "2022-07-16T08:13:19.151Z"
   },
   {
    "duration": 4028,
    "start_time": "2022-07-16T08:13:19.232Z"
   },
   {
    "duration": 4,
    "start_time": "2022-07-16T08:13:23.262Z"
   },
   {
    "duration": 14,
    "start_time": "2022-07-16T08:13:23.268Z"
   },
   {
    "duration": 14,
    "start_time": "2022-07-16T08:13:23.284Z"
   },
   {
    "duration": 10,
    "start_time": "2022-07-16T08:13:23.300Z"
   },
   {
    "duration": 175,
    "start_time": "2022-07-16T08:13:23.312Z"
   },
   {
    "duration": 0,
    "start_time": "2022-07-16T08:13:23.489Z"
   },
   {
    "duration": 0,
    "start_time": "2022-07-16T08:13:23.491Z"
   },
   {
    "duration": 0,
    "start_time": "2022-07-16T08:13:23.493Z"
   },
   {
    "duration": 1,
    "start_time": "2022-07-16T08:13:23.494Z"
   },
   {
    "duration": 0,
    "start_time": "2022-07-16T08:13:23.498Z"
   },
   {
    "duration": 0,
    "start_time": "2022-07-16T08:13:23.499Z"
   },
   {
    "duration": 0,
    "start_time": "2022-07-16T08:13:23.503Z"
   },
   {
    "duration": 0,
    "start_time": "2022-07-16T08:13:23.504Z"
   },
   {
    "duration": 0,
    "start_time": "2022-07-16T08:13:23.504Z"
   },
   {
    "duration": 0,
    "start_time": "2022-07-16T08:13:23.505Z"
   },
   {
    "duration": 0,
    "start_time": "2022-07-16T08:13:23.506Z"
   },
   {
    "duration": 13,
    "start_time": "2022-07-16T08:14:17.183Z"
   },
   {
    "duration": 30,
    "start_time": "2022-07-16T08:14:24.469Z"
   },
   {
    "duration": 17,
    "start_time": "2022-07-16T08:14:51.867Z"
   },
   {
    "duration": 22,
    "start_time": "2022-07-16T08:15:06.767Z"
   },
   {
    "duration": 29,
    "start_time": "2022-07-16T08:15:46.337Z"
   },
   {
    "duration": 7,
    "start_time": "2022-07-16T08:18:01.725Z"
   },
   {
    "duration": 6,
    "start_time": "2022-07-16T08:18:02.565Z"
   },
   {
    "duration": 5,
    "start_time": "2022-07-16T08:18:14.673Z"
   },
   {
    "duration": 11,
    "start_time": "2022-07-16T08:18:32.068Z"
   },
   {
    "duration": 60,
    "start_time": "2022-07-16T08:18:32.959Z"
   },
   {
    "duration": 32,
    "start_time": "2022-07-16T08:19:34.125Z"
   },
   {
    "duration": 2989,
    "start_time": "2022-07-16T08:21:42.423Z"
   },
   {
    "duration": 4224,
    "start_time": "2022-07-16T08:21:45.416Z"
   },
   {
    "duration": 44,
    "start_time": "2022-07-16T08:21:49.643Z"
   },
   {
    "duration": 10,
    "start_time": "2022-07-16T08:21:49.689Z"
   },
   {
    "duration": 29,
    "start_time": "2022-07-16T08:21:49.701Z"
   },
   {
    "duration": 22,
    "start_time": "2022-07-16T08:21:49.732Z"
   },
   {
    "duration": 30,
    "start_time": "2022-07-16T08:21:49.762Z"
   },
   {
    "duration": 22,
    "start_time": "2022-07-16T08:21:49.794Z"
   },
   {
    "duration": 52,
    "start_time": "2022-07-16T08:21:49.818Z"
   },
   {
    "duration": 4203,
    "start_time": "2022-07-16T08:21:49.873Z"
   },
   {
    "duration": 4,
    "start_time": "2022-07-16T08:21:54.079Z"
   },
   {
    "duration": 8,
    "start_time": "2022-07-16T08:21:54.085Z"
   },
   {
    "duration": 18,
    "start_time": "2022-07-16T08:21:54.096Z"
   },
   {
    "duration": 54,
    "start_time": "2022-07-16T08:21:54.117Z"
   },
   {
    "duration": 138,
    "start_time": "2022-07-16T08:21:54.173Z"
   },
   {
    "duration": 0,
    "start_time": "2022-07-16T08:21:54.314Z"
   },
   {
    "duration": 0,
    "start_time": "2022-07-16T08:21:54.315Z"
   },
   {
    "duration": 0,
    "start_time": "2022-07-16T08:21:54.318Z"
   },
   {
    "duration": 0,
    "start_time": "2022-07-16T08:21:54.319Z"
   },
   {
    "duration": 0,
    "start_time": "2022-07-16T08:21:54.321Z"
   },
   {
    "duration": 0,
    "start_time": "2022-07-16T08:21:54.323Z"
   },
   {
    "duration": 0,
    "start_time": "2022-07-16T08:21:54.325Z"
   },
   {
    "duration": 0,
    "start_time": "2022-07-16T08:21:54.347Z"
   },
   {
    "duration": 0,
    "start_time": "2022-07-16T08:21:54.351Z"
   },
   {
    "duration": 0,
    "start_time": "2022-07-16T08:21:54.353Z"
   },
   {
    "duration": 0,
    "start_time": "2022-07-16T08:21:54.355Z"
   },
   {
    "duration": 0,
    "start_time": "2022-07-16T08:21:54.356Z"
   },
   {
    "duration": 0,
    "start_time": "2022-07-16T08:21:54.358Z"
   },
   {
    "duration": 0,
    "start_time": "2022-07-16T08:21:54.360Z"
   },
   {
    "duration": 25,
    "start_time": "2022-07-16T08:27:54.311Z"
   },
   {
    "duration": 3221,
    "start_time": "2022-07-16T08:29:53.041Z"
   },
   {
    "duration": 4491,
    "start_time": "2022-07-16T08:29:56.265Z"
   },
   {
    "duration": 41,
    "start_time": "2022-07-16T08:30:00.762Z"
   },
   {
    "duration": 6,
    "start_time": "2022-07-16T08:30:00.807Z"
   },
   {
    "duration": 45,
    "start_time": "2022-07-16T08:30:00.815Z"
   },
   {
    "duration": 47,
    "start_time": "2022-07-16T08:30:00.862Z"
   },
   {
    "duration": 27,
    "start_time": "2022-07-16T08:30:00.910Z"
   },
   {
    "duration": 70,
    "start_time": "2022-07-16T08:30:00.939Z"
   },
   {
    "duration": 52,
    "start_time": "2022-07-16T08:30:01.011Z"
   },
   {
    "duration": 4274,
    "start_time": "2022-07-16T08:30:01.067Z"
   },
   {
    "duration": 6,
    "start_time": "2022-07-16T08:30:05.347Z"
   },
   {
    "duration": 34,
    "start_time": "2022-07-16T08:30:05.355Z"
   },
   {
    "duration": 16,
    "start_time": "2022-07-16T08:30:05.391Z"
   },
   {
    "duration": 33,
    "start_time": "2022-07-16T08:30:05.409Z"
   },
   {
    "duration": 62,
    "start_time": "2022-07-16T08:30:05.444Z"
   },
   {
    "duration": 35,
    "start_time": "2022-07-16T08:30:05.508Z"
   },
   {
    "duration": 46,
    "start_time": "2022-07-16T08:30:05.545Z"
   },
   {
    "duration": 55,
    "start_time": "2022-07-16T08:30:05.593Z"
   },
   {
    "duration": 7,
    "start_time": "2022-07-16T08:30:05.650Z"
   },
   {
    "duration": 25,
    "start_time": "2022-07-16T08:30:05.660Z"
   },
   {
    "duration": 7,
    "start_time": "2022-07-16T08:30:05.687Z"
   },
   {
    "duration": 9,
    "start_time": "2022-07-16T08:30:05.696Z"
   },
   {
    "duration": 52,
    "start_time": "2022-07-16T08:30:05.707Z"
   },
   {
    "duration": 57,
    "start_time": "2022-07-16T08:30:05.769Z"
   },
   {
    "duration": 0,
    "start_time": "2022-07-16T08:30:05.829Z"
   },
   {
    "duration": 0,
    "start_time": "2022-07-16T08:30:05.833Z"
   },
   {
    "duration": 0,
    "start_time": "2022-07-16T08:30:05.834Z"
   },
   {
    "duration": 0,
    "start_time": "2022-07-16T08:30:05.836Z"
   },
   {
    "duration": 0,
    "start_time": "2022-07-16T08:30:05.838Z"
   },
   {
    "duration": 40,
    "start_time": "2022-07-16T08:31:17.965Z"
   },
   {
    "duration": 38,
    "start_time": "2022-07-16T08:31:26.516Z"
   },
   {
    "duration": 43,
    "start_time": "2022-07-16T08:31:32.115Z"
   },
   {
    "duration": 34,
    "start_time": "2022-07-16T08:31:37.222Z"
   },
   {
    "duration": 40,
    "start_time": "2022-07-16T08:40:27.575Z"
   },
   {
    "duration": 10,
    "start_time": "2022-07-16T09:04:33.764Z"
   },
   {
    "duration": 4,
    "start_time": "2022-07-16T09:04:36.981Z"
   },
   {
    "duration": 206,
    "start_time": "2022-07-16T09:04:38.820Z"
   },
   {
    "duration": 8,
    "start_time": "2022-07-16T09:07:04.851Z"
   },
   {
    "duration": 4,
    "start_time": "2022-07-16T09:07:05.718Z"
   },
   {
    "duration": 23,
    "start_time": "2022-07-16T09:07:08.319Z"
   },
   {
    "duration": 5,
    "start_time": "2022-07-16T09:08:52.690Z"
   },
   {
    "duration": 46,
    "start_time": "2022-07-16T09:08:56.439Z"
   },
   {
    "duration": 4425,
    "start_time": "2022-07-16T09:09:17.995Z"
   },
   {
    "duration": 5441,
    "start_time": "2022-07-16T09:09:22.423Z"
   },
   {
    "duration": 50,
    "start_time": "2022-07-16T09:09:27.868Z"
   },
   {
    "duration": 4,
    "start_time": "2022-07-16T09:09:27.922Z"
   },
   {
    "duration": 65,
    "start_time": "2022-07-16T09:09:27.929Z"
   },
   {
    "duration": 32,
    "start_time": "2022-07-16T09:09:27.996Z"
   },
   {
    "duration": 9,
    "start_time": "2022-07-16T09:09:28.031Z"
   },
   {
    "duration": 45,
    "start_time": "2022-07-16T09:09:28.042Z"
   },
   {
    "duration": 42,
    "start_time": "2022-07-16T09:09:28.089Z"
   },
   {
    "duration": 4776,
    "start_time": "2022-07-16T09:09:28.135Z"
   },
   {
    "duration": 3,
    "start_time": "2022-07-16T09:09:32.913Z"
   },
   {
    "duration": 10,
    "start_time": "2022-07-16T09:09:32.919Z"
   },
   {
    "duration": 20,
    "start_time": "2022-07-16T09:09:32.947Z"
   },
   {
    "duration": 39,
    "start_time": "2022-07-16T09:09:32.972Z"
   },
   {
    "duration": 31,
    "start_time": "2022-07-16T09:09:33.013Z"
   },
   {
    "duration": 53,
    "start_time": "2022-07-16T09:09:33.045Z"
   },
   {
    "duration": 36,
    "start_time": "2022-07-16T09:09:33.100Z"
   },
   {
    "duration": 40,
    "start_time": "2022-07-16T09:09:33.139Z"
   },
   {
    "duration": 24,
    "start_time": "2022-07-16T09:09:33.181Z"
   },
   {
    "duration": 10,
    "start_time": "2022-07-16T09:09:33.207Z"
   },
   {
    "duration": 10,
    "start_time": "2022-07-16T09:09:33.220Z"
   },
   {
    "duration": 6,
    "start_time": "2022-07-16T09:09:33.232Z"
   },
   {
    "duration": 74,
    "start_time": "2022-07-16T09:09:33.240Z"
   },
   {
    "duration": 8,
    "start_time": "2022-07-16T09:09:33.316Z"
   },
   {
    "duration": 9,
    "start_time": "2022-07-16T09:09:33.326Z"
   },
   {
    "duration": 296,
    "start_time": "2022-07-16T09:09:33.340Z"
   },
   {
    "duration": 0,
    "start_time": "2022-07-16T09:09:33.638Z"
   },
   {
    "duration": 0,
    "start_time": "2022-07-16T09:09:33.645Z"
   },
   {
    "duration": 0,
    "start_time": "2022-07-16T09:09:33.647Z"
   },
   {
    "duration": 87,
    "start_time": "2022-07-16T09:10:37.978Z"
   },
   {
    "duration": 3277,
    "start_time": "2022-07-16T09:10:59.726Z"
   },
   {
    "duration": 4492,
    "start_time": "2022-07-16T09:11:03.006Z"
   },
   {
    "duration": 59,
    "start_time": "2022-07-16T09:11:07.500Z"
   },
   {
    "duration": 11,
    "start_time": "2022-07-16T09:11:07.572Z"
   },
   {
    "duration": 39,
    "start_time": "2022-07-16T09:11:07.602Z"
   },
   {
    "duration": 59,
    "start_time": "2022-07-16T09:11:07.642Z"
   },
   {
    "duration": 4,
    "start_time": "2022-07-16T09:11:07.703Z"
   },
   {
    "duration": 15,
    "start_time": "2022-07-16T09:11:07.708Z"
   },
   {
    "duration": 44,
    "start_time": "2022-07-16T09:11:07.725Z"
   },
   {
    "duration": 4653,
    "start_time": "2022-07-16T09:11:07.776Z"
   },
   {
    "duration": 3,
    "start_time": "2022-07-16T09:11:12.431Z"
   },
   {
    "duration": 9,
    "start_time": "2022-07-16T09:11:12.449Z"
   },
   {
    "duration": 36,
    "start_time": "2022-07-16T09:11:12.461Z"
   },
   {
    "duration": 12,
    "start_time": "2022-07-16T09:11:12.500Z"
   },
   {
    "duration": 37,
    "start_time": "2022-07-16T09:11:12.514Z"
   },
   {
    "duration": 42,
    "start_time": "2022-07-16T09:11:12.557Z"
   },
   {
    "duration": 27,
    "start_time": "2022-07-16T09:11:12.601Z"
   },
   {
    "duration": 60,
    "start_time": "2022-07-16T09:11:12.630Z"
   },
   {
    "duration": 11,
    "start_time": "2022-07-16T09:11:12.692Z"
   },
   {
    "duration": 9,
    "start_time": "2022-07-16T09:11:12.705Z"
   },
   {
    "duration": 8,
    "start_time": "2022-07-16T09:11:12.716Z"
   },
   {
    "duration": 8,
    "start_time": "2022-07-16T09:11:12.726Z"
   },
   {
    "duration": 61,
    "start_time": "2022-07-16T09:11:12.735Z"
   },
   {
    "duration": 4,
    "start_time": "2022-07-16T09:11:12.799Z"
   },
   {
    "duration": 7,
    "start_time": "2022-07-16T09:11:12.805Z"
   },
   {
    "duration": 257,
    "start_time": "2022-07-16T09:11:12.815Z"
   },
   {
    "duration": 0,
    "start_time": "2022-07-16T09:11:13.074Z"
   },
   {
    "duration": 0,
    "start_time": "2022-07-16T09:11:13.076Z"
   },
   {
    "duration": 0,
    "start_time": "2022-07-16T09:11:13.077Z"
   },
   {
    "duration": 5,
    "start_time": "2022-07-16T09:11:54.178Z"
   },
   {
    "duration": 4,
    "start_time": "2022-07-16T09:11:54.892Z"
   },
   {
    "duration": 67,
    "start_time": "2022-07-16T09:11:56.496Z"
   },
   {
    "duration": 6,
    "start_time": "2022-07-16T09:17:49.217Z"
   },
   {
    "duration": 6,
    "start_time": "2022-07-16T09:17:50.165Z"
   },
   {
    "duration": 66,
    "start_time": "2022-07-16T09:17:51.799Z"
   },
   {
    "duration": 3141,
    "start_time": "2022-07-16T09:18:09.479Z"
   },
   {
    "duration": 4416,
    "start_time": "2022-07-16T09:18:12.623Z"
   },
   {
    "duration": 59,
    "start_time": "2022-07-16T09:18:17.042Z"
   },
   {
    "duration": 5,
    "start_time": "2022-07-16T09:18:17.104Z"
   },
   {
    "duration": 23,
    "start_time": "2022-07-16T09:18:17.112Z"
   },
   {
    "duration": 18,
    "start_time": "2022-07-16T09:18:17.138Z"
   },
   {
    "duration": 30,
    "start_time": "2022-07-16T09:18:17.158Z"
   },
   {
    "duration": 50,
    "start_time": "2022-07-16T09:18:17.191Z"
   },
   {
    "duration": 56,
    "start_time": "2022-07-16T09:18:17.243Z"
   },
   {
    "duration": 4384,
    "start_time": "2022-07-16T09:18:17.303Z"
   },
   {
    "duration": 3,
    "start_time": "2022-07-16T09:18:21.690Z"
   },
   {
    "duration": 15,
    "start_time": "2022-07-16T09:18:21.695Z"
   },
   {
    "duration": 18,
    "start_time": "2022-07-16T09:18:21.712Z"
   },
   {
    "duration": 27,
    "start_time": "2022-07-16T09:18:21.732Z"
   },
   {
    "duration": 40,
    "start_time": "2022-07-16T09:18:21.769Z"
   },
   {
    "duration": 65,
    "start_time": "2022-07-16T09:18:21.811Z"
   },
   {
    "duration": 37,
    "start_time": "2022-07-16T09:18:21.878Z"
   },
   {
    "duration": 61,
    "start_time": "2022-07-16T09:18:21.918Z"
   },
   {
    "duration": 7,
    "start_time": "2022-07-16T09:18:21.981Z"
   },
   {
    "duration": 15,
    "start_time": "2022-07-16T09:18:21.990Z"
   },
   {
    "duration": 7,
    "start_time": "2022-07-16T09:18:22.007Z"
   },
   {
    "duration": 7,
    "start_time": "2022-07-16T09:18:22.017Z"
   },
   {
    "duration": 55,
    "start_time": "2022-07-16T09:18:22.026Z"
   },
   {
    "duration": 9,
    "start_time": "2022-07-16T09:18:22.084Z"
   },
   {
    "duration": 17,
    "start_time": "2022-07-16T09:18:22.096Z"
   },
   {
    "duration": 301,
    "start_time": "2022-07-16T09:18:22.115Z"
   },
   {
    "duration": 0,
    "start_time": "2022-07-16T09:18:22.419Z"
   },
   {
    "duration": 0,
    "start_time": "2022-07-16T09:18:22.420Z"
   },
   {
    "duration": 0,
    "start_time": "2022-07-16T09:18:22.422Z"
   },
   {
    "duration": 8,
    "start_time": "2022-07-16T09:18:35.131Z"
   },
   {
    "duration": 6,
    "start_time": "2022-07-16T09:18:36.151Z"
   },
   {
    "duration": 43,
    "start_time": "2022-07-16T09:18:37.325Z"
   },
   {
    "duration": 6,
    "start_time": "2022-07-16T09:18:58.272Z"
   },
   {
    "duration": 9,
    "start_time": "2022-07-16T09:18:58.915Z"
   },
   {
    "duration": 18,
    "start_time": "2022-07-16T09:19:00.231Z"
   },
   {
    "duration": 3301,
    "start_time": "2022-07-16T09:19:26.462Z"
   },
   {
    "duration": 4596,
    "start_time": "2022-07-16T09:19:29.767Z"
   },
   {
    "duration": 58,
    "start_time": "2022-07-16T09:19:34.365Z"
   },
   {
    "duration": 5,
    "start_time": "2022-07-16T09:19:34.426Z"
   },
   {
    "duration": 26,
    "start_time": "2022-07-16T09:19:34.434Z"
   },
   {
    "duration": 27,
    "start_time": "2022-07-16T09:19:34.463Z"
   },
   {
    "duration": 8,
    "start_time": "2022-07-16T09:19:34.493Z"
   },
   {
    "duration": 19,
    "start_time": "2022-07-16T09:19:34.504Z"
   },
   {
    "duration": 42,
    "start_time": "2022-07-16T09:19:34.526Z"
   },
   {
    "duration": 4452,
    "start_time": "2022-07-16T09:19:34.571Z"
   },
   {
    "duration": 4,
    "start_time": "2022-07-16T09:19:39.025Z"
   },
   {
    "duration": 20,
    "start_time": "2022-07-16T09:19:39.031Z"
   },
   {
    "duration": 61,
    "start_time": "2022-07-16T09:19:39.053Z"
   },
   {
    "duration": 44,
    "start_time": "2022-07-16T09:19:39.119Z"
   },
   {
    "duration": 90,
    "start_time": "2022-07-16T09:19:39.170Z"
   },
   {
    "duration": 81,
    "start_time": "2022-07-16T09:19:39.262Z"
   },
   {
    "duration": 50,
    "start_time": "2022-07-16T09:19:39.346Z"
   },
   {
    "duration": 60,
    "start_time": "2022-07-16T09:19:39.399Z"
   },
   {
    "duration": 25,
    "start_time": "2022-07-16T09:19:39.463Z"
   },
   {
    "duration": 48,
    "start_time": "2022-07-16T09:19:39.491Z"
   },
   {
    "duration": 41,
    "start_time": "2022-07-16T09:19:39.541Z"
   },
   {
    "duration": 23,
    "start_time": "2022-07-16T09:19:39.585Z"
   },
   {
    "duration": 50,
    "start_time": "2022-07-16T09:19:39.611Z"
   },
   {
    "duration": 23,
    "start_time": "2022-07-16T09:19:39.664Z"
   },
   {
    "duration": 18,
    "start_time": "2022-07-16T09:19:39.690Z"
   },
   {
    "duration": 36,
    "start_time": "2022-07-16T09:19:39.711Z"
   },
   {
    "duration": 134,
    "start_time": "2022-07-16T09:19:39.750Z"
   },
   {
    "duration": 6,
    "start_time": "2022-07-16T09:19:39.888Z"
   },
   {
    "duration": 11,
    "start_time": "2022-07-16T09:19:39.895Z"
   },
   {
    "duration": 7,
    "start_time": "2022-07-16T09:25:18.811Z"
   },
   {
    "duration": 6,
    "start_time": "2022-07-16T09:25:39.982Z"
   },
   {
    "duration": 6,
    "start_time": "2022-07-16T09:27:00.748Z"
   },
   {
    "duration": 5,
    "start_time": "2022-07-16T09:27:08.777Z"
   },
   {
    "duration": 6,
    "start_time": "2022-07-16T09:28:01.967Z"
   },
   {
    "duration": 217,
    "start_time": "2022-07-16T09:28:38.796Z"
   },
   {
    "duration": 8,
    "start_time": "2022-07-16T09:28:47.293Z"
   },
   {
    "duration": 51,
    "start_time": "2022-07-16T16:42:51.621Z"
   },
   {
    "duration": 10956,
    "start_time": "2022-07-16T16:42:59.093Z"
   },
   {
    "duration": 4908,
    "start_time": "2022-07-16T16:43:10.051Z"
   },
   {
    "duration": 119,
    "start_time": "2022-07-16T16:43:14.961Z"
   },
   {
    "duration": 4,
    "start_time": "2022-07-16T16:43:15.082Z"
   },
   {
    "duration": 19,
    "start_time": "2022-07-16T16:43:15.088Z"
   },
   {
    "duration": 32,
    "start_time": "2022-07-16T16:43:15.109Z"
   },
   {
    "duration": 5,
    "start_time": "2022-07-16T16:43:15.143Z"
   },
   {
    "duration": 17,
    "start_time": "2022-07-16T16:43:15.149Z"
   },
   {
    "duration": 25,
    "start_time": "2022-07-16T16:43:15.167Z"
   },
   {
    "duration": 3911,
    "start_time": "2022-07-16T16:43:15.195Z"
   },
   {
    "duration": 3,
    "start_time": "2022-07-16T16:43:19.108Z"
   },
   {
    "duration": 16,
    "start_time": "2022-07-16T16:43:19.120Z"
   },
   {
    "duration": 14,
    "start_time": "2022-07-16T16:43:19.137Z"
   },
   {
    "duration": 18,
    "start_time": "2022-07-16T16:43:19.153Z"
   },
   {
    "duration": 30,
    "start_time": "2022-07-16T16:43:19.173Z"
   },
   {
    "duration": 28,
    "start_time": "2022-07-16T16:43:19.217Z"
   },
   {
    "duration": 23,
    "start_time": "2022-07-16T16:43:19.247Z"
   },
   {
    "duration": 48,
    "start_time": "2022-07-16T16:43:19.272Z"
   },
   {
    "duration": 8,
    "start_time": "2022-07-16T16:43:19.322Z"
   },
   {
    "duration": 8,
    "start_time": "2022-07-16T16:43:19.331Z"
   },
   {
    "duration": 5,
    "start_time": "2022-07-16T16:43:19.340Z"
   },
   {
    "duration": 7,
    "start_time": "2022-07-16T16:43:19.347Z"
   },
   {
    "duration": 56,
    "start_time": "2022-07-16T16:43:19.356Z"
   },
   {
    "duration": 8,
    "start_time": "2022-07-16T16:43:19.413Z"
   },
   {
    "duration": 4,
    "start_time": "2022-07-16T16:43:19.423Z"
   },
   {
    "duration": 19,
    "start_time": "2022-07-16T16:43:19.429Z"
   },
   {
    "duration": 6,
    "start_time": "2022-07-16T16:43:19.449Z"
   },
   {
    "duration": 20,
    "start_time": "2022-07-16T16:43:19.510Z"
   },
   {
    "duration": 25,
    "start_time": "2022-07-16T16:43:19.604Z"
   },
   {
    "duration": 9,
    "start_time": "2022-07-16T16:43:19.630Z"
   },
   {
    "duration": 85,
    "start_time": "2022-07-16T16:43:19.641Z"
   },
   {
    "duration": 84,
    "start_time": "2022-07-16T16:43:19.728Z"
   },
   {
    "duration": 14,
    "start_time": "2022-07-16T16:43:19.814Z"
   },
   {
    "duration": 8,
    "start_time": "2022-07-16T16:43:19.830Z"
   },
   {
    "duration": 6,
    "start_time": "2022-07-16T16:44:20.582Z"
   },
   {
    "duration": 5,
    "start_time": "2022-07-16T16:44:25.621Z"
   },
   {
    "duration": 270,
    "start_time": "2022-07-16T17:32:36.453Z"
   },
   {
    "duration": 10,
    "start_time": "2022-07-16T17:32:51.321Z"
   },
   {
    "duration": 5,
    "start_time": "2022-07-16T17:36:44.365Z"
   },
   {
    "duration": 10,
    "start_time": "2022-07-16T17:53:08.355Z"
   },
   {
    "duration": 6,
    "start_time": "2022-07-16T17:53:15.154Z"
   },
   {
    "duration": 4,
    "start_time": "2022-07-16T17:53:24.872Z"
   },
   {
    "duration": 6,
    "start_time": "2022-07-16T17:53:40.763Z"
   },
   {
    "duration": 4,
    "start_time": "2022-07-16T17:53:59.483Z"
   },
   {
    "duration": 3,
    "start_time": "2022-07-16T17:54:11.279Z"
   },
   {
    "duration": 9,
    "start_time": "2022-07-16T17:54:31.372Z"
   },
   {
    "duration": 16,
    "start_time": "2022-07-16T17:54:59.102Z"
   },
   {
    "duration": 6,
    "start_time": "2022-07-16T17:55:45.552Z"
   },
   {
    "duration": 93,
    "start_time": "2022-07-17T13:16:55.198Z"
   },
   {
    "duration": 8414,
    "start_time": "2022-07-17T14:51:19.572Z"
   },
   {
    "duration": 4552,
    "start_time": "2022-07-17T14:51:27.989Z"
   },
   {
    "duration": 72,
    "start_time": "2022-07-17T14:51:32.543Z"
   },
   {
    "duration": 4,
    "start_time": "2022-07-17T14:51:32.617Z"
   },
   {
    "duration": 18,
    "start_time": "2022-07-17T14:51:32.623Z"
   },
   {
    "duration": 13,
    "start_time": "2022-07-17T14:51:32.644Z"
   },
   {
    "duration": 7,
    "start_time": "2022-07-17T14:51:32.659Z"
   },
   {
    "duration": 16,
    "start_time": "2022-07-17T14:51:32.668Z"
   },
   {
    "duration": 50,
    "start_time": "2022-07-17T14:51:32.686Z"
   },
   {
    "duration": 3838,
    "start_time": "2022-07-17T14:51:32.737Z"
   },
   {
    "duration": 3,
    "start_time": "2022-07-17T14:51:36.576Z"
   },
   {
    "duration": 8,
    "start_time": "2022-07-17T14:51:36.580Z"
   },
   {
    "duration": 24,
    "start_time": "2022-07-17T14:51:36.590Z"
   },
   {
    "duration": 11,
    "start_time": "2022-07-17T14:51:36.617Z"
   },
   {
    "duration": 28,
    "start_time": "2022-07-17T14:51:36.630Z"
   },
   {
    "duration": 23,
    "start_time": "2022-07-17T14:51:36.660Z"
   },
   {
    "duration": 32,
    "start_time": "2022-07-17T14:51:36.702Z"
   },
   {
    "duration": 22,
    "start_time": "2022-07-17T14:51:36.736Z"
   },
   {
    "duration": 7,
    "start_time": "2022-07-17T14:51:36.760Z"
   },
   {
    "duration": 37,
    "start_time": "2022-07-17T14:51:36.769Z"
   },
   {
    "duration": 3,
    "start_time": "2022-07-17T14:51:36.808Z"
   },
   {
    "duration": 13,
    "start_time": "2022-07-17T14:51:36.813Z"
   },
   {
    "duration": 26,
    "start_time": "2022-07-17T14:51:36.828Z"
   },
   {
    "duration": 4,
    "start_time": "2022-07-17T14:51:36.856Z"
   },
   {
    "duration": 8,
    "start_time": "2022-07-17T14:51:36.861Z"
   },
   {
    "duration": 139,
    "start_time": "2022-07-17T14:51:36.870Z"
   },
   {
    "duration": 0,
    "start_time": "2022-07-17T14:51:37.012Z"
   },
   {
    "duration": 0,
    "start_time": "2022-07-17T14:51:37.014Z"
   },
   {
    "duration": 0,
    "start_time": "2022-07-17T14:51:37.016Z"
   },
   {
    "duration": 0,
    "start_time": "2022-07-17T14:51:37.017Z"
   },
   {
    "duration": 0,
    "start_time": "2022-07-17T14:51:37.019Z"
   },
   {
    "duration": 0,
    "start_time": "2022-07-17T14:51:37.020Z"
   },
   {
    "duration": 0,
    "start_time": "2022-07-17T14:51:37.021Z"
   },
   {
    "duration": 0,
    "start_time": "2022-07-17T14:51:37.022Z"
   },
   {
    "duration": 0,
    "start_time": "2022-07-17T14:51:37.023Z"
   },
   {
    "duration": 0,
    "start_time": "2022-07-17T14:51:37.024Z"
   },
   {
    "duration": 0,
    "start_time": "2022-07-17T14:51:37.025Z"
   },
   {
    "duration": 0,
    "start_time": "2022-07-17T14:51:37.026Z"
   },
   {
    "duration": 0,
    "start_time": "2022-07-17T14:51:37.027Z"
   },
   {
    "duration": 0,
    "start_time": "2022-07-17T14:51:37.028Z"
   },
   {
    "duration": 0,
    "start_time": "2022-07-17T14:51:37.030Z"
   },
   {
    "duration": 0,
    "start_time": "2022-07-17T14:51:37.031Z"
   },
   {
    "duration": 0,
    "start_time": "2022-07-17T14:51:37.032Z"
   },
   {
    "duration": 2511,
    "start_time": "2022-07-17T14:52:10.033Z"
   },
   {
    "duration": 3541,
    "start_time": "2022-07-17T14:52:12.546Z"
   },
   {
    "duration": 41,
    "start_time": "2022-07-17T14:52:16.089Z"
   },
   {
    "duration": 3,
    "start_time": "2022-07-17T14:52:16.133Z"
   },
   {
    "duration": 14,
    "start_time": "2022-07-17T14:52:16.137Z"
   },
   {
    "duration": 13,
    "start_time": "2022-07-17T14:52:16.152Z"
   },
   {
    "duration": 3,
    "start_time": "2022-07-17T14:52:16.167Z"
   },
   {
    "duration": 12,
    "start_time": "2022-07-17T14:52:16.171Z"
   },
   {
    "duration": 36,
    "start_time": "2022-07-17T14:52:16.185Z"
   },
   {
    "duration": 3952,
    "start_time": "2022-07-17T14:52:16.225Z"
   },
   {
    "duration": 3,
    "start_time": "2022-07-17T14:52:20.179Z"
   },
   {
    "duration": 20,
    "start_time": "2022-07-17T14:52:20.184Z"
   },
   {
    "duration": 37,
    "start_time": "2022-07-17T14:52:20.205Z"
   },
   {
    "duration": 12,
    "start_time": "2022-07-17T14:52:20.244Z"
   },
   {
    "duration": 34,
    "start_time": "2022-07-17T14:52:20.258Z"
   },
   {
    "duration": 34,
    "start_time": "2022-07-17T14:52:20.294Z"
   },
   {
    "duration": 31,
    "start_time": "2022-07-17T14:52:20.330Z"
   },
   {
    "duration": 48,
    "start_time": "2022-07-17T14:52:20.364Z"
   },
   {
    "duration": 10,
    "start_time": "2022-07-17T14:52:20.416Z"
   },
   {
    "duration": 11,
    "start_time": "2022-07-17T14:52:20.429Z"
   },
   {
    "duration": 14,
    "start_time": "2022-07-17T14:52:20.441Z"
   },
   {
    "duration": 8,
    "start_time": "2022-07-17T14:52:20.457Z"
   },
   {
    "duration": 23,
    "start_time": "2022-07-17T14:52:20.467Z"
   },
   {
    "duration": 4,
    "start_time": "2022-07-17T14:52:20.504Z"
   },
   {
    "duration": 26,
    "start_time": "2022-07-17T14:52:20.510Z"
   },
   {
    "duration": 15,
    "start_time": "2022-07-17T14:52:20.538Z"
   },
   {
    "duration": 57,
    "start_time": "2022-07-17T14:52:20.556Z"
   },
   {
    "duration": 4,
    "start_time": "2022-07-17T14:52:20.617Z"
   },
   {
    "duration": 110,
    "start_time": "2022-07-17T14:52:20.623Z"
   },
   {
    "duration": 7,
    "start_time": "2022-07-17T14:52:20.736Z"
   },
   {
    "duration": 59,
    "start_time": "2022-07-17T14:52:20.744Z"
   },
   {
    "duration": 116,
    "start_time": "2022-07-17T14:52:20.808Z"
   },
   {
    "duration": 20,
    "start_time": "2022-07-17T14:52:20.925Z"
   },
   {
    "duration": 18,
    "start_time": "2022-07-17T14:52:20.946Z"
   },
   {
    "duration": 8,
    "start_time": "2022-07-17T14:52:20.966Z"
   },
   {
    "duration": 13,
    "start_time": "2022-07-17T14:52:20.975Z"
   },
   {
    "duration": 9,
    "start_time": "2022-07-17T14:52:20.989Z"
   },
   {
    "duration": 16,
    "start_time": "2022-07-17T14:52:20.999Z"
   },
   {
    "duration": 18,
    "start_time": "2022-07-17T14:52:21.017Z"
   },
   {
    "duration": 65,
    "start_time": "2022-07-17T14:52:21.037Z"
   },
   {
    "duration": 102,
    "start_time": "2022-07-17T14:52:21.103Z"
   },
   {
    "duration": 106,
    "start_time": "2022-07-17T14:52:21.207Z"
   },
   {
    "duration": 12,
    "start_time": "2022-07-17T14:52:45.493Z"
   },
   {
    "duration": 2402,
    "start_time": "2022-07-17T14:53:09.454Z"
   },
   {
    "duration": 3705,
    "start_time": "2022-07-17T14:53:11.858Z"
   },
   {
    "duration": 63,
    "start_time": "2022-07-17T14:53:15.565Z"
   },
   {
    "duration": 7,
    "start_time": "2022-07-17T14:53:15.630Z"
   },
   {
    "duration": 16,
    "start_time": "2022-07-17T14:53:15.639Z"
   },
   {
    "duration": 12,
    "start_time": "2022-07-17T14:53:15.657Z"
   },
   {
    "duration": 4,
    "start_time": "2022-07-17T14:53:15.671Z"
   },
   {
    "duration": 12,
    "start_time": "2022-07-17T14:53:15.676Z"
   },
   {
    "duration": 35,
    "start_time": "2022-07-17T14:53:15.689Z"
   },
   {
    "duration": 3819,
    "start_time": "2022-07-17T14:53:15.725Z"
   },
   {
    "duration": 2,
    "start_time": "2022-07-17T14:53:19.546Z"
   },
   {
    "duration": 7,
    "start_time": "2022-07-17T14:53:19.550Z"
   },
   {
    "duration": 22,
    "start_time": "2022-07-17T14:53:19.559Z"
   },
   {
    "duration": 24,
    "start_time": "2022-07-17T14:53:19.586Z"
   },
   {
    "duration": 36,
    "start_time": "2022-07-17T14:53:19.613Z"
   },
   {
    "duration": 53,
    "start_time": "2022-07-17T14:53:19.651Z"
   },
   {
    "duration": 35,
    "start_time": "2022-07-17T14:53:19.706Z"
   },
   {
    "duration": 28,
    "start_time": "2022-07-17T14:53:19.745Z"
   },
   {
    "duration": 35,
    "start_time": "2022-07-17T14:53:19.775Z"
   },
   {
    "duration": 13,
    "start_time": "2022-07-17T14:53:19.812Z"
   },
   {
    "duration": 6,
    "start_time": "2022-07-17T14:53:19.827Z"
   },
   {
    "duration": 8,
    "start_time": "2022-07-17T14:53:19.834Z"
   },
   {
    "duration": 31,
    "start_time": "2022-07-17T14:53:19.843Z"
   },
   {
    "duration": 4,
    "start_time": "2022-07-17T14:53:19.876Z"
   },
   {
    "duration": 35,
    "start_time": "2022-07-17T14:53:19.881Z"
   },
   {
    "duration": 18,
    "start_time": "2022-07-17T14:53:19.919Z"
   },
   {
    "duration": 73,
    "start_time": "2022-07-17T14:53:19.939Z"
   },
   {
    "duration": 90,
    "start_time": "2022-07-17T14:53:20.014Z"
   },
   {
    "duration": 100,
    "start_time": "2022-07-17T14:53:20.108Z"
   },
   {
    "duration": 18,
    "start_time": "2022-07-17T14:53:20.211Z"
   },
   {
    "duration": 10,
    "start_time": "2022-07-17T14:53:20.231Z"
   },
   {
    "duration": 13,
    "start_time": "2022-07-17T14:53:20.242Z"
   },
   {
    "duration": 58,
    "start_time": "2022-07-17T14:53:20.257Z"
   },
   {
    "duration": 114,
    "start_time": "2022-07-17T14:53:20.317Z"
   },
   {
    "duration": 8,
    "start_time": "2022-07-17T14:53:20.432Z"
   },
   {
    "duration": 13,
    "start_time": "2022-07-17T14:53:20.441Z"
   },
   {
    "duration": 11,
    "start_time": "2022-07-17T14:53:20.456Z"
   },
   {
    "duration": 8,
    "start_time": "2022-07-17T14:53:20.469Z"
   },
   {
    "duration": 7,
    "start_time": "2022-07-17T14:53:20.478Z"
   },
   {
    "duration": 14,
    "start_time": "2022-07-17T14:53:20.486Z"
   },
   {
    "duration": 103,
    "start_time": "2022-07-17T14:53:20.504Z"
   },
   {
    "duration": 88,
    "start_time": "2022-07-17T14:53:20.614Z"
   },
   {
    "duration": 103,
    "start_time": "2022-07-17T14:53:20.704Z"
   },
   {
    "duration": 105,
    "start_time": "2022-07-17T15:12:11.760Z"
   },
   {
    "duration": 2249,
    "start_time": "2022-07-17T15:12:58.186Z"
   },
   {
    "duration": 3450,
    "start_time": "2022-07-17T15:13:00.437Z"
   },
   {
    "duration": 49,
    "start_time": "2022-07-17T15:13:03.889Z"
   },
   {
    "duration": 6,
    "start_time": "2022-07-17T15:13:03.941Z"
   },
   {
    "duration": 25,
    "start_time": "2022-07-17T15:13:03.949Z"
   },
   {
    "duration": 25,
    "start_time": "2022-07-17T15:13:03.976Z"
   },
   {
    "duration": 14,
    "start_time": "2022-07-17T15:13:04.003Z"
   },
   {
    "duration": 15,
    "start_time": "2022-07-17T15:13:04.019Z"
   },
   {
    "duration": 37,
    "start_time": "2022-07-17T15:13:04.036Z"
   },
   {
    "duration": 3614,
    "start_time": "2022-07-17T15:13:04.076Z"
   },
   {
    "duration": 3,
    "start_time": "2022-07-17T15:13:07.691Z"
   },
   {
    "duration": 7,
    "start_time": "2022-07-17T15:13:07.700Z"
   },
   {
    "duration": 19,
    "start_time": "2022-07-17T15:13:07.708Z"
   },
   {
    "duration": 10,
    "start_time": "2022-07-17T15:13:07.728Z"
   },
   {
    "duration": 22,
    "start_time": "2022-07-17T15:13:07.739Z"
   },
   {
    "duration": 51,
    "start_time": "2022-07-17T15:13:07.763Z"
   },
   {
    "duration": 22,
    "start_time": "2022-07-17T15:13:07.816Z"
   },
   {
    "duration": 21,
    "start_time": "2022-07-17T15:13:07.839Z"
   },
   {
    "duration": 39,
    "start_time": "2022-07-17T15:13:07.862Z"
   },
   {
    "duration": 4,
    "start_time": "2022-07-17T15:13:07.903Z"
   },
   {
    "duration": 5,
    "start_time": "2022-07-17T15:13:07.909Z"
   },
   {
    "duration": 6,
    "start_time": "2022-07-17T15:13:07.915Z"
   },
   {
    "duration": 32,
    "start_time": "2022-07-17T15:13:07.924Z"
   },
   {
    "duration": 5,
    "start_time": "2022-07-17T15:13:07.958Z"
   },
   {
    "duration": 41,
    "start_time": "2022-07-17T15:13:07.965Z"
   },
   {
    "duration": 20,
    "start_time": "2022-07-17T15:13:08.008Z"
   },
   {
    "duration": 80,
    "start_time": "2022-07-17T15:13:08.030Z"
   },
   {
    "duration": 275,
    "start_time": "2022-07-17T15:13:08.113Z"
   },
   {
    "duration": 0,
    "start_time": "2022-07-17T15:13:08.400Z"
   },
   {
    "duration": 0,
    "start_time": "2022-07-17T15:13:08.402Z"
   },
   {
    "duration": 0,
    "start_time": "2022-07-17T15:13:08.403Z"
   },
   {
    "duration": 0,
    "start_time": "2022-07-17T15:13:08.404Z"
   },
   {
    "duration": 0,
    "start_time": "2022-07-17T15:13:08.405Z"
   },
   {
    "duration": 0,
    "start_time": "2022-07-17T15:13:08.407Z"
   },
   {
    "duration": 0,
    "start_time": "2022-07-17T15:13:08.408Z"
   },
   {
    "duration": 0,
    "start_time": "2022-07-17T15:13:08.409Z"
   },
   {
    "duration": 0,
    "start_time": "2022-07-17T15:13:08.410Z"
   },
   {
    "duration": 0,
    "start_time": "2022-07-17T15:13:08.411Z"
   },
   {
    "duration": 0,
    "start_time": "2022-07-17T15:13:08.413Z"
   },
   {
    "duration": 0,
    "start_time": "2022-07-17T15:13:08.414Z"
   },
   {
    "duration": 0,
    "start_time": "2022-07-17T15:13:08.415Z"
   },
   {
    "duration": 0,
    "start_time": "2022-07-17T15:13:08.416Z"
   },
   {
    "duration": 0,
    "start_time": "2022-07-17T15:13:08.417Z"
   },
   {
    "duration": 0,
    "start_time": "2022-07-17T15:13:08.418Z"
   },
   {
    "duration": 74,
    "start_time": "2022-07-17T15:14:05.865Z"
   },
   {
    "duration": 73,
    "start_time": "2022-07-17T15:14:25.354Z"
   },
   {
    "duration": 8,
    "start_time": "2022-07-17T15:15:58.498Z"
   },
   {
    "duration": 51,
    "start_time": "2022-07-17T15:16:04.924Z"
   },
   {
    "duration": 5,
    "start_time": "2022-07-17T15:16:07.716Z"
   },
   {
    "duration": 2472,
    "start_time": "2022-07-17T15:16:24.545Z"
   },
   {
    "duration": 3349,
    "start_time": "2022-07-17T15:16:27.019Z"
   },
   {
    "duration": 46,
    "start_time": "2022-07-17T15:16:30.370Z"
   },
   {
    "duration": 4,
    "start_time": "2022-07-17T15:16:30.418Z"
   },
   {
    "duration": 29,
    "start_time": "2022-07-17T15:16:30.424Z"
   },
   {
    "duration": 22,
    "start_time": "2022-07-17T15:16:30.454Z"
   },
   {
    "duration": 40,
    "start_time": "2022-07-17T15:16:30.478Z"
   },
   {
    "duration": 16,
    "start_time": "2022-07-17T15:16:30.519Z"
   },
   {
    "duration": 35,
    "start_time": "2022-07-17T15:16:30.537Z"
   },
   {
    "duration": 3689,
    "start_time": "2022-07-17T15:16:30.574Z"
   },
   {
    "duration": 4,
    "start_time": "2022-07-17T15:16:34.265Z"
   },
   {
    "duration": 7,
    "start_time": "2022-07-17T15:16:34.271Z"
   },
   {
    "duration": 32,
    "start_time": "2022-07-17T15:16:34.280Z"
   },
   {
    "duration": 10,
    "start_time": "2022-07-17T15:16:34.320Z"
   },
   {
    "duration": 26,
    "start_time": "2022-07-17T15:16:34.331Z"
   },
   {
    "duration": 23,
    "start_time": "2022-07-17T15:16:34.359Z"
   },
   {
    "duration": 27,
    "start_time": "2022-07-17T15:16:34.402Z"
   },
   {
    "duration": 22,
    "start_time": "2022-07-17T15:16:34.431Z"
   },
   {
    "duration": 6,
    "start_time": "2022-07-17T15:16:34.455Z"
   },
   {
    "duration": 9,
    "start_time": "2022-07-17T15:16:34.462Z"
   },
   {
    "duration": 33,
    "start_time": "2022-07-17T15:16:34.473Z"
   },
   {
    "duration": 4,
    "start_time": "2022-07-17T15:16:34.511Z"
   },
   {
    "duration": 31,
    "start_time": "2022-07-17T15:16:34.516Z"
   },
   {
    "duration": 5,
    "start_time": "2022-07-17T15:16:34.548Z"
   },
   {
    "duration": 7,
    "start_time": "2022-07-17T15:16:34.555Z"
   },
   {
    "duration": 40,
    "start_time": "2022-07-17T15:16:34.564Z"
   },
   {
    "duration": 99,
    "start_time": "2022-07-17T15:16:34.613Z"
   },
   {
    "duration": 82,
    "start_time": "2022-07-17T15:16:34.722Z"
   },
   {
    "duration": 207,
    "start_time": "2022-07-17T15:16:34.814Z"
   },
   {
    "duration": 1,
    "start_time": "2022-07-17T15:16:35.023Z"
   },
   {
    "duration": 0,
    "start_time": "2022-07-17T15:16:35.025Z"
   },
   {
    "duration": 0,
    "start_time": "2022-07-17T15:16:35.027Z"
   },
   {
    "duration": 0,
    "start_time": "2022-07-17T15:16:35.028Z"
   },
   {
    "duration": 0,
    "start_time": "2022-07-17T15:16:35.030Z"
   },
   {
    "duration": 0,
    "start_time": "2022-07-17T15:16:35.031Z"
   },
   {
    "duration": 0,
    "start_time": "2022-07-17T15:16:35.032Z"
   },
   {
    "duration": 0,
    "start_time": "2022-07-17T15:16:35.033Z"
   },
   {
    "duration": 0,
    "start_time": "2022-07-17T15:16:35.034Z"
   },
   {
    "duration": 0,
    "start_time": "2022-07-17T15:16:35.035Z"
   },
   {
    "duration": 0,
    "start_time": "2022-07-17T15:16:35.037Z"
   },
   {
    "duration": 0,
    "start_time": "2022-07-17T15:16:35.038Z"
   },
   {
    "duration": 0,
    "start_time": "2022-07-17T15:16:35.039Z"
   },
   {
    "duration": 0,
    "start_time": "2022-07-17T15:16:35.041Z"
   },
   {
    "duration": 0,
    "start_time": "2022-07-17T15:16:35.042Z"
   },
   {
    "duration": 0,
    "start_time": "2022-07-17T15:16:35.043Z"
   },
   {
    "duration": 2392,
    "start_time": "2022-07-17T15:17:38.969Z"
   },
   {
    "duration": 3369,
    "start_time": "2022-07-17T15:17:41.363Z"
   },
   {
    "duration": 38,
    "start_time": "2022-07-17T15:17:44.733Z"
   },
   {
    "duration": 4,
    "start_time": "2022-07-17T15:17:44.772Z"
   },
   {
    "duration": 14,
    "start_time": "2022-07-17T15:17:44.778Z"
   },
   {
    "duration": 16,
    "start_time": "2022-07-17T15:17:44.794Z"
   },
   {
    "duration": 11,
    "start_time": "2022-07-17T15:17:44.812Z"
   },
   {
    "duration": 15,
    "start_time": "2022-07-17T15:17:44.824Z"
   },
   {
    "duration": 24,
    "start_time": "2022-07-17T15:17:44.840Z"
   },
   {
    "duration": 3713,
    "start_time": "2022-07-17T15:17:44.866Z"
   },
   {
    "duration": 2,
    "start_time": "2022-07-17T15:17:48.582Z"
   },
   {
    "duration": 10,
    "start_time": "2022-07-17T15:17:48.585Z"
   },
   {
    "duration": 17,
    "start_time": "2022-07-17T15:17:48.600Z"
   },
   {
    "duration": 16,
    "start_time": "2022-07-17T15:17:48.619Z"
   },
   {
    "duration": 26,
    "start_time": "2022-07-17T15:17:48.636Z"
   },
   {
    "duration": 40,
    "start_time": "2022-07-17T15:17:48.664Z"
   },
   {
    "duration": 28,
    "start_time": "2022-07-17T15:17:48.706Z"
   },
   {
    "duration": 23,
    "start_time": "2022-07-17T15:17:48.736Z"
   },
   {
    "duration": 9,
    "start_time": "2022-07-17T15:17:48.761Z"
   },
   {
    "duration": 30,
    "start_time": "2022-07-17T15:17:48.772Z"
   },
   {
    "duration": 13,
    "start_time": "2022-07-17T15:17:48.807Z"
   },
   {
    "duration": 9,
    "start_time": "2022-07-17T15:17:48.821Z"
   },
   {
    "duration": 28,
    "start_time": "2022-07-17T15:17:48.832Z"
   },
   {
    "duration": 5,
    "start_time": "2022-07-17T15:17:48.862Z"
   },
   {
    "duration": 7,
    "start_time": "2022-07-17T15:17:48.869Z"
   },
   {
    "duration": 33,
    "start_time": "2022-07-17T15:17:48.878Z"
   },
   {
    "duration": 93,
    "start_time": "2022-07-17T15:17:48.915Z"
   },
   {
    "duration": 96,
    "start_time": "2022-07-17T15:17:49.010Z"
   },
   {
    "duration": 91,
    "start_time": "2022-07-17T15:17:49.111Z"
   },
   {
    "duration": 27,
    "start_time": "2022-07-17T15:17:49.203Z"
   },
   {
    "duration": 19,
    "start_time": "2022-07-17T15:17:49.232Z"
   },
   {
    "duration": 10,
    "start_time": "2022-07-17T15:17:49.253Z"
   },
   {
    "duration": 67,
    "start_time": "2022-07-17T15:17:49.264Z"
   },
   {
    "duration": 23,
    "start_time": "2022-07-17T15:17:49.402Z"
   },
   {
    "duration": 10,
    "start_time": "2022-07-17T15:17:49.426Z"
   },
   {
    "duration": 11,
    "start_time": "2022-07-17T15:17:49.437Z"
   },
   {
    "duration": 9,
    "start_time": "2022-07-17T15:17:49.450Z"
   },
   {
    "duration": 6,
    "start_time": "2022-07-17T15:17:49.461Z"
   },
   {
    "duration": 19,
    "start_time": "2022-07-17T15:17:49.469Z"
   },
   {
    "duration": 12,
    "start_time": "2022-07-17T15:17:49.490Z"
   },
   {
    "duration": 97,
    "start_time": "2022-07-17T15:17:49.505Z"
   },
   {
    "duration": 100,
    "start_time": "2022-07-17T15:17:49.604Z"
   },
   {
    "duration": 13,
    "start_time": "2022-07-17T15:17:49.706Z"
   },
   {
    "duration": 29,
    "start_time": "2022-07-17T15:24:14.900Z"
   },
   {
    "duration": 24,
    "start_time": "2022-07-17T15:24:27.037Z"
   },
   {
    "duration": 2577,
    "start_time": "2022-07-17T15:24:53.072Z"
   },
   {
    "duration": 3317,
    "start_time": "2022-07-17T15:24:55.652Z"
   },
   {
    "duration": 41,
    "start_time": "2022-07-17T15:24:58.971Z"
   },
   {
    "duration": 4,
    "start_time": "2022-07-17T15:24:59.014Z"
   },
   {
    "duration": 18,
    "start_time": "2022-07-17T15:24:59.019Z"
   },
   {
    "duration": 11,
    "start_time": "2022-07-17T15:24:59.039Z"
   },
   {
    "duration": 2,
    "start_time": "2022-07-17T15:24:59.052Z"
   },
   {
    "duration": 11,
    "start_time": "2022-07-17T15:24:59.056Z"
   },
   {
    "duration": 36,
    "start_time": "2022-07-17T15:24:59.068Z"
   },
   {
    "duration": 3800,
    "start_time": "2022-07-17T15:24:59.106Z"
   },
   {
    "duration": 9,
    "start_time": "2022-07-17T15:25:02.912Z"
   },
   {
    "duration": 48,
    "start_time": "2022-07-17T15:25:02.928Z"
   },
   {
    "duration": 71,
    "start_time": "2022-07-17T15:25:02.978Z"
   },
   {
    "duration": 17,
    "start_time": "2022-07-17T15:25:03.051Z"
   },
   {
    "duration": 57,
    "start_time": "2022-07-17T15:25:03.070Z"
   },
   {
    "duration": 36,
    "start_time": "2022-07-17T15:25:03.128Z"
   },
   {
    "duration": 28,
    "start_time": "2022-07-17T15:25:03.166Z"
   },
   {
    "duration": 69,
    "start_time": "2022-07-17T15:25:03.195Z"
   },
   {
    "duration": 12,
    "start_time": "2022-07-17T15:25:03.266Z"
   },
   {
    "duration": 50,
    "start_time": "2022-07-17T15:25:03.280Z"
   },
   {
    "duration": 31,
    "start_time": "2022-07-17T15:25:03.331Z"
   },
   {
    "duration": 30,
    "start_time": "2022-07-17T15:25:03.364Z"
   },
   {
    "duration": 73,
    "start_time": "2022-07-17T15:25:03.396Z"
   },
   {
    "duration": 19,
    "start_time": "2022-07-17T15:25:03.471Z"
   },
   {
    "duration": 80,
    "start_time": "2022-07-17T15:25:03.491Z"
   },
   {
    "duration": 27,
    "start_time": "2022-07-17T15:25:03.573Z"
   },
   {
    "duration": 106,
    "start_time": "2022-07-17T15:25:03.602Z"
   },
   {
    "duration": 85,
    "start_time": "2022-07-17T15:25:03.716Z"
   },
   {
    "duration": 56,
    "start_time": "2022-07-17T15:25:03.803Z"
   },
   {
    "duration": 36,
    "start_time": "2022-07-17T15:25:03.861Z"
   },
   {
    "duration": 63,
    "start_time": "2022-07-17T15:25:03.899Z"
   },
   {
    "duration": 40,
    "start_time": "2022-07-17T15:25:03.964Z"
   },
   {
    "duration": 153,
    "start_time": "2022-07-17T15:25:04.009Z"
   },
   {
    "duration": 63,
    "start_time": "2022-07-17T15:25:04.164Z"
   },
   {
    "duration": 40,
    "start_time": "2022-07-17T15:25:04.229Z"
   },
   {
    "duration": 65,
    "start_time": "2022-07-17T15:25:04.271Z"
   },
   {
    "duration": 20,
    "start_time": "2022-07-17T15:25:04.338Z"
   },
   {
    "duration": 41,
    "start_time": "2022-07-17T15:25:04.360Z"
   },
   {
    "duration": 40,
    "start_time": "2022-07-17T15:25:04.404Z"
   },
   {
    "duration": 32,
    "start_time": "2022-07-17T15:25:04.446Z"
   },
   {
    "duration": 50,
    "start_time": "2022-07-17T15:25:04.479Z"
   },
   {
    "duration": 103,
    "start_time": "2022-07-17T15:25:04.531Z"
   },
   {
    "duration": 194,
    "start_time": "2022-07-17T15:25:04.636Z"
   },
   {
    "duration": 5,
    "start_time": "2022-07-17T15:31:04.971Z"
   },
   {
    "duration": 3,
    "start_time": "2022-07-17T15:31:07.191Z"
   },
   {
    "duration": 5,
    "start_time": "2022-07-17T15:31:42.679Z"
   },
   {
    "duration": 107,
    "start_time": "2022-07-17T15:36:08.535Z"
   },
   {
    "duration": 4,
    "start_time": "2022-07-17T15:36:42.183Z"
   },
   {
    "duration": 48,
    "start_time": "2022-07-17T15:36:51.876Z"
   },
   {
    "duration": 61,
    "start_time": "2022-07-17T15:52:06.134Z"
   },
   {
    "duration": 17,
    "start_time": "2022-07-17T16:04:00.099Z"
   },
   {
    "duration": 11,
    "start_time": "2022-07-17T16:04:02.696Z"
   },
   {
    "duration": 9,
    "start_time": "2022-07-17T16:04:24.184Z"
   },
   {
    "duration": 12,
    "start_time": "2022-07-17T16:04:44.639Z"
   },
   {
    "duration": 22,
    "start_time": "2022-07-17T16:05:01.590Z"
   },
   {
    "duration": 4,
    "start_time": "2022-07-17T16:14:53.283Z"
   },
   {
    "duration": 7,
    "start_time": "2022-07-17T16:15:06.374Z"
   },
   {
    "duration": 8,
    "start_time": "2022-07-17T16:15:19.285Z"
   },
   {
    "duration": 7,
    "start_time": "2022-07-17T16:15:36.732Z"
   },
   {
    "duration": 2491,
    "start_time": "2022-07-17T16:34:07.466Z"
   },
   {
    "duration": 3220,
    "start_time": "2022-07-17T16:34:09.959Z"
   },
   {
    "duration": 37,
    "start_time": "2022-07-17T16:34:13.181Z"
   },
   {
    "duration": 3,
    "start_time": "2022-07-17T16:34:13.219Z"
   },
   {
    "duration": 13,
    "start_time": "2022-07-17T16:34:13.225Z"
   },
   {
    "duration": 14,
    "start_time": "2022-07-17T16:34:13.240Z"
   },
   {
    "duration": 6,
    "start_time": "2022-07-17T16:34:13.255Z"
   },
   {
    "duration": 32,
    "start_time": "2022-07-17T16:34:13.262Z"
   },
   {
    "duration": 45,
    "start_time": "2022-07-17T16:34:13.296Z"
   },
   {
    "duration": 3511,
    "start_time": "2022-07-17T16:34:13.343Z"
   },
   {
    "duration": 3,
    "start_time": "2022-07-17T16:34:16.856Z"
   },
   {
    "duration": 74,
    "start_time": "2022-07-17T16:34:16.860Z"
   },
   {
    "duration": 13,
    "start_time": "2022-07-17T16:34:16.936Z"
   },
   {
    "duration": 9,
    "start_time": "2022-07-17T16:34:16.952Z"
   },
   {
    "duration": 26,
    "start_time": "2022-07-17T16:34:16.962Z"
   },
   {
    "duration": 22,
    "start_time": "2022-07-17T16:34:16.989Z"
   },
   {
    "duration": 26,
    "start_time": "2022-07-17T16:34:17.013Z"
   },
   {
    "duration": 24,
    "start_time": "2022-07-17T16:34:17.040Z"
   },
   {
    "duration": 7,
    "start_time": "2022-07-17T16:34:17.066Z"
   },
   {
    "duration": 31,
    "start_time": "2022-07-17T16:34:17.075Z"
   },
   {
    "duration": 8,
    "start_time": "2022-07-17T16:34:17.108Z"
   },
   {
    "duration": 6,
    "start_time": "2022-07-17T16:34:17.118Z"
   },
   {
    "duration": 36,
    "start_time": "2022-07-17T16:34:17.126Z"
   },
   {
    "duration": 4,
    "start_time": "2022-07-17T16:34:17.163Z"
   },
   {
    "duration": 24,
    "start_time": "2022-07-17T16:34:17.168Z"
   },
   {
    "duration": 15,
    "start_time": "2022-07-17T16:34:17.193Z"
   },
   {
    "duration": 8,
    "start_time": "2022-07-17T16:34:17.209Z"
   },
   {
    "duration": 82,
    "start_time": "2022-07-17T16:34:17.219Z"
   },
   {
    "duration": 9,
    "start_time": "2022-07-17T16:34:17.303Z"
   },
   {
    "duration": 94,
    "start_time": "2022-07-17T16:34:17.313Z"
   },
   {
    "duration": 7,
    "start_time": "2022-07-17T16:34:17.408Z"
   },
   {
    "duration": 15,
    "start_time": "2022-07-17T16:34:17.417Z"
   },
   {
    "duration": 11,
    "start_time": "2022-07-17T16:34:17.500Z"
   },
   {
    "duration": 91,
    "start_time": "2022-07-17T16:34:17.513Z"
   },
   {
    "duration": 11,
    "start_time": "2022-07-17T16:34:17.605Z"
   },
   {
    "duration": 6,
    "start_time": "2022-07-17T16:34:17.618Z"
   },
   {
    "duration": 12,
    "start_time": "2022-07-17T16:34:17.626Z"
   },
   {
    "duration": 16,
    "start_time": "2022-07-17T16:34:17.639Z"
   },
   {
    "duration": 13,
    "start_time": "2022-07-17T16:34:17.657Z"
   },
   {
    "duration": 15,
    "start_time": "2022-07-17T16:34:17.671Z"
   },
   {
    "duration": 8,
    "start_time": "2022-07-17T16:34:17.689Z"
   },
   {
    "duration": 6,
    "start_time": "2022-07-17T16:34:17.699Z"
   },
   {
    "duration": 10,
    "start_time": "2022-07-17T16:34:17.707Z"
   },
   {
    "duration": 13,
    "start_time": "2022-07-17T16:34:17.718Z"
   },
   {
    "duration": 72,
    "start_time": "2022-07-17T16:34:17.732Z"
   },
   {
    "duration": 98,
    "start_time": "2022-07-17T16:34:17.805Z"
   },
   {
    "duration": 3,
    "start_time": "2022-07-17T16:36:50.610Z"
   },
   {
    "duration": 112,
    "start_time": "2022-07-17T16:37:00.670Z"
   },
   {
    "duration": 8,
    "start_time": "2022-07-17T16:37:11.040Z"
   },
   {
    "duration": 5,
    "start_time": "2022-07-17T16:37:20.973Z"
   },
   {
    "duration": 11,
    "start_time": "2022-07-17T16:37:30.990Z"
   },
   {
    "duration": 453,
    "start_time": "2022-07-17T16:37:38.675Z"
   },
   {
    "duration": 8,
    "start_time": "2022-07-17T16:38:10.130Z"
   },
   {
    "duration": 382,
    "start_time": "2022-07-17T16:38:20.380Z"
   },
   {
    "duration": 2434,
    "start_time": "2022-07-17T16:38:37.881Z"
   },
   {
    "duration": 3261,
    "start_time": "2022-07-17T16:38:40.317Z"
   },
   {
    "duration": 38,
    "start_time": "2022-07-17T16:38:43.580Z"
   },
   {
    "duration": 3,
    "start_time": "2022-07-17T16:38:43.620Z"
   },
   {
    "duration": 13,
    "start_time": "2022-07-17T16:38:43.625Z"
   },
   {
    "duration": 16,
    "start_time": "2022-07-17T16:38:43.640Z"
   },
   {
    "duration": 3,
    "start_time": "2022-07-17T16:38:43.657Z"
   },
   {
    "duration": 13,
    "start_time": "2022-07-17T16:38:43.662Z"
   },
   {
    "duration": 38,
    "start_time": "2022-07-17T16:38:43.677Z"
   },
   {
    "duration": 3499,
    "start_time": "2022-07-17T16:38:43.717Z"
   },
   {
    "duration": 3,
    "start_time": "2022-07-17T16:38:47.218Z"
   },
   {
    "duration": 7,
    "start_time": "2022-07-17T16:38:47.223Z"
   },
   {
    "duration": 16,
    "start_time": "2022-07-17T16:38:47.232Z"
   },
   {
    "duration": 10,
    "start_time": "2022-07-17T16:38:47.251Z"
   },
   {
    "duration": 40,
    "start_time": "2022-07-17T16:38:47.262Z"
   },
   {
    "duration": 22,
    "start_time": "2022-07-17T16:38:47.303Z"
   },
   {
    "duration": 26,
    "start_time": "2022-07-17T16:38:47.327Z"
   },
   {
    "duration": 21,
    "start_time": "2022-07-17T16:38:47.355Z"
   },
   {
    "duration": 27,
    "start_time": "2022-07-17T16:38:47.378Z"
   },
   {
    "duration": 6,
    "start_time": "2022-07-17T16:38:47.407Z"
   },
   {
    "duration": 4,
    "start_time": "2022-07-17T16:38:47.415Z"
   },
   {
    "duration": 6,
    "start_time": "2022-07-17T16:38:47.420Z"
   },
   {
    "duration": 26,
    "start_time": "2022-07-17T16:38:47.427Z"
   },
   {
    "duration": 3,
    "start_time": "2022-07-17T16:38:47.454Z"
   },
   {
    "duration": 20,
    "start_time": "2022-07-17T16:38:47.459Z"
   },
   {
    "duration": 21,
    "start_time": "2022-07-17T16:38:47.480Z"
   },
   {
    "duration": 478,
    "start_time": "2022-07-17T16:38:47.502Z"
   },
   {
    "duration": 20,
    "start_time": "2022-07-17T16:38:47.981Z"
   },
   {
    "duration": 389,
    "start_time": "2022-07-17T16:38:48.003Z"
   },
   {
    "duration": 9,
    "start_time": "2022-07-17T16:38:48.394Z"
   },
   {
    "duration": 16,
    "start_time": "2022-07-17T16:38:48.404Z"
   },
   {
    "duration": 26,
    "start_time": "2022-07-17T16:38:48.422Z"
   },
   {
    "duration": 56,
    "start_time": "2022-07-17T16:38:48.450Z"
   },
   {
    "duration": 4,
    "start_time": "2022-07-17T16:38:48.508Z"
   },
   {
    "duration": 24,
    "start_time": "2022-07-17T16:38:48.513Z"
   },
   {
    "duration": 6,
    "start_time": "2022-07-17T16:38:48.603Z"
   },
   {
    "duration": 93,
    "start_time": "2022-07-17T16:38:48.610Z"
   },
   {
    "duration": 15,
    "start_time": "2022-07-17T16:38:48.705Z"
   },
   {
    "duration": 92,
    "start_time": "2022-07-17T16:38:48.721Z"
   },
   {
    "duration": 86,
    "start_time": "2022-07-17T16:38:48.815Z"
   },
   {
    "duration": 5,
    "start_time": "2022-07-17T16:38:48.905Z"
   },
   {
    "duration": 19,
    "start_time": "2022-07-17T16:38:48.912Z"
   },
   {
    "duration": 21,
    "start_time": "2022-07-17T16:38:48.932Z"
   },
   {
    "duration": 23,
    "start_time": "2022-07-17T16:38:48.955Z"
   },
   {
    "duration": 18,
    "start_time": "2022-07-17T16:38:48.980Z"
   },
   {
    "duration": 25,
    "start_time": "2022-07-17T16:38:49.000Z"
   },
   {
    "duration": 17,
    "start_time": "2022-07-17T16:38:49.027Z"
   },
   {
    "duration": 40,
    "start_time": "2022-07-17T16:38:49.045Z"
   },
   {
    "duration": 48,
    "start_time": "2022-07-17T16:38:49.087Z"
   },
   {
    "duration": 7,
    "start_time": "2022-07-17T16:38:49.138Z"
   },
   {
    "duration": 60,
    "start_time": "2022-07-17T16:38:49.146Z"
   },
   {
    "duration": 94,
    "start_time": "2022-07-17T16:38:49.208Z"
   },
   {
    "duration": 2298,
    "start_time": "2022-07-17T16:39:49.458Z"
   },
   {
    "duration": 3258,
    "start_time": "2022-07-17T16:39:51.758Z"
   },
   {
    "duration": 39,
    "start_time": "2022-07-17T16:39:55.018Z"
   },
   {
    "duration": 3,
    "start_time": "2022-07-17T16:39:55.059Z"
   },
   {
    "duration": 21,
    "start_time": "2022-07-17T16:39:55.064Z"
   },
   {
    "duration": 15,
    "start_time": "2022-07-17T16:39:55.087Z"
   },
   {
    "duration": 4,
    "start_time": "2022-07-17T16:39:55.104Z"
   },
   {
    "duration": 14,
    "start_time": "2022-07-17T16:39:55.110Z"
   },
   {
    "duration": 23,
    "start_time": "2022-07-17T16:39:55.126Z"
   },
   {
    "duration": 3469,
    "start_time": "2022-07-17T16:39:55.151Z"
   },
   {
    "duration": 3,
    "start_time": "2022-07-17T16:39:58.621Z"
   },
   {
    "duration": 10,
    "start_time": "2022-07-17T16:39:58.625Z"
   },
   {
    "duration": 13,
    "start_time": "2022-07-17T16:39:58.636Z"
   },
   {
    "duration": 10,
    "start_time": "2022-07-17T16:39:58.651Z"
   },
   {
    "duration": 22,
    "start_time": "2022-07-17T16:39:58.663Z"
   },
   {
    "duration": 23,
    "start_time": "2022-07-17T16:39:58.701Z"
   },
   {
    "duration": 23,
    "start_time": "2022-07-17T16:39:58.726Z"
   },
   {
    "duration": 52,
    "start_time": "2022-07-17T16:39:58.751Z"
   },
   {
    "duration": 7,
    "start_time": "2022-07-17T16:39:58.805Z"
   },
   {
    "duration": 9,
    "start_time": "2022-07-17T16:39:58.814Z"
   },
   {
    "duration": 7,
    "start_time": "2022-07-17T16:39:58.825Z"
   },
   {
    "duration": 12,
    "start_time": "2022-07-17T16:39:58.833Z"
   },
   {
    "duration": 27,
    "start_time": "2022-07-17T16:39:58.847Z"
   },
   {
    "duration": 4,
    "start_time": "2022-07-17T16:39:58.875Z"
   },
   {
    "duration": 8,
    "start_time": "2022-07-17T16:39:58.901Z"
   },
   {
    "duration": 7,
    "start_time": "2022-07-17T16:39:58.910Z"
   },
   {
    "duration": 469,
    "start_time": "2022-07-17T16:39:58.918Z"
   },
   {
    "duration": 17,
    "start_time": "2022-07-17T16:39:59.388Z"
   },
   {
    "duration": 454,
    "start_time": "2022-07-17T16:39:59.406Z"
   },
   {
    "duration": 4,
    "start_time": "2022-07-17T16:39:59.861Z"
   },
   {
    "duration": 8,
    "start_time": "2022-07-17T16:39:59.866Z"
   },
   {
    "duration": 27,
    "start_time": "2022-07-17T16:39:59.876Z"
   },
   {
    "duration": 8,
    "start_time": "2022-07-17T16:39:59.905Z"
   },
   {
    "duration": 88,
    "start_time": "2022-07-17T16:39:59.915Z"
   },
   {
    "duration": 6,
    "start_time": "2022-07-17T16:40:00.005Z"
   },
   {
    "duration": 91,
    "start_time": "2022-07-17T16:40:00.012Z"
   },
   {
    "duration": 4,
    "start_time": "2022-07-17T16:40:00.105Z"
   },
   {
    "duration": 9,
    "start_time": "2022-07-17T16:40:00.111Z"
   },
   {
    "duration": 83,
    "start_time": "2022-07-17T16:40:00.121Z"
   },
   {
    "duration": 10,
    "start_time": "2022-07-17T16:40:00.206Z"
   },
   {
    "duration": 84,
    "start_time": "2022-07-17T16:40:00.220Z"
   },
   {
    "duration": 6,
    "start_time": "2022-07-17T16:40:00.306Z"
   },
   {
    "duration": 15,
    "start_time": "2022-07-17T16:40:00.313Z"
   },
   {
    "duration": 10,
    "start_time": "2022-07-17T16:40:00.330Z"
   },
   {
    "duration": 10,
    "start_time": "2022-07-17T16:40:00.342Z"
   },
   {
    "duration": 7,
    "start_time": "2022-07-17T16:40:00.354Z"
   },
   {
    "duration": 9,
    "start_time": "2022-07-17T16:40:00.363Z"
   },
   {
    "duration": 8,
    "start_time": "2022-07-17T16:40:00.373Z"
   },
   {
    "duration": 20,
    "start_time": "2022-07-17T16:40:00.383Z"
   },
   {
    "duration": 97,
    "start_time": "2022-07-17T16:40:00.405Z"
   },
   {
    "duration": 14,
    "start_time": "2022-07-17T16:40:00.504Z"
   },
   {
    "duration": 105,
    "start_time": "2022-07-17T16:40:00.601Z"
   },
   {
    "duration": 2368,
    "start_time": "2022-07-17T16:50:29.697Z"
   },
   {
    "duration": 3267,
    "start_time": "2022-07-17T16:50:32.068Z"
   },
   {
    "duration": 51,
    "start_time": "2022-07-17T16:50:35.337Z"
   },
   {
    "duration": 5,
    "start_time": "2022-07-17T16:50:35.390Z"
   },
   {
    "duration": 23,
    "start_time": "2022-07-17T16:50:35.397Z"
   },
   {
    "duration": 31,
    "start_time": "2022-07-17T16:50:35.422Z"
   },
   {
    "duration": 29,
    "start_time": "2022-07-17T16:50:35.455Z"
   },
   {
    "duration": 37,
    "start_time": "2022-07-17T16:50:35.486Z"
   },
   {
    "duration": 21,
    "start_time": "2022-07-17T16:50:35.524Z"
   },
   {
    "duration": 3562,
    "start_time": "2022-07-17T16:50:35.547Z"
   },
   {
    "duration": 3,
    "start_time": "2022-07-17T16:50:39.111Z"
   },
   {
    "duration": 9,
    "start_time": "2022-07-17T16:50:39.115Z"
   },
   {
    "duration": 16,
    "start_time": "2022-07-17T16:50:39.125Z"
   },
   {
    "duration": 14,
    "start_time": "2022-07-17T16:50:39.151Z"
   },
   {
    "duration": 46,
    "start_time": "2022-07-17T16:50:39.167Z"
   },
   {
    "duration": 24,
    "start_time": "2022-07-17T16:50:39.216Z"
   },
   {
    "duration": 25,
    "start_time": "2022-07-17T16:50:39.241Z"
   },
   {
    "duration": 53,
    "start_time": "2022-07-17T16:50:39.268Z"
   },
   {
    "duration": 8,
    "start_time": "2022-07-17T16:50:39.324Z"
   },
   {
    "duration": 7,
    "start_time": "2022-07-17T16:50:39.334Z"
   },
   {
    "duration": 8,
    "start_time": "2022-07-17T16:50:39.343Z"
   },
   {
    "duration": 9,
    "start_time": "2022-07-17T16:50:39.352Z"
   },
   {
    "duration": 48,
    "start_time": "2022-07-17T16:50:39.362Z"
   },
   {
    "duration": 4,
    "start_time": "2022-07-17T16:50:39.411Z"
   },
   {
    "duration": 20,
    "start_time": "2022-07-17T16:50:39.416Z"
   },
   {
    "duration": 5,
    "start_time": "2022-07-17T16:50:39.438Z"
   },
   {
    "duration": 497,
    "start_time": "2022-07-17T16:50:39.445Z"
   },
   {
    "duration": 8,
    "start_time": "2022-07-17T16:50:39.944Z"
   },
   {
    "duration": 422,
    "start_time": "2022-07-17T16:50:39.954Z"
   },
   {
    "duration": 3,
    "start_time": "2022-07-17T16:50:40.378Z"
   },
   {
    "duration": 18,
    "start_time": "2022-07-17T16:50:40.383Z"
   },
   {
    "duration": 14,
    "start_time": "2022-07-17T16:50:40.403Z"
   },
   {
    "duration": 83,
    "start_time": "2022-07-17T16:50:40.418Z"
   },
   {
    "duration": 4,
    "start_time": "2022-07-17T16:50:40.503Z"
   },
   {
    "duration": 104,
    "start_time": "2022-07-17T16:50:40.509Z"
   },
   {
    "duration": 5,
    "start_time": "2022-07-17T16:50:40.620Z"
   },
   {
    "duration": 7,
    "start_time": "2022-07-17T16:50:40.626Z"
   },
   {
    "duration": 9,
    "start_time": "2022-07-17T16:50:40.635Z"
   },
   {
    "duration": 63,
    "start_time": "2022-07-17T16:50:40.646Z"
   },
   {
    "duration": 9,
    "start_time": "2022-07-17T16:50:40.711Z"
   },
   {
    "duration": 78,
    "start_time": "2022-07-17T16:50:40.724Z"
   },
   {
    "duration": 5,
    "start_time": "2022-07-17T16:50:40.804Z"
   },
   {
    "duration": 12,
    "start_time": "2022-07-17T16:50:40.810Z"
   },
   {
    "duration": 10,
    "start_time": "2022-07-17T16:50:40.824Z"
   },
   {
    "duration": 9,
    "start_time": "2022-07-17T16:50:40.836Z"
   },
   {
    "duration": 7,
    "start_time": "2022-07-17T16:50:40.846Z"
   },
   {
    "duration": 6,
    "start_time": "2022-07-17T16:50:40.854Z"
   },
   {
    "duration": 6,
    "start_time": "2022-07-17T16:50:40.861Z"
   },
   {
    "duration": 36,
    "start_time": "2022-07-17T16:50:40.868Z"
   },
   {
    "duration": 10,
    "start_time": "2022-07-17T16:50:40.906Z"
   },
   {
    "duration": 87,
    "start_time": "2022-07-17T16:50:40.918Z"
   },
   {
    "duration": 96,
    "start_time": "2022-07-17T16:50:41.006Z"
   },
   {
    "duration": 5791,
    "start_time": "2022-07-18T11:44:34.776Z"
   },
   {
    "duration": 117,
    "start_time": "2022-07-18T11:44:40.569Z"
   },
   {
    "duration": 3,
    "start_time": "2022-07-18T11:44:40.688Z"
   },
   {
    "duration": 10,
    "start_time": "2022-07-18T11:44:40.693Z"
   },
   {
    "duration": 11,
    "start_time": "2022-07-18T11:44:40.704Z"
   },
   {
    "duration": 3,
    "start_time": "2022-07-18T11:44:40.717Z"
   },
   {
    "duration": 11,
    "start_time": "2022-07-18T11:44:40.721Z"
   },
   {
    "duration": 38,
    "start_time": "2022-07-18T11:44:40.733Z"
   },
   {
    "duration": 3421,
    "start_time": "2022-07-18T11:44:40.773Z"
   },
   {
    "duration": 3,
    "start_time": "2022-07-18T11:44:45.822Z"
   },
   {
    "duration": 6,
    "start_time": "2022-07-18T11:44:45.963Z"
   },
   {
    "duration": 10,
    "start_time": "2022-07-18T11:44:47.037Z"
   },
   {
    "duration": 10,
    "start_time": "2022-07-18T11:44:47.196Z"
   },
   {
    "duration": 35,
    "start_time": "2022-07-18T11:44:47.475Z"
   },
   {
    "duration": 30,
    "start_time": "2022-07-18T11:44:47.772Z"
   },
   {
    "duration": 31,
    "start_time": "2022-07-18T11:44:53.512Z"
   },
   {
    "duration": 38,
    "start_time": "2022-07-18T11:44:53.828Z"
   },
   {
    "duration": 8,
    "start_time": "2022-07-18T11:44:55.967Z"
   },
   {
    "duration": 5,
    "start_time": "2022-07-18T11:44:56.535Z"
   },
   {
    "duration": 4,
    "start_time": "2022-07-18T11:44:56.695Z"
   },
   {
    "duration": 3,
    "start_time": "2022-07-18T11:44:56.876Z"
   },
   {
    "duration": 35,
    "start_time": "2022-07-18T11:44:57.244Z"
   },
   {
    "duration": 3,
    "start_time": "2022-07-18T11:44:58.129Z"
   },
   {
    "duration": 9,
    "start_time": "2022-07-18T11:44:58.867Z"
   },
   {
    "duration": 4,
    "start_time": "2022-07-18T11:45:00.516Z"
   },
   {
    "duration": 11,
    "start_time": "2022-07-18T11:45:04.783Z"
   },
   {
    "duration": 8191,
    "start_time": "2022-07-18T12:05:29.665Z"
   },
   {
    "duration": 4490,
    "start_time": "2022-07-18T12:05:37.859Z"
   },
   {
    "duration": 74,
    "start_time": "2022-07-18T12:05:42.351Z"
   },
   {
    "duration": 4,
    "start_time": "2022-07-18T12:05:42.426Z"
   },
   {
    "duration": 15,
    "start_time": "2022-07-18T12:05:42.433Z"
   },
   {
    "duration": 14,
    "start_time": "2022-07-18T12:05:42.450Z"
   },
   {
    "duration": 6,
    "start_time": "2022-07-18T12:05:42.465Z"
   },
   {
    "duration": 14,
    "start_time": "2022-07-18T12:05:42.472Z"
   },
   {
    "duration": 43,
    "start_time": "2022-07-18T12:05:42.488Z"
   },
   {
    "duration": 3528,
    "start_time": "2022-07-18T12:05:42.533Z"
   },
   {
    "duration": 3,
    "start_time": "2022-07-18T12:05:46.063Z"
   },
   {
    "duration": 20,
    "start_time": "2022-07-18T12:05:46.068Z"
   },
   {
    "duration": 24,
    "start_time": "2022-07-18T12:05:46.090Z"
   },
   {
    "duration": 11,
    "start_time": "2022-07-18T12:05:46.118Z"
   },
   {
    "duration": 30,
    "start_time": "2022-07-18T12:05:46.131Z"
   },
   {
    "duration": 26,
    "start_time": "2022-07-18T12:05:46.163Z"
   },
   {
    "duration": 53,
    "start_time": "2022-07-18T12:05:46.190Z"
   },
   {
    "duration": 31,
    "start_time": "2022-07-18T12:05:46.245Z"
   },
   {
    "duration": 12,
    "start_time": "2022-07-18T12:05:46.277Z"
   },
   {
    "duration": 11,
    "start_time": "2022-07-18T12:05:46.291Z"
   },
   {
    "duration": 22,
    "start_time": "2022-07-18T12:05:46.306Z"
   },
   {
    "duration": 32,
    "start_time": "2022-07-18T12:05:46.331Z"
   },
   {
    "duration": 40,
    "start_time": "2022-07-18T12:05:46.365Z"
   },
   {
    "duration": 3,
    "start_time": "2022-07-18T12:05:46.407Z"
   },
   {
    "duration": 14,
    "start_time": "2022-07-18T12:05:46.412Z"
   },
   {
    "duration": 5,
    "start_time": "2022-07-18T12:05:46.428Z"
   },
   {
    "duration": 527,
    "start_time": "2022-07-18T12:05:46.434Z"
   },
   {
    "duration": 8,
    "start_time": "2022-07-18T12:05:46.963Z"
   },
   {
    "duration": 535,
    "start_time": "2022-07-18T12:05:46.973Z"
   },
   {
    "duration": 14,
    "start_time": "2022-07-18T12:05:47.510Z"
   },
   {
    "duration": 5,
    "start_time": "2022-07-18T12:05:47.526Z"
   },
   {
    "duration": 15,
    "start_time": "2022-07-18T12:05:47.534Z"
   },
   {
    "duration": 83,
    "start_time": "2022-07-18T12:05:47.552Z"
   },
   {
    "duration": 98,
    "start_time": "2022-07-18T12:05:47.637Z"
   },
   {
    "duration": 92,
    "start_time": "2022-07-18T12:05:47.737Z"
   },
   {
    "duration": 9,
    "start_time": "2022-07-18T12:05:47.831Z"
   },
   {
    "duration": 8,
    "start_time": "2022-07-18T12:05:47.842Z"
   },
   {
    "duration": 75,
    "start_time": "2022-07-18T12:05:47.852Z"
   },
   {
    "duration": 6,
    "start_time": "2022-07-18T12:05:47.928Z"
   },
   {
    "duration": 90,
    "start_time": "2022-07-18T12:05:47.936Z"
   },
   {
    "duration": 7,
    "start_time": "2022-07-18T12:05:48.032Z"
   },
   {
    "duration": 9,
    "start_time": "2022-07-18T12:05:48.041Z"
   },
   {
    "duration": 19,
    "start_time": "2022-07-18T12:05:48.052Z"
   },
   {
    "duration": 12,
    "start_time": "2022-07-18T12:05:48.074Z"
   },
   {
    "duration": 17,
    "start_time": "2022-07-18T12:05:48.088Z"
   },
   {
    "duration": 24,
    "start_time": "2022-07-18T12:05:48.107Z"
   },
   {
    "duration": 6,
    "start_time": "2022-07-18T12:05:48.133Z"
   },
   {
    "duration": 8,
    "start_time": "2022-07-18T12:05:48.141Z"
   },
   {
    "duration": 7,
    "start_time": "2022-07-18T12:05:48.150Z"
   },
   {
    "duration": 61,
    "start_time": "2022-07-18T12:05:48.163Z"
   },
   {
    "duration": 12,
    "start_time": "2022-07-18T12:05:48.226Z"
   },
   {
    "duration": 108,
    "start_time": "2022-07-18T12:05:48.326Z"
   },
   {
    "duration": 23,
    "start_time": "2022-07-18T12:12:18.355Z"
   },
   {
    "duration": 2469,
    "start_time": "2022-07-18T12:12:36.984Z"
   },
   {
    "duration": 3409,
    "start_time": "2022-07-18T12:12:39.456Z"
   },
   {
    "duration": 38,
    "start_time": "2022-07-18T12:12:42.867Z"
   },
   {
    "duration": 3,
    "start_time": "2022-07-18T12:12:42.907Z"
   },
   {
    "duration": 15,
    "start_time": "2022-07-18T12:12:42.912Z"
   },
   {
    "duration": 16,
    "start_time": "2022-07-18T12:12:42.929Z"
   },
   {
    "duration": 4,
    "start_time": "2022-07-18T12:12:42.946Z"
   },
   {
    "duration": 15,
    "start_time": "2022-07-18T12:12:42.951Z"
   },
   {
    "duration": 22,
    "start_time": "2022-07-18T12:12:42.968Z"
   },
   {
    "duration": 3347,
    "start_time": "2022-07-18T12:12:42.992Z"
   },
   {
    "duration": 3,
    "start_time": "2022-07-18T12:12:46.341Z"
   },
   {
    "duration": 5,
    "start_time": "2022-07-18T12:12:46.346Z"
   },
   {
    "duration": 19,
    "start_time": "2022-07-18T12:12:46.353Z"
   },
   {
    "duration": 9,
    "start_time": "2022-07-18T12:12:46.376Z"
   },
   {
    "duration": 41,
    "start_time": "2022-07-18T12:12:46.387Z"
   },
   {
    "duration": 25,
    "start_time": "2022-07-18T12:12:46.429Z"
   },
   {
    "duration": 21,
    "start_time": "2022-07-18T12:12:46.455Z"
   },
   {
    "duration": 20,
    "start_time": "2022-07-18T12:12:46.477Z"
   },
   {
    "duration": 7,
    "start_time": "2022-07-18T12:12:46.523Z"
   },
   {
    "duration": 7,
    "start_time": "2022-07-18T12:12:46.531Z"
   },
   {
    "duration": 5,
    "start_time": "2022-07-18T12:12:46.540Z"
   },
   {
    "duration": 5,
    "start_time": "2022-07-18T12:12:46.546Z"
   },
   {
    "duration": 25,
    "start_time": "2022-07-18T12:12:46.553Z"
   },
   {
    "duration": 5,
    "start_time": "2022-07-18T12:12:46.580Z"
   },
   {
    "duration": 42,
    "start_time": "2022-07-18T12:12:46.586Z"
   },
   {
    "duration": 20,
    "start_time": "2022-07-18T12:12:46.630Z"
   },
   {
    "duration": 418,
    "start_time": "2022-07-18T12:12:46.652Z"
   },
   {
    "duration": 10,
    "start_time": "2022-07-18T12:12:47.071Z"
   },
   {
    "duration": 482,
    "start_time": "2022-07-18T12:12:47.083Z"
   },
   {
    "duration": 5,
    "start_time": "2022-07-18T12:12:47.567Z"
   },
   {
    "duration": 10,
    "start_time": "2022-07-18T12:12:47.573Z"
   },
   {
    "duration": 39,
    "start_time": "2022-07-18T12:12:47.585Z"
   },
   {
    "duration": 97,
    "start_time": "2022-07-18T12:12:47.627Z"
   },
   {
    "duration": 5,
    "start_time": "2022-07-18T12:12:47.727Z"
   },
   {
    "duration": 89,
    "start_time": "2022-07-18T12:12:47.735Z"
   },
   {
    "duration": 4,
    "start_time": "2022-07-18T12:12:47.826Z"
   },
   {
    "duration": 9,
    "start_time": "2022-07-18T12:12:47.832Z"
   },
   {
    "duration": 82,
    "start_time": "2022-07-18T12:12:47.843Z"
   },
   {
    "duration": 5,
    "start_time": "2022-07-18T12:12:47.927Z"
   },
   {
    "duration": 8,
    "start_time": "2022-07-18T12:12:47.934Z"
   },
   {
    "duration": 6,
    "start_time": "2022-07-18T12:12:48.025Z"
   },
   {
    "duration": 14,
    "start_time": "2022-07-18T12:12:48.033Z"
   },
   {
    "duration": 17,
    "start_time": "2022-07-18T12:12:48.049Z"
   },
   {
    "duration": 12,
    "start_time": "2022-07-18T12:12:48.068Z"
   },
   {
    "duration": 19,
    "start_time": "2022-07-18T12:12:48.082Z"
   },
   {
    "duration": 17,
    "start_time": "2022-07-18T12:12:48.103Z"
   },
   {
    "duration": 15,
    "start_time": "2022-07-18T12:12:48.122Z"
   },
   {
    "duration": 14,
    "start_time": "2022-07-18T12:12:48.138Z"
   },
   {
    "duration": 11,
    "start_time": "2022-07-18T12:12:48.153Z"
   },
   {
    "duration": 60,
    "start_time": "2022-07-18T12:12:48.166Z"
   },
   {
    "duration": 107,
    "start_time": "2022-07-18T12:12:48.229Z"
   },
   {
    "duration": 194,
    "start_time": "2022-07-18T12:12:48.341Z"
   },
   {
    "duration": 2444,
    "start_time": "2022-07-18T12:14:10.449Z"
   },
   {
    "duration": 3476,
    "start_time": "2022-07-18T12:14:12.895Z"
   },
   {
    "duration": 39,
    "start_time": "2022-07-18T12:14:16.373Z"
   },
   {
    "duration": 3,
    "start_time": "2022-07-18T12:14:16.414Z"
   },
   {
    "duration": 11,
    "start_time": "2022-07-18T12:14:16.419Z"
   },
   {
    "duration": 13,
    "start_time": "2022-07-18T12:14:16.431Z"
   },
   {
    "duration": 3,
    "start_time": "2022-07-18T12:14:16.446Z"
   },
   {
    "duration": 11,
    "start_time": "2022-07-18T12:14:16.450Z"
   },
   {
    "duration": 21,
    "start_time": "2022-07-18T12:14:16.463Z"
   },
   {
    "duration": 3371,
    "start_time": "2022-07-18T12:14:16.486Z"
   },
   {
    "duration": 3,
    "start_time": "2022-07-18T12:14:19.859Z"
   },
   {
    "duration": 8,
    "start_time": "2022-07-18T12:14:19.863Z"
   },
   {
    "duration": 18,
    "start_time": "2022-07-18T12:14:19.872Z"
   },
   {
    "duration": 9,
    "start_time": "2022-07-18T12:14:19.892Z"
   },
   {
    "duration": 35,
    "start_time": "2022-07-18T12:14:19.903Z"
   },
   {
    "duration": 21,
    "start_time": "2022-07-18T12:14:19.940Z"
   },
   {
    "duration": 22,
    "start_time": "2022-07-18T12:14:19.962Z"
   },
   {
    "duration": 53,
    "start_time": "2022-07-18T12:14:19.986Z"
   },
   {
    "duration": 6,
    "start_time": "2022-07-18T12:14:20.041Z"
   },
   {
    "duration": 24,
    "start_time": "2022-07-18T12:14:20.048Z"
   },
   {
    "duration": 16,
    "start_time": "2022-07-18T12:14:20.074Z"
   },
   {
    "duration": 6,
    "start_time": "2022-07-18T12:14:20.091Z"
   },
   {
    "duration": 27,
    "start_time": "2022-07-18T12:14:20.098Z"
   },
   {
    "duration": 3,
    "start_time": "2022-07-18T12:14:20.126Z"
   },
   {
    "duration": 11,
    "start_time": "2022-07-18T12:14:20.131Z"
   },
   {
    "duration": 4,
    "start_time": "2022-07-18T12:14:20.144Z"
   },
   {
    "duration": 446,
    "start_time": "2022-07-18T12:14:20.149Z"
   },
   {
    "duration": 9,
    "start_time": "2022-07-18T12:14:20.596Z"
   },
   {
    "duration": 409,
    "start_time": "2022-07-18T12:14:20.623Z"
   },
   {
    "duration": 5,
    "start_time": "2022-07-18T12:14:21.033Z"
   },
   {
    "duration": 8,
    "start_time": "2022-07-18T12:14:21.039Z"
   },
   {
    "duration": 11,
    "start_time": "2022-07-18T12:14:21.049Z"
   },
   {
    "duration": 70,
    "start_time": "2022-07-18T12:14:21.061Z"
   },
   {
    "duration": 95,
    "start_time": "2022-07-18T12:14:21.133Z"
   },
   {
    "duration": 94,
    "start_time": "2022-07-18T12:14:21.230Z"
   },
   {
    "duration": 4,
    "start_time": "2022-07-18T12:14:21.326Z"
   },
   {
    "duration": 7,
    "start_time": "2022-07-18T12:14:21.332Z"
   },
   {
    "duration": 12,
    "start_time": "2022-07-18T12:14:21.340Z"
   },
   {
    "duration": 13,
    "start_time": "2022-07-18T12:14:21.424Z"
   },
   {
    "duration": 86,
    "start_time": "2022-07-18T12:14:21.439Z"
   },
   {
    "duration": 5,
    "start_time": "2022-07-18T12:14:21.528Z"
   },
   {
    "duration": 8,
    "start_time": "2022-07-18T12:14:21.535Z"
   },
   {
    "duration": 12,
    "start_time": "2022-07-18T12:14:21.544Z"
   },
   {
    "duration": 11,
    "start_time": "2022-07-18T12:14:21.558Z"
   },
   {
    "duration": 13,
    "start_time": "2022-07-18T12:14:21.570Z"
   },
   {
    "duration": 8,
    "start_time": "2022-07-18T12:14:21.584Z"
   },
   {
    "duration": 31,
    "start_time": "2022-07-18T12:14:21.594Z"
   },
   {
    "duration": 10,
    "start_time": "2022-07-18T12:14:21.627Z"
   },
   {
    "duration": 9,
    "start_time": "2022-07-18T12:14:21.639Z"
   },
   {
    "duration": 12,
    "start_time": "2022-07-18T12:14:21.650Z"
   },
   {
    "duration": 11,
    "start_time": "2022-07-18T12:14:21.725Z"
   },
   {
    "duration": 102,
    "start_time": "2022-07-18T12:14:21.826Z"
   },
   {
    "duration": 25,
    "start_time": "2022-07-18T12:16:36.311Z"
   },
   {
    "duration": 2546,
    "start_time": "2022-07-18T12:16:45.521Z"
   },
   {
    "duration": 3455,
    "start_time": "2022-07-18T12:16:48.069Z"
   },
   {
    "duration": 40,
    "start_time": "2022-07-18T12:16:51.525Z"
   },
   {
    "duration": 4,
    "start_time": "2022-07-18T12:16:51.567Z"
   },
   {
    "duration": 13,
    "start_time": "2022-07-18T12:16:51.574Z"
   },
   {
    "duration": 21,
    "start_time": "2022-07-18T12:16:51.589Z"
   },
   {
    "duration": 5,
    "start_time": "2022-07-18T12:16:51.613Z"
   },
   {
    "duration": 13,
    "start_time": "2022-07-18T12:16:51.620Z"
   },
   {
    "duration": 23,
    "start_time": "2022-07-18T12:16:51.635Z"
   },
   {
    "duration": 3429,
    "start_time": "2022-07-18T12:16:51.659Z"
   },
   {
    "duration": 4,
    "start_time": "2022-07-18T12:16:55.090Z"
   },
   {
    "duration": 10,
    "start_time": "2022-07-18T12:16:55.096Z"
   },
   {
    "duration": 22,
    "start_time": "2022-07-18T12:16:55.108Z"
   },
   {
    "duration": 10,
    "start_time": "2022-07-18T12:16:55.133Z"
   },
   {
    "duration": 24,
    "start_time": "2022-07-18T12:16:55.145Z"
   },
   {
    "duration": 25,
    "start_time": "2022-07-18T12:16:55.171Z"
   },
   {
    "duration": 47,
    "start_time": "2022-07-18T12:16:55.198Z"
   },
   {
    "duration": 22,
    "start_time": "2022-07-18T12:16:55.247Z"
   },
   {
    "duration": 7,
    "start_time": "2022-07-18T12:16:55.271Z"
   },
   {
    "duration": 7,
    "start_time": "2022-07-18T12:16:55.280Z"
   },
   {
    "duration": 42,
    "start_time": "2022-07-18T12:16:55.289Z"
   },
   {
    "duration": 13,
    "start_time": "2022-07-18T12:16:55.332Z"
   },
   {
    "duration": 28,
    "start_time": "2022-07-18T12:16:55.347Z"
   },
   {
    "duration": 3,
    "start_time": "2022-07-18T12:16:55.377Z"
   },
   {
    "duration": 11,
    "start_time": "2022-07-18T12:16:55.381Z"
   },
   {
    "duration": 6,
    "start_time": "2022-07-18T12:16:55.394Z"
   },
   {
    "duration": 444,
    "start_time": "2022-07-18T12:16:55.402Z"
   },
   {
    "duration": 10,
    "start_time": "2022-07-18T12:16:55.847Z"
   },
   {
    "duration": 423,
    "start_time": "2022-07-18T12:16:55.859Z"
   },
   {
    "duration": 5,
    "start_time": "2022-07-18T12:16:56.284Z"
   },
   {
    "duration": 8,
    "start_time": "2022-07-18T12:16:56.291Z"
   },
   {
    "duration": 29,
    "start_time": "2022-07-18T12:16:56.301Z"
   },
   {
    "duration": 95,
    "start_time": "2022-07-18T12:16:56.333Z"
   },
   {
    "duration": 4,
    "start_time": "2022-07-18T12:16:56.430Z"
   },
   {
    "duration": 94,
    "start_time": "2022-07-18T12:16:56.436Z"
   },
   {
    "duration": 9,
    "start_time": "2022-07-18T12:16:56.531Z"
   },
   {
    "duration": 8,
    "start_time": "2022-07-18T12:16:56.542Z"
   },
   {
    "duration": 75,
    "start_time": "2022-07-18T12:16:56.552Z"
   },
   {
    "duration": 7,
    "start_time": "2022-07-18T12:16:56.629Z"
   },
   {
    "duration": 88,
    "start_time": "2022-07-18T12:16:56.638Z"
   },
   {
    "duration": 6,
    "start_time": "2022-07-18T12:16:56.730Z"
   },
   {
    "duration": 10,
    "start_time": "2022-07-18T12:16:56.738Z"
   },
   {
    "duration": 19,
    "start_time": "2022-07-18T12:16:56.750Z"
   },
   {
    "duration": 14,
    "start_time": "2022-07-18T12:16:56.770Z"
   },
   {
    "duration": 11,
    "start_time": "2022-07-18T12:16:56.786Z"
   },
   {
    "duration": 11,
    "start_time": "2022-07-18T12:16:56.799Z"
   },
   {
    "duration": 13,
    "start_time": "2022-07-18T12:16:56.812Z"
   },
   {
    "duration": 16,
    "start_time": "2022-07-18T12:16:56.827Z"
   },
   {
    "duration": 10,
    "start_time": "2022-07-18T12:16:56.845Z"
   },
   {
    "duration": 8,
    "start_time": "2022-07-18T12:16:56.857Z"
   },
   {
    "duration": 68,
    "start_time": "2022-07-18T12:16:56.867Z"
   },
   {
    "duration": 96,
    "start_time": "2022-07-18T12:16:56.937Z"
   },
   {
    "duration": 23,
    "start_time": "2022-07-18T12:20:14.040Z"
   },
   {
    "duration": 23,
    "start_time": "2022-07-18T12:20:21.579Z"
   },
   {
    "duration": 25,
    "start_time": "2022-07-18T12:20:29.817Z"
   },
   {
    "duration": 26,
    "start_time": "2022-07-18T12:20:44.519Z"
   },
   {
    "duration": 23,
    "start_time": "2022-07-18T12:20:59.017Z"
   },
   {
    "duration": 2498,
    "start_time": "2022-07-18T12:21:27.719Z"
   },
   {
    "duration": 3547,
    "start_time": "2022-07-18T12:21:30.219Z"
   },
   {
    "duration": 40,
    "start_time": "2022-07-18T12:21:33.768Z"
   },
   {
    "duration": 4,
    "start_time": "2022-07-18T12:21:33.809Z"
   },
   {
    "duration": 14,
    "start_time": "2022-07-18T12:21:33.815Z"
   },
   {
    "duration": 15,
    "start_time": "2022-07-18T12:21:33.830Z"
   },
   {
    "duration": 6,
    "start_time": "2022-07-18T12:21:33.847Z"
   },
   {
    "duration": 15,
    "start_time": "2022-07-18T12:21:33.855Z"
   },
   {
    "duration": 27,
    "start_time": "2022-07-18T12:21:33.871Z"
   },
   {
    "duration": 3312,
    "start_time": "2022-07-18T12:21:33.899Z"
   },
   {
    "duration": 13,
    "start_time": "2022-07-18T12:21:37.213Z"
   },
   {
    "duration": 8,
    "start_time": "2022-07-18T12:21:37.228Z"
   },
   {
    "duration": 20,
    "start_time": "2022-07-18T12:21:37.238Z"
   },
   {
    "duration": 18,
    "start_time": "2022-07-18T12:21:37.261Z"
   },
   {
    "duration": 43,
    "start_time": "2022-07-18T12:21:37.281Z"
   },
   {
    "duration": 33,
    "start_time": "2022-07-18T12:21:37.327Z"
   },
   {
    "duration": 30,
    "start_time": "2022-07-18T12:21:37.363Z"
   },
   {
    "duration": 52,
    "start_time": "2022-07-18T12:21:37.394Z"
   },
   {
    "duration": 7,
    "start_time": "2022-07-18T12:21:37.448Z"
   },
   {
    "duration": 18,
    "start_time": "2022-07-18T12:21:37.456Z"
   },
   {
    "duration": 10,
    "start_time": "2022-07-18T12:21:37.476Z"
   },
   {
    "duration": 8,
    "start_time": "2022-07-18T12:21:37.488Z"
   },
   {
    "duration": 38,
    "start_time": "2022-07-18T12:21:37.498Z"
   },
   {
    "duration": 3,
    "start_time": "2022-07-18T12:21:37.538Z"
   },
   {
    "duration": 10,
    "start_time": "2022-07-18T12:21:37.543Z"
   },
   {
    "duration": 6,
    "start_time": "2022-07-18T12:21:37.554Z"
   },
   {
    "duration": 419,
    "start_time": "2022-07-18T12:21:37.561Z"
   },
   {
    "duration": 8,
    "start_time": "2022-07-18T12:21:37.982Z"
   },
   {
    "duration": 437,
    "start_time": "2022-07-18T12:21:37.991Z"
   },
   {
    "duration": 4,
    "start_time": "2022-07-18T12:21:38.430Z"
   },
   {
    "duration": 6,
    "start_time": "2022-07-18T12:21:38.436Z"
   },
   {
    "duration": 15,
    "start_time": "2022-07-18T12:21:38.443Z"
   },
   {
    "duration": 68,
    "start_time": "2022-07-18T12:21:38.460Z"
   },
   {
    "duration": 95,
    "start_time": "2022-07-18T12:21:38.530Z"
   },
   {
    "duration": 12,
    "start_time": "2022-07-18T12:21:38.628Z"
   },
   {
    "duration": 10,
    "start_time": "2022-07-18T12:21:38.724Z"
   },
   {
    "duration": 12,
    "start_time": "2022-07-18T12:21:38.735Z"
   },
   {
    "duration": 10,
    "start_time": "2022-07-18T12:21:38.748Z"
   },
   {
    "duration": 5,
    "start_time": "2022-07-18T12:21:38.824Z"
   },
   {
    "duration": 96,
    "start_time": "2022-07-18T12:21:38.831Z"
   },
   {
    "duration": 14,
    "start_time": "2022-07-18T12:21:38.931Z"
   },
   {
    "duration": 6,
    "start_time": "2022-07-18T12:21:38.947Z"
   },
   {
    "duration": 14,
    "start_time": "2022-07-18T12:21:38.955Z"
   },
   {
    "duration": 12,
    "start_time": "2022-07-18T12:21:38.970Z"
   },
   {
    "duration": 12,
    "start_time": "2022-07-18T12:21:38.984Z"
   },
   {
    "duration": 13,
    "start_time": "2022-07-18T12:21:38.997Z"
   },
   {
    "duration": 7,
    "start_time": "2022-07-18T12:21:39.011Z"
   },
   {
    "duration": 12,
    "start_time": "2022-07-18T12:21:39.020Z"
   },
   {
    "duration": 7,
    "start_time": "2022-07-18T12:21:39.033Z"
   },
   {
    "duration": 9,
    "start_time": "2022-07-18T12:21:39.041Z"
   },
   {
    "duration": 82,
    "start_time": "2022-07-18T12:21:39.052Z"
   },
   {
    "duration": 101,
    "start_time": "2022-07-18T12:21:39.136Z"
   },
   {
    "duration": 25,
    "start_time": "2022-07-18T12:21:56.618Z"
   },
   {
    "duration": 24,
    "start_time": "2022-07-18T12:22:13.536Z"
   },
   {
    "duration": 2512,
    "start_time": "2022-07-18T12:22:23.721Z"
   },
   {
    "duration": 3454,
    "start_time": "2022-07-18T12:22:26.235Z"
   },
   {
    "duration": 40,
    "start_time": "2022-07-18T12:22:29.691Z"
   },
   {
    "duration": 3,
    "start_time": "2022-07-18T12:22:29.733Z"
   },
   {
    "duration": 14,
    "start_time": "2022-07-18T12:22:29.738Z"
   },
   {
    "duration": 14,
    "start_time": "2022-07-18T12:22:29.753Z"
   },
   {
    "duration": 3,
    "start_time": "2022-07-18T12:22:29.769Z"
   },
   {
    "duration": 26,
    "start_time": "2022-07-18T12:22:29.774Z"
   },
   {
    "duration": 38,
    "start_time": "2022-07-18T12:22:29.801Z"
   },
   {
    "duration": 3497,
    "start_time": "2022-07-18T12:22:29.842Z"
   },
   {
    "duration": 3,
    "start_time": "2022-07-18T12:22:33.340Z"
   },
   {
    "duration": 9,
    "start_time": "2022-07-18T12:22:33.345Z"
   },
   {
    "duration": 26,
    "start_time": "2022-07-18T12:22:33.355Z"
   },
   {
    "duration": 11,
    "start_time": "2022-07-18T12:22:33.382Z"
   },
   {
    "duration": 39,
    "start_time": "2022-07-18T12:22:33.395Z"
   },
   {
    "duration": 23,
    "start_time": "2022-07-18T12:22:33.436Z"
   },
   {
    "duration": 29,
    "start_time": "2022-07-18T12:22:33.461Z"
   },
   {
    "duration": 54,
    "start_time": "2022-07-18T12:22:33.491Z"
   },
   {
    "duration": 8,
    "start_time": "2022-07-18T12:22:33.546Z"
   },
   {
    "duration": 8,
    "start_time": "2022-07-18T12:22:33.556Z"
   },
   {
    "duration": 12,
    "start_time": "2022-07-18T12:22:33.565Z"
   },
   {
    "duration": 7,
    "start_time": "2022-07-18T12:22:33.578Z"
   },
   {
    "duration": 52,
    "start_time": "2022-07-18T12:22:33.586Z"
   },
   {
    "duration": 4,
    "start_time": "2022-07-18T12:22:33.640Z"
   },
   {
    "duration": 12,
    "start_time": "2022-07-18T12:22:33.645Z"
   },
   {
    "duration": 4,
    "start_time": "2022-07-18T12:22:33.659Z"
   },
   {
    "duration": 441,
    "start_time": "2022-07-18T12:22:33.665Z"
   },
   {
    "duration": 21,
    "start_time": "2022-07-18T12:22:34.110Z"
   },
   {
    "duration": 451,
    "start_time": "2022-07-18T12:22:34.133Z"
   },
   {
    "duration": 5,
    "start_time": "2022-07-18T12:22:34.587Z"
   },
   {
    "duration": 16,
    "start_time": "2022-07-18T12:22:34.594Z"
   },
   {
    "duration": 16,
    "start_time": "2022-07-18T12:22:34.624Z"
   },
   {
    "duration": 89,
    "start_time": "2022-07-18T12:22:34.642Z"
   },
   {
    "duration": 97,
    "start_time": "2022-07-18T12:22:34.733Z"
   },
   {
    "duration": 95,
    "start_time": "2022-07-18T12:22:34.834Z"
   },
   {
    "duration": 15,
    "start_time": "2022-07-18T12:22:34.931Z"
   },
   {
    "duration": 16,
    "start_time": "2022-07-18T12:22:34.948Z"
   },
   {
    "duration": 58,
    "start_time": "2022-07-18T12:22:34.966Z"
   },
   {
    "duration": 8,
    "start_time": "2022-07-18T12:22:35.026Z"
   },
   {
    "duration": 89,
    "start_time": "2022-07-18T12:22:35.036Z"
   },
   {
    "duration": 9,
    "start_time": "2022-07-18T12:22:35.127Z"
   },
   {
    "duration": 7,
    "start_time": "2022-07-18T12:22:35.138Z"
   },
   {
    "duration": 13,
    "start_time": "2022-07-18T12:22:35.147Z"
   },
   {
    "duration": 14,
    "start_time": "2022-07-18T12:22:35.162Z"
   },
   {
    "duration": 20,
    "start_time": "2022-07-18T12:22:35.178Z"
   },
   {
    "duration": 9,
    "start_time": "2022-07-18T12:22:35.200Z"
   },
   {
    "duration": 15,
    "start_time": "2022-07-18T12:22:35.210Z"
   },
   {
    "duration": 23,
    "start_time": "2022-07-18T12:22:35.227Z"
   },
   {
    "duration": 10,
    "start_time": "2022-07-18T12:22:35.252Z"
   },
   {
    "duration": 61,
    "start_time": "2022-07-18T12:22:35.264Z"
   },
   {
    "duration": 98,
    "start_time": "2022-07-18T12:22:35.327Z"
   },
   {
    "duration": 104,
    "start_time": "2022-07-18T12:22:35.427Z"
   },
   {
    "duration": 2831,
    "start_time": "2022-07-18T12:27:00.424Z"
   },
   {
    "duration": 3782,
    "start_time": "2022-07-18T12:27:03.258Z"
   },
   {
    "duration": 40,
    "start_time": "2022-07-18T12:27:07.043Z"
   },
   {
    "duration": 4,
    "start_time": "2022-07-18T12:27:07.084Z"
   },
   {
    "duration": 19,
    "start_time": "2022-07-18T12:27:07.090Z"
   },
   {
    "duration": 20,
    "start_time": "2022-07-18T12:27:07.110Z"
   },
   {
    "duration": 14,
    "start_time": "2022-07-18T12:27:07.135Z"
   },
   {
    "duration": 12,
    "start_time": "2022-07-18T12:27:07.151Z"
   },
   {
    "duration": 24,
    "start_time": "2022-07-18T12:27:07.165Z"
   },
   {
    "duration": 3763,
    "start_time": "2022-07-18T12:27:07.191Z"
   },
   {
    "duration": 3,
    "start_time": "2022-07-18T12:27:10.956Z"
   },
   {
    "duration": 10,
    "start_time": "2022-07-18T12:27:10.962Z"
   },
   {
    "duration": 13,
    "start_time": "2022-07-18T12:27:10.973Z"
   },
   {
    "duration": 11,
    "start_time": "2022-07-18T12:27:10.988Z"
   },
   {
    "duration": 44,
    "start_time": "2022-07-18T12:27:11.000Z"
   },
   {
    "duration": 25,
    "start_time": "2022-07-18T12:27:11.046Z"
   },
   {
    "duration": 21,
    "start_time": "2022-07-18T12:27:11.073Z"
   },
   {
    "duration": 47,
    "start_time": "2022-07-18T12:27:11.096Z"
   },
   {
    "duration": 8,
    "start_time": "2022-07-18T12:27:11.145Z"
   },
   {
    "duration": 6,
    "start_time": "2022-07-18T12:27:11.155Z"
   },
   {
    "duration": 5,
    "start_time": "2022-07-18T12:27:11.163Z"
   },
   {
    "duration": 9,
    "start_time": "2022-07-18T12:27:11.169Z"
   },
   {
    "duration": 58,
    "start_time": "2022-07-18T12:27:11.180Z"
   },
   {
    "duration": 5,
    "start_time": "2022-07-18T12:27:11.239Z"
   },
   {
    "duration": 14,
    "start_time": "2022-07-18T12:27:11.246Z"
   },
   {
    "duration": 7,
    "start_time": "2022-07-18T12:27:11.262Z"
   },
   {
    "duration": 421,
    "start_time": "2022-07-18T12:27:11.270Z"
   },
   {
    "duration": 9,
    "start_time": "2022-07-18T12:27:11.692Z"
   },
   {
    "duration": 469,
    "start_time": "2022-07-18T12:27:11.702Z"
   },
   {
    "duration": 4,
    "start_time": "2022-07-18T12:27:12.173Z"
   },
   {
    "duration": 13,
    "start_time": "2022-07-18T12:27:12.178Z"
   },
   {
    "duration": 37,
    "start_time": "2022-07-18T12:27:12.193Z"
   },
   {
    "duration": 97,
    "start_time": "2022-07-18T12:27:12.233Z"
   },
   {
    "duration": 8,
    "start_time": "2022-07-18T12:27:12.332Z"
   },
   {
    "duration": 94,
    "start_time": "2022-07-18T12:27:12.342Z"
   },
   {
    "duration": 12,
    "start_time": "2022-07-18T12:27:12.438Z"
   },
   {
    "duration": 10,
    "start_time": "2022-07-18T12:27:12.451Z"
   },
   {
    "duration": 66,
    "start_time": "2022-07-18T12:27:12.463Z"
   },
   {
    "duration": 10,
    "start_time": "2022-07-18T12:27:12.531Z"
   },
   {
    "duration": 80,
    "start_time": "2022-07-18T12:27:12.545Z"
   },
   {
    "duration": 22,
    "start_time": "2022-07-18T12:27:12.630Z"
   },
   {
    "duration": 7,
    "start_time": "2022-07-18T12:27:12.653Z"
   },
   {
    "duration": 15,
    "start_time": "2022-07-18T12:27:12.661Z"
   },
   {
    "duration": 16,
    "start_time": "2022-07-18T12:27:12.678Z"
   },
   {
    "duration": 14,
    "start_time": "2022-07-18T12:27:12.696Z"
   },
   {
    "duration": 11,
    "start_time": "2022-07-18T12:27:12.711Z"
   },
   {
    "duration": 21,
    "start_time": "2022-07-18T12:27:12.723Z"
   },
   {
    "duration": 9,
    "start_time": "2022-07-18T12:27:12.746Z"
   },
   {
    "duration": 7,
    "start_time": "2022-07-18T12:27:12.756Z"
   },
   {
    "duration": 10,
    "start_time": "2022-07-18T12:27:12.765Z"
   },
   {
    "duration": 107,
    "start_time": "2022-07-18T12:27:12.828Z"
   },
   {
    "duration": 106,
    "start_time": "2022-07-18T12:27:12.937Z"
   },
   {
    "duration": 2586,
    "start_time": "2022-07-18T12:46:22.803Z"
   },
   {
    "duration": 3573,
    "start_time": "2022-07-18T12:46:25.391Z"
   },
   {
    "duration": 40,
    "start_time": "2022-07-18T12:46:28.965Z"
   },
   {
    "duration": 3,
    "start_time": "2022-07-18T12:46:29.007Z"
   },
   {
    "duration": 14,
    "start_time": "2022-07-18T12:46:29.011Z"
   },
   {
    "duration": 24,
    "start_time": "2022-07-18T12:46:29.026Z"
   },
   {
    "duration": 6,
    "start_time": "2022-07-18T12:46:29.052Z"
   },
   {
    "duration": 33,
    "start_time": "2022-07-18T12:46:29.060Z"
   },
   {
    "duration": 35,
    "start_time": "2022-07-18T12:46:29.096Z"
   },
   {
    "duration": 3593,
    "start_time": "2022-07-18T12:46:29.139Z"
   },
   {
    "duration": 3,
    "start_time": "2022-07-18T12:46:32.738Z"
   },
   {
    "duration": 8,
    "start_time": "2022-07-18T12:46:32.743Z"
   },
   {
    "duration": 27,
    "start_time": "2022-07-18T12:46:32.752Z"
   },
   {
    "duration": 23,
    "start_time": "2022-07-18T12:46:32.780Z"
   },
   {
    "duration": 30,
    "start_time": "2022-07-18T12:46:32.805Z"
   },
   {
    "duration": 25,
    "start_time": "2022-07-18T12:46:32.838Z"
   },
   {
    "duration": 24,
    "start_time": "2022-07-18T12:46:32.865Z"
   },
   {
    "duration": 49,
    "start_time": "2022-07-18T12:46:32.891Z"
   },
   {
    "duration": 11,
    "start_time": "2022-07-18T12:46:32.942Z"
   },
   {
    "duration": 8,
    "start_time": "2022-07-18T12:46:32.955Z"
   },
   {
    "duration": 8,
    "start_time": "2022-07-18T12:46:32.965Z"
   },
   {
    "duration": 7,
    "start_time": "2022-07-18T12:46:32.974Z"
   },
   {
    "duration": 29,
    "start_time": "2022-07-18T12:46:32.982Z"
   },
   {
    "duration": 4,
    "start_time": "2022-07-18T12:46:33.026Z"
   },
   {
    "duration": 24,
    "start_time": "2022-07-18T12:46:33.037Z"
   },
   {
    "duration": 13,
    "start_time": "2022-07-18T12:46:33.062Z"
   },
   {
    "duration": 434,
    "start_time": "2022-07-18T12:46:33.077Z"
   },
   {
    "duration": 27,
    "start_time": "2022-07-18T12:46:33.514Z"
   },
   {
    "duration": 424,
    "start_time": "2022-07-18T12:46:33.542Z"
   },
   {
    "duration": 4,
    "start_time": "2022-07-18T12:46:33.968Z"
   },
   {
    "duration": 11,
    "start_time": "2022-07-18T12:46:33.974Z"
   },
   {
    "duration": 14,
    "start_time": "2022-07-18T12:46:33.986Z"
   },
   {
    "duration": 138,
    "start_time": "2022-07-18T12:46:34.001Z"
   },
   {
    "duration": 86,
    "start_time": "2022-07-18T12:46:34.141Z"
   },
   {
    "duration": 6,
    "start_time": "2022-07-18T12:46:34.231Z"
   },
   {
    "duration": 93,
    "start_time": "2022-07-18T12:46:34.238Z"
   },
   {
    "duration": 39,
    "start_time": "2022-07-18T12:46:34.333Z"
   },
   {
    "duration": 8,
    "start_time": "2022-07-18T12:46:34.374Z"
   },
   {
    "duration": 53,
    "start_time": "2022-07-18T12:46:34.384Z"
   },
   {
    "duration": 86,
    "start_time": "2022-07-18T12:46:34.444Z"
   },
   {
    "duration": 19,
    "start_time": "2022-07-18T12:46:34.532Z"
   },
   {
    "duration": 9,
    "start_time": "2022-07-18T12:46:34.554Z"
   },
   {
    "duration": 28,
    "start_time": "2022-07-18T12:46:34.565Z"
   },
   {
    "duration": 27,
    "start_time": "2022-07-18T12:46:34.595Z"
   },
   {
    "duration": 25,
    "start_time": "2022-07-18T12:46:34.624Z"
   },
   {
    "duration": 14,
    "start_time": "2022-07-18T12:46:34.651Z"
   },
   {
    "duration": 6,
    "start_time": "2022-07-18T12:46:34.667Z"
   },
   {
    "duration": 10,
    "start_time": "2022-07-18T12:46:34.675Z"
   },
   {
    "duration": 12,
    "start_time": "2022-07-18T12:46:34.687Z"
   },
   {
    "duration": 23,
    "start_time": "2022-07-18T12:46:34.702Z"
   },
   {
    "duration": 99,
    "start_time": "2022-07-18T12:46:34.727Z"
   },
   {
    "duration": 124,
    "start_time": "2022-07-18T12:46:34.828Z"
   }
  ],
  "kernelspec": {
   "display_name": "Python 3 (ipykernel)",
   "language": "python",
   "name": "python3"
  },
  "language_info": {
   "codemirror_mode": {
    "name": "ipython",
    "version": 3
   },
   "file_extension": ".py",
   "mimetype": "text/x-python",
   "name": "python",
   "nbconvert_exporter": "python",
   "pygments_lexer": "ipython3",
   "version": "3.9.5"
  },
  "toc": {
   "base_numbering": 1,
   "nav_menu": {},
   "number_sections": true,
   "sideBar": true,
   "skip_h1_title": true,
   "title_cell": "Table of Contents",
   "title_sidebar": "Contents",
   "toc_cell": false,
   "toc_position": {},
   "toc_section_display": true,
   "toc_window_display": false
  }
 },
 "nbformat": 4,
 "nbformat_minor": 4
}
